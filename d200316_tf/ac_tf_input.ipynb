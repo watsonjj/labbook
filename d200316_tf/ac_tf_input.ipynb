{
 "cells": [
  {
   "cell_type": "markdown",
   "metadata": {},
   "source": [
    "# Investigating AC TF Input files\n",
    "This notebook investigates the TF Input files that were created during the sprint at MPIK on 24/03/2020. There seems to be a problem with the scaling during the transformation from TF Input file to TF file. I will begin by checking the TF input files against the old TF Input file for the module"
   ]
  },
  {
   "cell_type": "code",
   "execution_count": 31,
   "metadata": {},
   "outputs": [],
   "source": [
    "import fitsio\n",
    "from target_calib import TFInputArrayReader\n",
    "import numpy as np\n",
    "from matplotlib import pyplot as plt\n",
    "%matplotlib widget"
   ]
  },
  {
   "cell_type": "code",
   "execution_count": 2,
   "metadata": {},
   "outputs": [],
   "source": [
    "paths = {\n",
    "    \"old\": \"/Users/Jason/Downloads/tempdata/CHEC-S_tf_data/SN0067/TFInput_File_SN0067_180213.tcal\",\n",
    "    \"T20\": \"/Users/Jason/Downloads/tempdata/mpik_tf/tfinputs/TFInput_File_SN0067_20.tcal\",\n",
    "    \"T25\": \"/Users/Jason/Downloads/tempdata/mpik_tf/tfinputs/TFInput_File_SN0067_25.tcal\",\n",
    "    \"T30\": \"/Users/Jason/Downloads/tempdata/mpik_tf/tfinputs/TFInput_File_SN0067_30.tcal\",\n",
    "    \"T35\": \"/Users/Jason/Downloads/tempdata/mpik_tf/tfinputs/TFInput_File_SN0067_35.tcal\",\n",
    "    \"T40\": \"/Users/Jason/Downloads/tempdata/mpik_tf/tfinputs/TFInput_File_SN0067_40.tcal\",\n",
    "    \"T45\": \"/Users/Jason/Downloads/tempdata/mpik_tf/tfinputs/TFInput_File_SN0067_45.tcal\"\n",
    "}"
   ]
  },
  {
   "cell_type": "code",
   "execution_count": 14,
   "metadata": {},
   "outputs": [],
   "source": [
    "def read_tf_fitsio(path):\n",
    "    with fitsio.FITS(path) as file:\n",
    "        header = file[0].read_header()\n",
    "        n_pixels = int(header['TM'] * header['PIX'])\n",
    "        n_cells = int(header['CELLS'])\n",
    "        n_amplitudes = int(header['PNTS'])\n",
    "        data = file[\"DATA\"].read(columns=\"CELLS\").reshape((n_pixels, n_cells, n_amplitudes))\n",
    "        amplitudes = file[\"AMPLITUDES\"].read(columns=\"CELLS\").astype('float64')\n",
    "        return data, amplitudes"
   ]
  },
  {
   "cell_type": "code",
   "execution_count": 24,
   "metadata": {},
   "outputs": [
    {
     "name": "stderr",
     "output_type": "stream",
     "text": [
      "/Users/jason/opt/anaconda3/envs/cta/lib/python3.7/site-packages/ipykernel_launcher.py:1: RuntimeWarning: More than 20 figures have been opened. Figures created through the pyplot interface (`matplotlib.pyplot.figure`) are retained until explicitly closed and may consume too much memory. (To control this warning, see the rcParam `figure.max_open_warning`).\n",
      "  \"\"\"Entry point for launching an IPython kernel.\n"
     ]
    },
    {
     "data": {
      "application/vnd.jupyter.widget-view+json": {
       "model_id": "aaf4a561ebf54144b9f50911b75ae84c",
       "version_major": 2,
       "version_minor": 0
      },
      "text/plain": [
       "Canvas(toolbar=Toolbar(toolitems=[('Home', 'Reset original view', 'home', 'home'), ('Back', 'Back to previous …"
      ]
     },
     "metadata": {},
     "output_type": "display_data"
    },
    {
     "data": {
      "text/plain": [
       "<matplotlib.legend.Legend at 0x20f880f90>"
      ]
     },
     "execution_count": 24,
     "metadata": {},
     "output_type": "execute_result"
    }
   ],
   "source": [
    "fig, ax = plt.subplots()\n",
    "for key, path in paths.items():\n",
    "    tf, amplitudes = read_tf_fitsio(path)\n",
    "    ax.plot(amplitudes, tf[0, 0], label=key)\n",
    "ax.set_xlabel(\"Input Amplitude (V)\")\n",
    "ax.set_ylabel(\"Pedestal-subtracted ADC\")\n",
    "ax.legend(loc='best')"
   ]
  },
  {
   "cell_type": "markdown",
   "metadata": {},
   "source": [
    "The input amplitude appears to be incorrectly calibrated by a scale factor. The lab setup should be checked (e.g. load setting for the pulse generator)."
   ]
  },
  {
   "cell_type": "markdown",
   "metadata": {},
   "source": [
    "## Check to see if TargetCalib can be used instead of fitsio"
   ]
  },
  {
   "cell_type": "code",
   "execution_count": 32,
   "metadata": {},
   "outputs": [],
   "source": [
    "def read_tf_targetcalib(path):\n",
    "    reader = TFInputArrayReader(paths['old'])\n",
    "    tf = np.array(reader.GetTFInput())\n",
    "    amplitudes = np.array(reader.GetAmplitudes())\n",
    "    return tf, amplitudes"
   ]
  },
  {
   "cell_type": "code",
   "execution_count": 33,
   "metadata": {},
   "outputs": [
    {
     "data": {
      "application/vnd.jupyter.widget-view+json": {
       "model_id": "7ff4b763f0a54aa782501a4bc97f0469",
       "version_major": 2,
       "version_minor": 0
      },
      "text/plain": [
       "Canvas(toolbar=Toolbar(toolitems=[('Home', 'Reset original view', 'home', 'home'), ('Back', 'Back to previous …"
      ]
     },
     "metadata": {},
     "output_type": "display_data"
    },
    {
     "data": {
      "text/plain": [
       "<matplotlib.legend.Legend at 0x2296b6950>"
      ]
     },
     "execution_count": 33,
     "metadata": {},
     "output_type": "execute_result"
    }
   ],
   "source": [
    "fig, ax = plt.subplots()\n",
    "for key, path in paths.items():\n",
    "    tf, amplitudes = read_tf_fitsio(path)\n",
    "    ax.plot(amplitudes, tf[0, 0], label=key)\n",
    "ax.set_xlabel(\"Input Amplitude (V)\")\n",
    "ax.set_ylabel(\"Pedestal-subtracted ADC\")\n",
    "ax.legend(loc='best')"
   ]
  }
 ],
 "metadata": {
  "kernelspec": {
   "display_name": "Python [conda env:cta] *",
   "language": "python",
   "name": "conda-env-cta-py"
  },
  "language_info": {
   "codemirror_mode": {
    "name": "ipython",
    "version": 3
   },
   "file_extension": ".py",
   "mimetype": "text/x-python",
   "name": "python",
   "nbconvert_exporter": "python",
   "pygments_lexer": "ipython3",
   "version": "3.7.5"
  }
 },
 "nbformat": 4,
 "nbformat_minor": 4
}
