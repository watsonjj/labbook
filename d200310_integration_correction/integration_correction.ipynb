{
 "cells": [
  {
   "cell_type": "code",
   "execution_count": 2,
   "metadata": {},
   "outputs": [],
   "source": [
    "# Prepare notebook\n",
    "from matplotlib import pyplot as plt\n",
    "import re\n",
    "import numpy as np\n",
    "import pandas as pd\n",
    "from numpy.polynomial.polynomial import polyfit, polyval\n",
    "%matplotlib widget"
   ]
  },
  {
   "cell_type": "code",
   "execution_count": 3,
   "metadata": {},
   "outputs": [],
   "source": [
    "# Load data\n",
    "dfs = dict()\n",
    "with pd.HDFStore(\"data.h5\") as store:\n",
    "    for key in store.keys():\n",
    "        key = key[1:]\n",
    "        if key == 'meta':\n",
    "            continue\n",
    "        dfs[key] = store[key]\n",
    "\n",
    "    pulse_shape = store.get_storer(\"meta\").attrs['pulse_shape']\n",
    "    step = store.get_storer(\"meta\").attrs['step']\n",
    "    time_slice = store.get_storer(\"meta\").attrs['time_slice']\n",
    "    \n",
    "pulse_x = np.arange(0, pulse_shape.size * step, step)\n",
    "waveform_edges = np.arange(0, pulse_shape.size * step + 1, time_slice)\n",
    "waveform, _ = np.histogram(\n",
    "    pulse_x, waveform_edges, weights=pulse_shape, density=True\n",
    ")\n",
    "waveform_x = np.arange(0, waveform.size * time_slice, time_slice)"
   ]
  },
  {
   "cell_type": "markdown",
   "metadata": {},
   "source": [
    "# Integration Correction\n",
    "\n",
    "The integration_correction method in the ctapipe calibration is intended to correct for the missed charge contained in the pulse during charge extraction. It is easy to see how this could occur in the following illustration:"
   ]
  },
  {
   "cell_type": "code",
   "execution_count": 4,
   "metadata": {},
   "outputs": [
    {
     "data": {
      "application/vnd.jupyter.widget-view+json": {
       "model_id": "de66583170d443c1b52929046c537ef3",
       "version_major": 2,
       "version_minor": 0
      },
      "text/plain": [
       "Canvas(toolbar=Toolbar(toolitems=[('Home', 'Reset original view', 'home', 'home'), ('Back', 'Back to previous …"
      ]
     },
     "metadata": {},
     "output_type": "display_data"
    },
    {
     "name": "stdout",
     "output_type": "stream",
     "text": [
      "Percent of charge extracted: 47.75%\n"
     ]
    }
   ],
   "source": [
    "wli = 130\n",
    "wri = 170\n",
    "wl = pulse_x[wli]\n",
    "wr = pulse_x[wri]\n",
    "window_charge = np.trapz(pulse_shape[wli:wri+1], pulse_x[wli:wri+1])\n",
    "total_charge = np.trapz(pulse_shape, pulse_x)\n",
    "plt.plot(pulse_x, pulse_shape)\n",
    "plt.axvline(wl, color='red')\n",
    "plt.axvline(wr, color='red')\n",
    "print(f\"Percent of charge extracted: {window_charge/total_charge*100:.2f}%\")"
   ]
  },
  {
   "cell_type": "markdown",
   "metadata": {},
   "source": [
    "This notebook explores the existing integration_correction implementation in ctapipe and considers an improved method."
   ]
  },
  {
   "cell_type": "markdown",
   "metadata": {},
   "source": [
    "## Part 0: Perfomance with no integration_correction\n",
    "The MC data contains the true charge, which we can use to see how closely the extracted charge matches the true charge contained in the waveform pulse. With no integration_correction, we expect there to be a scaling factor missing between the extracted and true charge, which changes according to the extraction window configuration"
   ]
  },
  {
   "cell_type": "code",
   "execution_count": 5,
   "metadata": {},
   "outputs": [
    {
     "data": {
      "text/plain": [
       "[<matplotlib.lines.Line2D at 0x11e34b990>]"
      ]
     },
     "execution_count": 5,
     "metadata": {},
     "output_type": "execute_result"
    }
   ],
   "source": [
    "for key, df in dfs.items():\n",
    "    plt.plot(df['true'], df['extracted'], '.', label=key)\n",
    "plt.legend(loc='best')\n",
    "plt.plot([0, 1000], [0, 1000])"
   ]
  },
  {
   "cell_type": "markdown",
   "metadata": {},
   "source": [
    "## Part 1: Testing current ctapipe method"
   ]
  },
  {
   "cell_type": "code",
   "execution_count": 73,
   "metadata": {},
   "outputs": [],
   "source": [
    "def integration_correction(n_chan, pulse_shape, refstep, time_slice, window_width, window_shift):\n",
    "    correction = np.ones(n_chan)\n",
    "    for chan in range(n_chan):\n",
    "        pshape = pulse_shape[chan]\n",
    "        if pshape.all() is False or time_slice == 0 or refstep == 0:\n",
    "            continue\n",
    "\n",
    "        ref_x = np.arange(0, pshape.size * refstep, refstep)\n",
    "        edges = np.arange(0, pshape.size * refstep + 1, time_slice)\n",
    "\n",
    "        sampled, sampled_edges = np.histogram(\n",
    "            ref_x, edges, weights=pshape, density=True\n",
    "        )\n",
    "        n_samples = sampled.size\n",
    "        start = sampled.argmax() - window_shift\n",
    "        end = start + window_width\n",
    "\n",
    "        if window_width > n_samples:\n",
    "            window_width = n_samples\n",
    "        if start < 0:\n",
    "            start = 0\n",
    "        if start + window_width > n_samples:\n",
    "            start = n_samples - window_width\n",
    "\n",
    "        integration = np.diff(sampled_edges)[start:end] * sampled[start:end]\n",
    "        correction[chan] = 1 / np.sum(integration)\n",
    "\n",
    "    return correction"
   ]
  },
  {
   "cell_type": "code",
   "execution_count": 74,
   "metadata": {},
   "outputs": [
    {
     "ename": "NameError",
     "evalue": "name 'sampled_edges' is not defined",
     "output_type": "error",
     "traceback": [
      "\u001b[0;31m---------------------------------------------------------------------------\u001b[0m",
      "\u001b[0;31mNameError\u001b[0m                                 Traceback (most recent call last)",
      "\u001b[0;32m<ipython-input-74-af401794b99c>\u001b[0m in \u001b[0;36m<module>\u001b[0;34m\u001b[0m\n\u001b[0;32m----> 1\u001b[0;31m \u001b[0mnp\u001b[0m\u001b[0;34m.\u001b[0m\u001b[0mdiff\u001b[0m\u001b[0;34m(\u001b[0m\u001b[0msampled_edges\u001b[0m\u001b[0;34m)\u001b[0m\u001b[0;34m\u001b[0m\u001b[0;34m\u001b[0m\u001b[0m\n\u001b[0m",
      "\u001b[0;31mNameError\u001b[0m: name 'sampled_edges' is not defined"
     ]
    }
   ],
   "source": [
    "np.diff(sampled_edges)"
   ]
  },
  {
   "cell_type": "code",
   "execution_count": 75,
   "metadata": {},
   "outputs": [
    {
     "name": "stdout",
     "output_type": "stream",
     "text": [
      "   window_width  window_shift  scale_uncorrected  scale_ctapipe\n",
      "0            12             1           0.868761       0.916784\n",
      "1            12             5           1.130196       0.958571\n",
      "2            20            10           1.382768       0.971352\n",
      "3             4             3           0.438063       0.988631\n",
      "4             8             3           0.845448       0.954970\n",
      "5             8             5           0.817833       0.985481\n"
     ]
    }
   ],
   "source": [
    "d_list = []\n",
    "\n",
    "pattern = r\"w_(\\d+)_(\\d+)\"\n",
    "for key, df in dfs.items():\n",
    "    regex = re.match(pattern, key)\n",
    "    window_width = int(regex.group(1))\n",
    "    window_shift = int(regex.group(2))\n",
    "    correction = integration_correction(1, [pulse_shape], step, time_slice, window_width, window_shift)[0]\n",
    "\n",
    "    plt.plot(df['true'], df['extracted'] * correction, '.', label=key)\n",
    "    \n",
    "    df_reduced = df.loc[df['true'] > 100]\n",
    "    scale_uncorrected = polyfit(df['true'], df['extracted'], [1])[1]\n",
    "    scale_ctapipe = polyfit(df['true'], df['extracted'] * correction, [1])[1]\n",
    "\n",
    "    \n",
    "    d_list.append({\n",
    "        'window_width': window_width,\n",
    "        'window_shift': window_shift,\n",
    "        'scale_uncorrected': scale_uncorrected,\n",
    "        'scale_ctapipe': scale_ctapipe\n",
    "    })\n",
    "    \n",
    "table = pd.DataFrame(d_list)\n",
    "    \n",
    "plt.legend(loc='best')\n",
    "plt.plot([0, 1000], [0, 1000])\n",
    "\n",
    "print(table)"
   ]
  },
  {
   "cell_type": "markdown",
   "metadata": {},
   "source": [
    "As one can see, ctapipe's integration_correction quite successfully corrects the charge to reduce the scale factor between the extracted and true charge."
   ]
  },
  {
   "cell_type": "markdown",
   "metadata": {},
   "source": [
    "## Part 2: Robustness to different integration windows\n",
    "\n",
    "The aim of the algorithm is that no matter the location of the integration window on the pulse, the full charge is extracted. We can investigate the robustness of the current algorithm with the reference pulse shape"
   ]
  },
  {
   "cell_type": "code",
   "execution_count": 82,
   "metadata": {},
   "outputs": [
    {
     "name": "stderr",
     "output_type": "stream",
     "text": [
      "/Users/jason/opt/anaconda3/envs/cta/lib/python3.7/site-packages/ipykernel_launcher.py:26: RuntimeWarning: divide by zero encountered in double_scalars\n",
      "/Users/jason/opt/anaconda3/envs/cta/lib/python3.7/site-packages/ipykernel_launcher.py:9: RuntimeWarning: invalid value encountered in double_scalars\n",
      "  if __name__ == '__main__':\n"
     ]
    }
   ],
   "source": [
    "d_list = []\n",
    "for start in range(0, waveform.size*2):\n",
    "    for end in range(0, waveform.size*2):\n",
    "        width = end - start\n",
    "        shift = waveform.argmax() - start\n",
    "        charge = np.sum(np.diff(waveform_edges)[start:end] * waveform[start:end])\n",
    "        correction = integration_correction(1, [pulse_shape], step, time_slice, width, shift)[0]\n",
    "        \n",
    "        result = charge * correction\n",
    "        d_list.append({\n",
    "            'start': start,\n",
    "            'end': end,\n",
    "            'result': result,\n",
    "        })\n",
    "df = pd.DataFrame(d_list)"
   ]
  },
  {
   "cell_type": "code",
   "execution_count": 83,
   "metadata": {},
   "outputs": [
    {
     "data": {
      "text/html": [
       "<div>\n",
       "<style scoped>\n",
       "    .dataframe tbody tr th:only-of-type {\n",
       "        vertical-align: middle;\n",
       "    }\n",
       "\n",
       "    .dataframe tbody tr th {\n",
       "        vertical-align: top;\n",
       "    }\n",
       "\n",
       "    .dataframe thead th {\n",
       "        text-align: right;\n",
       "    }\n",
       "</style>\n",
       "<table border=\"1\" class=\"dataframe\">\n",
       "  <thead>\n",
       "    <tr style=\"text-align: right;\">\n",
       "      <th></th>\n",
       "      <th>start</th>\n",
       "      <th>end</th>\n",
       "      <th>result</th>\n",
       "    </tr>\n",
       "  </thead>\n",
       "  <tbody>\n",
       "    <tr>\n",
       "      <th>0</th>\n",
       "      <td>0</td>\n",
       "      <td>0</td>\n",
       "      <td>NaN</td>\n",
       "    </tr>\n",
       "    <tr>\n",
       "      <th>1</th>\n",
       "      <td>0</td>\n",
       "      <td>1</td>\n",
       "      <td>1.0</td>\n",
       "    </tr>\n",
       "    <tr>\n",
       "      <th>2</th>\n",
       "      <td>0</td>\n",
       "      <td>2</td>\n",
       "      <td>1.0</td>\n",
       "    </tr>\n",
       "    <tr>\n",
       "      <th>3</th>\n",
       "      <td>0</td>\n",
       "      <td>3</td>\n",
       "      <td>1.0</td>\n",
       "    </tr>\n",
       "    <tr>\n",
       "      <th>4</th>\n",
       "      <td>0</td>\n",
       "      <td>4</td>\n",
       "      <td>1.0</td>\n",
       "    </tr>\n",
       "    <tr>\n",
       "      <th>...</th>\n",
       "      <td>...</td>\n",
       "      <td>...</td>\n",
       "      <td>...</td>\n",
       "    </tr>\n",
       "    <tr>\n",
       "      <th>18491</th>\n",
       "      <td>135</td>\n",
       "      <td>131</td>\n",
       "      <td>NaN</td>\n",
       "    </tr>\n",
       "    <tr>\n",
       "      <th>18492</th>\n",
       "      <td>135</td>\n",
       "      <td>132</td>\n",
       "      <td>NaN</td>\n",
       "    </tr>\n",
       "    <tr>\n",
       "      <th>18493</th>\n",
       "      <td>135</td>\n",
       "      <td>133</td>\n",
       "      <td>NaN</td>\n",
       "    </tr>\n",
       "    <tr>\n",
       "      <th>18494</th>\n",
       "      <td>135</td>\n",
       "      <td>134</td>\n",
       "      <td>NaN</td>\n",
       "    </tr>\n",
       "    <tr>\n",
       "      <th>18495</th>\n",
       "      <td>135</td>\n",
       "      <td>135</td>\n",
       "      <td>NaN</td>\n",
       "    </tr>\n",
       "  </tbody>\n",
       "</table>\n",
       "<p>18496 rows × 3 columns</p>\n",
       "</div>"
      ],
      "text/plain": [
       "       start  end  result\n",
       "0          0    0     NaN\n",
       "1          0    1     1.0\n",
       "2          0    2     1.0\n",
       "3          0    3     1.0\n",
       "4          0    4     1.0\n",
       "...      ...  ...     ...\n",
       "18491    135  131     NaN\n",
       "18492    135  132     NaN\n",
       "18493    135  133     NaN\n",
       "18494    135  134     NaN\n",
       "18495    135  135     NaN\n",
       "\n",
       "[18496 rows x 3 columns]"
      ]
     },
     "execution_count": 83,
     "metadata": {},
     "output_type": "execute_result"
    }
   ],
   "source": [
    "df"
   ]
  },
  {
   "cell_type": "code",
   "execution_count": 85,
   "metadata": {},
   "outputs": [
    {
     "data": {
      "application/vnd.jupyter.widget-view+json": {
       "model_id": "1383e159e1034f18a9b6d435556565db",
       "version_major": 2,
       "version_minor": 0
      },
      "text/plain": [
       "Canvas(toolbar=Toolbar(toolitems=[('Home', 'Reset original view', 'home', 'home'), ('Back', 'Back to previous …"
      ]
     },
     "metadata": {},
     "output_type": "display_data"
    },
    {
     "name": "stderr",
     "output_type": "stream",
     "text": [
      "/Users/jason/opt/anaconda3/envs/cta/lib/python3.7/site-packages/ipykernel_launcher.py:8: UserWarning: Z contains NaN values. This may result in rendering artifacts.\n",
      "  \n"
     ]
    },
    {
     "data": {
      "text/plain": [
       "Text(0.5, 0, 'end')"
      ]
     },
     "execution_count": 85,
     "metadata": {},
     "output_type": "execute_result"
    }
   ],
   "source": [
    "from mpl_toolkits.mplot3d import Axes3D  # noqa: F401 unused import\n",
    "fig = plt.figure()\n",
    "ax = fig.gca(projection='3d')\n",
    "size = waveform.size*2\n",
    "X = df['start'].values.reshape((size, size))\n",
    "Y = df['end'].values.reshape((size, size))\n",
    "Z = df['result'].values.reshape((size, size))\n",
    "surf = ax.plot_surface(X, Y, Z, linewidth=0, antialiased=False)\n",
    "ax.set_xlabel(\"start\")\n",
    "ax.set_ylabel(\"end\")"
   ]
  },
  {
   "cell_type": "markdown",
   "metadata": {},
   "source": [
    "Conclusion: current implementation performs as expected when window does not exceed waveform limits, but fails when it does exceed"
   ]
  },
  {
   "cell_type": "markdown",
   "metadata": {},
   "source": [
    "## Part 3: Improved Algorithm\n",
    "Can we tidy the current algorithm, to improve its speed and readibility? And also correct the handling when the window is beyond the pulse limits"
   ]
  },
  {
   "cell_type": "code",
   "execution_count": 108,
   "metadata": {},
   "outputs": [],
   "source": [
    "def integration_correction_new(reference_pulse_shape, reference_pulse_step, waveform_step, window_width, window_shift):\n",
    "    n_channels = len(reference_pulse_shape)\n",
    "    correction = np.ones(n_channels, dtype=np.float)\n",
    "    for ichannel, pulse_shape in enumerate(reference_pulse_shape):\n",
    "        pulse_max_sample = pulse_shape.size * reference_pulse_step\n",
    "        pulse_shape_x = np.arange(0, pulse_max_sample, reference_pulse_step)\n",
    "        sampled_edges = np.arange(0, pulse_max_sample, waveform_step)\n",
    "\n",
    "        sampled_pulse, _ = np.histogram(\n",
    "            pulse_shape_x, sampled_edges, weights=pulse_shape, density=True\n",
    "        )\n",
    "        n_samples = sampled_pulse.size\n",
    "        start = sampled_pulse.argmax() - window_shift\n",
    "        start = start if start >= 0 else 0\n",
    "        end = start + window_width\n",
    "        end = end if end < n_samples else n_samples\n",
    "\n",
    "        integration = sampled_pulse[start:end] * waveform_step\n",
    "        correction[ichannel] = 1.0 / np.sum(integration)\n",
    "\n",
    "    return correction"
   ]
  },
  {
   "cell_type": "code",
   "execution_count": 109,
   "metadata": {},
   "outputs": [
    {
     "name": "stderr",
     "output_type": "stream",
     "text": [
      "/Users/jason/opt/anaconda3/envs/cta/lib/python3.7/site-packages/ipykernel_launcher.py:19: RuntimeWarning: divide by zero encountered in double_scalars\n",
      "/Users/jason/opt/anaconda3/envs/cta/lib/python3.7/site-packages/ipykernel_launcher.py:9: RuntimeWarning: invalid value encountered in double_scalars\n",
      "  if __name__ == '__main__':\n"
     ]
    },
    {
     "name": "stdout",
     "output_type": "stream",
     "text": [
      "       start  end  result\n",
      "0          0    0     NaN\n",
      "1          0    1     1.0\n",
      "2          0    2     1.0\n",
      "3          0    3     1.0\n",
      "4          0    4     1.0\n",
      "...      ...  ...     ...\n",
      "18491    135  131     NaN\n",
      "18492    135  132     NaN\n",
      "18493    135  133     NaN\n",
      "18494    135  134     NaN\n",
      "18495    135  135     NaN\n",
      "\n",
      "[18496 rows x 3 columns]\n"
     ]
    }
   ],
   "source": [
    "d_list = []\n",
    "for start in range(0, waveform.size*2):\n",
    "    for end in range(0, waveform.size*2):\n",
    "        width = end - start\n",
    "        shift = waveform.argmax() - start\n",
    "        charge = np.sum(np.diff(waveform_edges)[start:end] * waveform[start:end])\n",
    "        correction = integration_correction_new([pulse_shape], step, time_slice, width, shift)[0]\n",
    "        \n",
    "        result = charge * correction\n",
    "        d_list.append({\n",
    "            'start': start,\n",
    "            'end': end,\n",
    "            'result': result,\n",
    "        })\n",
    "df = pd.DataFrame(d_list)\n",
    "print(df)"
   ]
  },
  {
   "cell_type": "code",
   "execution_count": 107,
   "metadata": {},
   "outputs": [
    {
     "data": {
      "application/vnd.jupyter.widget-view+json": {
       "model_id": "7187becc85bf4522a743722cd40ea4cd",
       "version_major": 2,
       "version_minor": 0
      },
      "text/plain": [
       "Canvas(toolbar=Toolbar(toolitems=[('Home', 'Reset original view', 'home', 'home'), ('Back', 'Back to previous …"
      ]
     },
     "metadata": {},
     "output_type": "display_data"
    },
    {
     "name": "stderr",
     "output_type": "stream",
     "text": [
      "/Users/jason/opt/anaconda3/envs/cta/lib/python3.7/site-packages/ipykernel_launcher.py:8: UserWarning: Z contains NaN values. This may result in rendering artifacts.\n",
      "  \n"
     ]
    },
    {
     "data": {
      "text/plain": [
       "Text(0.5, 0, 'end')"
      ]
     },
     "execution_count": 107,
     "metadata": {},
     "output_type": "execute_result"
    }
   ],
   "source": [
    "from mpl_toolkits.mplot3d import Axes3D  # noqa: F401 unused import\n",
    "fig = plt.figure()\n",
    "ax = fig.gca(projection='3d')\n",
    "size = waveform.size*2\n",
    "X = df['start'].values.reshape((size, size))\n",
    "Y = df['end'].values.reshape((size, size))\n",
    "Z = df['result'].values.reshape((size, size))\n",
    "surf = ax.plot_surface(X, Y, Z, linewidth=0, antialiased=False)\n",
    "ax.set_xlabel(\"start\")\n",
    "ax.set_ylabel(\"end\")"
   ]
  },
  {
   "cell_type": "code",
   "execution_count": 113,
   "metadata": {},
   "outputs": [
    {
     "data": {
      "text/plain": [
       "8.14803839546499"
      ]
     },
     "execution_count": 113,
     "metadata": {},
     "output_type": "execute_result"
    }
   ],
   "source": [
    "np.sum(pulse_shape * step)"
   ]
  },
  {
   "cell_type": "code",
   "execution_count": 114,
   "metadata": {},
   "outputs": [
    {
     "data": {
      "text/plain": [
       "0.10000000149011612"
      ]
     },
     "execution_count": 114,
     "metadata": {},
     "output_type": "execute_result"
    }
   ],
   "source": [
    "step"
   ]
  },
  {
   "cell_type": "code",
   "execution_count": null,
   "metadata": {},
   "outputs": [],
   "source": []
  }
 ],
 "metadata": {
  "kernelspec": {
   "display_name": "Python [conda env:cta] *",
   "language": "python",
   "name": "conda-env-cta-py"
  },
  "language_info": {
   "codemirror_mode": {
    "name": "ipython",
    "version": 3
   },
   "file_extension": ".py",
   "mimetype": "text/x-python",
   "name": "python",
   "nbconvert_exporter": "python",
   "pygments_lexer": "ipython3",
   "version": "3.7.5"
  }
 },
 "nbformat": 4,
 "nbformat_minor": 4
}
