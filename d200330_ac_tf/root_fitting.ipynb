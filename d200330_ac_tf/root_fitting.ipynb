{
 "cells": [
  {
   "cell_type": "code",
   "execution_count": 1,
   "metadata": {},
   "outputs": [
    {
     "name": "stdout",
     "output_type": "stream",
     "text": [
      "Welcome to JupyROOT 6.20/02\n"
     ]
    }
   ],
   "source": [
    "import ROOT\n",
    "import numpy as np\n",
    "from scipy.optimize import brent\n",
    "from scipy.stats.distributions import poisson\n",
    "import iminuit\n",
    "from matplotlib import pyplot as plt\n",
    "%matplotlib inline"
   ]
  },
  {
   "cell_type": "markdown",
   "metadata": {},
   "source": [
    "# Migrating ROOT Pulse Fitting Algorithm to Python\n",
    "This notebook aims to migrate the pulse fitting algorithm used in the ROOT generate_ac_tf script to Python.\n",
    "\n",
    "## Step 1: Demonstrate existing ROOT algorithm\n",
    "This is the pulse fitting algorithm as it currently is implemented in the ROOT script"
   ]
  },
  {
   "cell_type": "code",
   "execution_count": 2,
   "metadata": {},
   "outputs": [],
   "source": [
    "# Load dataset\n",
    "wf = np.loadtxt(\"test_wf.txt\")\n",
    "vped = 800\n",
    "fHist = ROOT.TH1F(\"\", \"\", wf.size, 0.0, wf.size)\n",
    "for isample, sample in enumerate(wf):\n",
    "    fHist.SetBinContent(isample+1, sample)\n",
    "    \n",
    "x_wf = np.array([fHist.GetBinCenter(ii+1) for ii in range(wf.size)])\n",
    "y_wf = np.array([fHist.GetBinContent(ii+1) for ii in range(wf.size)], dtype=np.int)"
   ]
  },
  {
   "cell_type": "code",
   "execution_count": 10,
   "metadata": {},
   "outputs": [],
   "source": [
    "def root_fit():\n",
    "    # Create the fit function as the sum of two landau functions\n",
    "    fFit = ROOT.TF1(\"fFit\",\"landau+landau(3)\",0,wf.size);\n",
    "\n",
    "    # Default fit parameter settings\n",
    "    PEAKPOS = 30\n",
    "    if ((fFit.GetParameter(0) < 1e-6) & (vped > 0.0)):\n",
    "        fFit.SetParameter(0,vped*11.0);\n",
    "        fFit.SetParameter(1,PEAKPOS);\n",
    "        fFit.SetParameter(2,3.0);\n",
    "        fFit.SetParameter(3,vped*(-2.75));\n",
    "        fFit.SetParameter(4,PEAKPOS+21);\n",
    "        fFit.SetParameter(5,6.5);\n",
    "    elif ((fFit.GetParameter(0) > -1e-6) & (vped < 0.0)):\n",
    "        fFit.SetParameter(0,vped*4.0);\n",
    "        fFit.SetParameter(1,PEAKPOS);\n",
    "        fFit.SetParameter(2,3.0);\n",
    "        fFit.SetParameter(3,vped*(-1.5));\n",
    "        fFit.SetParameter(4,PEAKPOS+34);\n",
    "        fFit.SetParameter(5,6.5);\n",
    "\n",
    "    # Perform fit\n",
    "    r = fHist.Fit(\"fFit\",\"WWRQS\");\n",
    "    root_fit_chi2 = r.Chi2()\n",
    "    return fFit, root_fit_chi2\n",
    "    \n",
    "fFit, root_fit_chi2 = root_fit()"
   ]
  },
  {
   "cell_type": "code",
   "execution_count": 11,
   "metadata": {},
   "outputs": [
    {
     "name": "stderr",
     "output_type": "stream",
     "text": [
      "Warning in <TCanvas::Constructor>: Deleting canvas with same name: myCanvasName\n"
     ]
    },
    {
     "data": {
      "image/png": "[encoded data removed]",
      "text/plain": [
       "<IPython.core.display.Image object>"
      ]
     },
     "metadata": {},
     "output_type": "display_data"
    }
   ],
   "source": [
    "# Plot result\n",
    "c = ROOT.TCanvas(\"myCanvasName\",\"The Canvas Title\",800,600)\n",
    "fHist.Draw()\n",
    "c.Draw()"
   ]
  },
  {
   "cell_type": "markdown",
   "metadata": {},
   "source": [
    "## Step 2: How Does ROOT Define Landau?\n",
    "From the ROOT source code at https://root.cern.ch/root/html524/src/TMath.cxx.html#512 and https://root.cern/doc/v608/PdfFuncMathCore_8cxx_source.html#l00191 we can redeclare the landau function from first principles:"
   ]
  },
  {
   "cell_type": "code",
   "execution_count": 12,
   "metadata": {},
   "outputs": [
    {
     "name": "stderr",
     "output_type": "stream",
     "text": [
      "\u001b[1minput_line_94:66:10: \u001b[0m\u001b[0;1;31merror: \u001b[0m\u001b[1mredefinition of 'cpp_landau'\u001b[0m\n",
      "Double_t cpp_landau(Double_t x, Double_t mpv, Double_t sigma, Bool_t norm)\n",
      "\u001b[0;1;32m         ^\n",
      "\u001b[0m\u001b[1minput_line_90:66:10: \u001b[0m\u001b[0;1;30mnote: \u001b[0mprevious definition is here\u001b[0m\n",
      "Double_t cpp_landau(Double_t x, Double_t mpv, Double_t sigma, Bool_t norm)\n",
      "\u001b[0;1;32m         ^\n",
      "\u001b[0m"
     ]
    }
   ],
   "source": [
    "%%cpp -d\n",
    "double cpp_landau_pdf(double x, double xi=1, double x0=0) {\n",
    "   // LANDAU pdf : algorithm from CERNLIB G110 denlan\n",
    "   // same algorithm is used in GSL\n",
    "\n",
    "   static double p1[5] = {0.4259894875,-0.1249762550, 0.03984243700, -0.006298287635,   0.001511162253};\n",
    "   static double q1[5] = {1.0         ,-0.3388260629, 0.09594393323, -0.01608042283,    0.003778942063};\n",
    "\n",
    "   static double p2[5] = {0.1788541609, 0.1173957403, 0.01488850518, -0.001394989411,   0.0001283617211};\n",
    "   static double q2[5] = {1.0         , 0.7428795082, 0.3153932961,   0.06694219548,    0.008790609714};\n",
    "\n",
    "   static double p3[5] = {0.1788544503, 0.09359161662,0.006325387654, 0.00006611667319,-0.000002031049101};\n",
    "   static double q3[5] = {1.0         , 0.6097809921, 0.2560616665,   0.04746722384,    0.006957301675};\n",
    "\n",
    "   static double p4[5] = {0.9874054407, 118.6723273,  849.2794360,   -743.7792444,      427.0262186};\n",
    "   static double q4[5] = {1.0         , 106.8615961,  337.6496214,    2016.712389,      1597.063511};\n",
    "\n",
    "   static double p5[5] = {1.003675074,  167.5702434,  4789.711289,    21217.86767,     -22324.94910};\n",
    "   static double q5[5] = {1.0         , 156.9424537,  3745.310488,    9834.698876,      66924.28357};\n",
    "\n",
    "   static double p6[5] = {1.000827619,  664.9143136,  62972.92665,    475554.6998,     -5743609.109};\n",
    "   static double q6[5] = {1.0         , 651.4101098,  56974.73333,    165917.4725,     -2815759.939};\n",
    "\n",
    "   static double a1[3] = {0.04166666667,-0.01996527778, 0.02709538966};\n",
    "\n",
    "   static double a2[2] = {-1.845568670,-4.284640743};\n",
    "\n",
    "   if (xi <= 0) return 0;\n",
    "   double v = (x - x0)/xi;\n",
    "   double u, ue, us, denlan;\n",
    "   if (v < -5.5) {\n",
    "      u   = std::exp(v+1.0);\n",
    "      if (u < 1e-10) return 0.0;\n",
    "      ue  = std::exp(-1/u);\n",
    "      us  = std::sqrt(u);\n",
    "      denlan = 0.3989422803*(ue/us)*(1+(a1[0]+(a1[1]+a1[2]*u)*u)*u);\n",
    "   } else if(v < -1) {\n",
    "      u   = std::exp(-v-1);\n",
    "      denlan = std::exp(-u)*std::sqrt(u)*\n",
    "         (p1[0]+(p1[1]+(p1[2]+(p1[3]+p1[4]*v)*v)*v)*v)/\n",
    "         (q1[0]+(q1[1]+(q1[2]+(q1[3]+q1[4]*v)*v)*v)*v);\n",
    "   } else if(v < 1) {\n",
    "      denlan = (p2[0]+(p2[1]+(p2[2]+(p2[3]+p2[4]*v)*v)*v)*v)/\n",
    "         (q2[0]+(q2[1]+(q2[2]+(q2[3]+q2[4]*v)*v)*v)*v);\n",
    "   } else if(v < 5) {\n",
    "      denlan = (p3[0]+(p3[1]+(p3[2]+(p3[3]+p3[4]*v)*v)*v)*v)/\n",
    "         (q3[0]+(q3[1]+(q3[2]+(q3[3]+q3[4]*v)*v)*v)*v);\n",
    "   } else if(v < 12) {\n",
    "      u   = 1/v;\n",
    "      denlan = u*u*(p4[0]+(p4[1]+(p4[2]+(p4[3]+p4[4]*u)*u)*u)*u)/\n",
    "         (q4[0]+(q4[1]+(q4[2]+(q4[3]+q4[4]*u)*u)*u)*u);\n",
    "   } else if(v < 50) {\n",
    "      u   = 1/v;\n",
    "      denlan = u*u*(p5[0]+(p5[1]+(p5[2]+(p5[3]+p5[4]*u)*u)*u)*u)/\n",
    "         (q5[0]+(q5[1]+(q5[2]+(q5[3]+q5[4]*u)*u)*u)*u);\n",
    "   } else if(v < 300) {\n",
    "      u   = 1/v;\n",
    "      denlan = u*u*(p6[0]+(p6[1]+(p6[2]+(p6[3]+p6[4]*u)*u)*u)*u)/\n",
    "         (q6[0]+(q6[1]+(q6[2]+(q6[3]+q6[4]*u)*u)*u)*u);\n",
    "   } else {\n",
    "      u   = 1/(v-v*std::log(v)/(v+1));\n",
    "      denlan = u*u*(1+(a2[0]+a2[1]*u)*u);\n",
    "   }\n",
    "   return denlan/xi;\n",
    "\n",
    "}\n",
    "Double_t cpp_landau(Double_t x, Double_t mpv, Double_t sigma, Bool_t norm)\n",
    "{\n",
    "   // The LANDAU function. \n",
    "   // mpv is a location parameter and correspond approximatly to the most probable value\n",
    "   // and sigma is a scale parameter (not the sigma of the full distribution which is not defined)\n",
    "   // Note that for mpv=0 and sigma=1 (default values) the exact location of the maximum of the distribution (most proble value) is at \n",
    "   // x = -0.22278\n",
    "   // This function has been adapted from the CERNLIB routine G110 denlan.\n",
    "   // If norm=kTRUE (default is kFALSE) the result is divided by sigma\n",
    "\n",
    "   if (sigma <= 0) return 0; \n",
    "   Double_t den = cpp_landau_pdf( (x-mpv)/sigma ); \n",
    "   if (!norm) return den;\n",
    "   return den/sigma;\n",
    "}"
   ]
  },
  {
   "cell_type": "code",
   "execution_count": 13,
   "metadata": {},
   "outputs": [],
   "source": [
    "formula = \"[p0]*cpp_landau(x,[p1],[p2],false)+[p3]*cpp_landau(x,[p4],[p5],false)\"\n",
    "fFit_cpp = ROOT.TF1(\"fFit_cpp\",formula,0,wf.size)\n",
    "for i in range(6):\n",
    "    fFit_cpp.SetParameter(i, fFit.GetParameter(i))"
   ]
  },
  {
   "cell_type": "code",
   "execution_count": 14,
   "metadata": {},
   "outputs": [
    {
     "name": "stdout",
     "output_type": "stream",
     "text": [
      "XMaximum =  28.05727358025616\n"
     ]
    },
    {
     "name": "stderr",
     "output_type": "stream",
     "text": [
      "Warning in <TCanvas::Constructor>: Deleting canvas with same name: myCanvasName\n"
     ]
    },
    {
     "data": {
      "image/png": "[encoded data removed]",
      "text/plain": [
       "<IPython.core.display.Image object>"
      ]
     },
     "metadata": {},
     "output_type": "display_data"
    }
   ],
   "source": [
    "# Plot result\n",
    "c = ROOT.TCanvas(\"myCanvasName\",\"The Canvas Title\",800,600)\n",
    "fFit.SetLineColor(1)\n",
    "fFit.Draw()\n",
    "fFit_cpp.SetLineStyle(2)\n",
    "fFit_cpp.Draw('same')\n",
    "c.Draw()\n",
    "for x in range(90):\n",
    "    assert fFit.Eval(x) == fFit_cpp.Eval(x)\n",
    "print(\"XMaximum = \", fFit.GetMaximumX())"
   ]
  },
  {
   "cell_type": "code",
   "execution_count": 16,
   "metadata": {},
   "outputs": [],
   "source": [
    "# Store curve in numpy array for further python plotting\n",
    "x_cpp = np.linspace(fFit.GetXmin(), fFit.GetXmax(), 1000)\n",
    "y_cpp = np.array([fFit.Eval(xx) for xx in x_cpp])\n",
    "fit_params = [fFit.GetParameter(i) for i in range(fFit.GetNumberFreeParameters())]"
   ]
  },
  {
   "cell_type": "markdown",
   "metadata": {},
   "source": [
    "## Step 3: Create a Python Landau function"
   ]
  },
  {
   "cell_type": "code",
   "execution_count": 17,
   "metadata": {},
   "outputs": [],
   "source": [
    "def py_landau_pdf(x, xi=1, x0=0):\n",
    "    p1 = [0.4259894875,-0.1249762550, 0.03984243700, -0.006298287635,   0.001511162253]\n",
    "    q1 = [1.0         ,-0.3388260629, 0.09594393323, -0.01608042283,    0.003778942063]\n",
    "    \n",
    "    p2 = [0.1788541609, 0.1173957403, 0.01488850518, -0.001394989411,   0.0001283617211]\n",
    "    q2 = [1.0         , 0.7428795082, 0.3153932961,   0.06694219548,    0.008790609714]\n",
    "\n",
    "    p3 = [0.1788544503, 0.09359161662,0.006325387654, 0.00006611667319,-0.000002031049101]\n",
    "    q3 = [1.0         , 0.6097809921, 0.2560616665,   0.04746722384,    0.006957301675]\n",
    "\n",
    "    p4 = [0.9874054407, 118.6723273,  849.2794360,   -743.7792444,      427.0262186]\n",
    "    q4 = [1.0         , 106.8615961,  337.6496214,    2016.712389,      1597.063511]\n",
    "\n",
    "    p5 = [1.003675074,  167.5702434,  4789.711289,    21217.86767,     -22324.94910]\n",
    "    q5 = [1.0         , 156.9424537,  3745.310488,    9834.698876,      66924.28357]\n",
    "\n",
    "    p6 = [1.000827619,  664.9143136,  62972.92665,    475554.6998,     -5743609.109]\n",
    "    q6 = [1.0         , 651.4101098,  56974.73333,    165917.4725,     -2815759.939]\n",
    "\n",
    "    a1 = [0.04166666667,-0.01996527778, 0.02709538966]\n",
    "\n",
    "    a2 = [-1.845568670,-4.284640743]\n",
    "\n",
    "    if (xi <= 0):\n",
    "        return 0\n",
    "    v = (x - x0)/xi\n",
    "    if (v < -5.5):\n",
    "        u   = np.exp(v+1.0)\n",
    "        if (u < 1e-10): \n",
    "            return 0.0\n",
    "        ue  = np.exp(-1/u)\n",
    "        us  = np.sqrt(u)\n",
    "        denlan = 0.3989422803*(ue/us)*(1+(a1[0]+(a1[1]+a1[2]*u)*u)*u)\n",
    "    elif (v < -1):\n",
    "        u   = np.exp(-v-1);\n",
    "        denlan = np.exp(-u)*np.sqrt(u)*(p1[0]+(p1[1]+(p1[2]+(p1[3]+p1[4]*v)*v)*v)*v)/(q1[0]+(q1[1]+(q1[2]+(q1[3]+q1[4]*v)*v)*v)*v)\n",
    "    elif (v < 1):\n",
    "        denlan = (p2[0]+(p2[1]+(p2[2]+(p2[3]+p2[4]*v)*v)*v)*v)/(q2[0]+(q2[1]+(q2[2]+(q2[3]+q2[4]*v)*v)*v)*v)\n",
    "    elif (v < 5):\n",
    "        denlan = (p3[0]+(p3[1]+(p3[2]+(p3[3]+p3[4]*v)*v)*v)*v)/(q3[0]+(q3[1]+(q3[2]+(q3[3]+q3[4]*v)*v)*v)*v)\n",
    "    elif (v < 12):\n",
    "        u   = 1/v\n",
    "        denlan = u*u*(p4[0]+(p4[1]+(p4[2]+(p4[3]+p4[4]*u)*u)*u)*u)/(q4[0]+(q4[1]+(q4[2]+(q4[3]+q4[4]*u)*u)*u)*u)\n",
    "    elif (v < 50):\n",
    "        u = 1/v\n",
    "        denlan = u*u*(p5[0]+(p5[1]+(p5[2]+(p5[3]+p5[4]*u)*u)*u)*u)/(q5[0]+(q5[1]+(q5[2]+(q5[3]+q5[4]*u)*u)*u)*u)\n",
    "    elif (v < 300):\n",
    "        u   = 1/v\n",
    "        denlan = u*u*(p6[0]+(p6[1]+(p6[2]+(p6[3]+p6[4]*u)*u)*u)*u)/(q6[0]+(q6[1]+(q6[2]+(q6[3]+q6[4]*u)*u)*u)*u)\n",
    "    else:\n",
    "        u   = 1/(v-v*np.log(v)/(v+1))\n",
    "        denlan = u*u*(1+(a2[0]+a2[1]*u)*u)\n",
    "    return denlan/xi;\n",
    "\n",
    "def py_landau(x, mpv, sigma, norm):\n",
    "    if (sigma <= 0):\n",
    "        return 0\n",
    "    den = py_landau_pdf( (x-mpv)/sigma )\n",
    "    if not norm:\n",
    "        return den\n",
    "    return den/sigma\n",
    "\n",
    "def py_landau_fit(x, scale0, mpv0, sigma0, scale1, mpv1, sigma1):\n",
    "    if np.isscalar(x):\n",
    "        x = np.array([x])\n",
    "    y = []\n",
    "    for xx in x:\n",
    "        y.append(scale0 * py_landau(xx, mpv0, sigma0, False) + scale1 * py_landau(xx, mpv1, sigma1, False))\n",
    "    return np.array(y)"
   ]
  },
  {
   "cell_type": "code",
   "execution_count": 18,
   "metadata": {},
   "outputs": [
    {
     "name": "stdout",
     "output_type": "stream",
     "text": [
      "XMaximum =  28.057273647274265\n"
     ]
    },
    {
     "data": {
      "image/png": "[encoded data removed]",
      "text/plain": [
       "<Figure size 432x288 with 1 Axes>"
      ]
     },
     "metadata": {
      "needs_background": "light"
     },
     "output_type": "display_data"
    }
   ],
   "source": [
    "# Plot function\n",
    "x_py = x_cpp.copy()\n",
    "y_py = py_landau_fit(x_py, *fit_params)\n",
    "plt.plot(x_cpp, y_cpp)\n",
    "plt.plot(x_py, y_py, '--')\n",
    "\n",
    "\n",
    "def py_landau_fit_negative(x, *p):\n",
    "    return -1 * py_landau_fit(x, *p)[0]\n",
    "\n",
    "print(\"XMaximum = \", brent(py_landau_fit_negative, tuple(fit_params), (25, 30)))"
   ]
  },
  {
   "cell_type": "markdown",
   "metadata": {},
   "source": [
    "## Step 4: Fit with Python function and iminuit"
   ]
  },
  {
   "cell_type": "code",
   "execution_count": 21,
   "metadata": {},
   "outputs": [],
   "source": [
    "def fit_function(scale0, mpv0, sigma0, scale1, mpv1, sigma1):\n",
    "    y_fit = py_landau_fit(x_wf, scale0, mpv0, sigma0, scale1, mpv1, sigma1)\n",
    "    error = 1\n",
    "    chi2 = np.sum((y_wf - y_fit / error) ** 2)\n",
    "    return chi2\n",
    "\n",
    "def python_fit():\n",
    "    # Default fit parameter settings\n",
    "    PEAKPOS = 30\n",
    "\n",
    "    initial = {\n",
    "        \"scale0\": 0, \n",
    "        \"mpv0\": 0, \n",
    "        \"sigma0\": 0, \n",
    "        \"scale1\": 0,\n",
    "        \"mpv1\": 0, \n",
    "        \"sigma1\": 0\n",
    "    }\n",
    "    if ((initial[\"scale0\"] < 1e-6) & (vped > 0.0)):\n",
    "        initial = {\n",
    "            \"scale0\": vped*11.0, \n",
    "            \"mpv0\": PEAKPOS, \n",
    "            \"sigma0\": 3.0, \n",
    "            \"scale1\": vped*(-2.75),\n",
    "            \"mpv1\": PEAKPOS+21, \n",
    "            \"sigma1\": 6.5\n",
    "        }\n",
    "    elif ((initial[\"scale0\"] > -1e-6) & (vped < 0.0)):\n",
    "        initial = {\n",
    "            \"scale0\": vped*4.0, \n",
    "            \"mpv0\": PEAKPOS, \n",
    "            \"sigma0\": 3.0, \n",
    "            \"scale1\": vped*(-1.5),\n",
    "            \"mpv1\": PEAKPOS+34, \n",
    "            \"sigma1\": 6.5\n",
    "        }\n",
    "    stepsize = {f\"error_{key}\": value*0.3 for key, value in initial.items()}\n",
    "\n",
    "    m0 = iminuit.Minuit(fit_function, **initial, **stepsize, print_level=0, pedantic=False, throw_nan=True)\n",
    "    m0.migrad()\n",
    "    return m0.values\n",
    "\n",
    "coeff = python_fit()"
   ]
  },
  {
   "cell_type": "code",
   "execution_count": 22,
   "metadata": {},
   "outputs": [
    {
     "data": {
      "text/plain": [
       "[<matplotlib.lines.Line2D at 0x14116c970>]"
      ]
     },
     "execution_count": 22,
     "metadata": {},
     "output_type": "execute_result"
    },
    {
     "data": {
      "image/png": "[encoded data removed]",
      "text/plain": [
       "<Figure size 432x288 with 1 Axes>"
      ]
     },
     "metadata": {
      "needs_background": "light"
     },
     "output_type": "display_data"
    }
   ],
   "source": [
    "plt.plot(x_wf, y_wf)\n",
    "plt.plot(x_wf, py_landau_fit(x_wf, **coeff))"
   ]
  },
  {
   "cell_type": "markdown",
   "metadata": {},
   "source": [
    "## Step 5: Optimisations"
   ]
  },
  {
   "cell_type": "code",
   "execution_count": 23,
   "metadata": {},
   "outputs": [
    {
     "name": "stdout",
     "output_type": "stream",
     "text": [
      "2.5 ms ± 26.2 µs per loop (mean ± std. dev. of 7 runs, 100 loops each)\n",
      "334 ms ± 5.64 ms per loop (mean ± std. dev. of 7 runs, 1 loop each)\n"
     ]
    }
   ],
   "source": [
    "%timeit root_fit()\n",
    "%timeit python_fit()"
   ]
  },
  {
   "cell_type": "markdown",
   "metadata": {},
   "source": [
    "Currently the Python fit is a factor of >100 times slower than the ROOT fitting. Lets speed up the Python algorithm with numba.\n",
    "\n",
    "**!!WARNING, restart of kernel is required (numba incompatibility with ROOT interpreter**"
   ]
  },
  {
   "cell_type": "code",
   "execution_count": null,
   "metadata": {},
   "outputs": [],
   "source": [
    "# Restart Kernel so we can import numba\n",
    "import os\n",
    "os._exit(00)"
   ]
  },
  {
   "cell_type": "code",
   "execution_count": 2,
   "metadata": {},
   "outputs": [],
   "source": [
    "import numpy as np\n",
    "from scipy.optimize import brent\n",
    "from scipy.stats.distributions import poisson\n",
    "import iminuit\n",
    "from matplotlib import pyplot as plt\n",
    "from numba import njit, vectorize, float64, float32\n",
    "%matplotlib inline"
   ]
  },
  {
   "cell_type": "code",
   "execution_count": 3,
   "metadata": {},
   "outputs": [],
   "source": [
    "# Load dataset\n",
    "wf = np.loadtxt(\"test_wf.txt\")\n",
    "vped = 800\n",
    "    \n",
    "x_wf = np.linspace(0.5, 95.5, wf.size)\n",
    "y_wf = wf.astype(np.int)"
   ]
  },
  {
   "cell_type": "code",
   "execution_count": 9,
   "metadata": {},
   "outputs": [],
   "source": [
    "p1 = np.array([0.4259894875,-0.1249762550, 0.03984243700, -0.006298287635,   0.001511162253])\n",
    "q1 = np.array([1.0         ,-0.3388260629, 0.09594393323, -0.01608042283,    0.003778942063])\n",
    "p2 = np.array([0.1788541609, 0.1173957403, 0.01488850518, -0.001394989411,   0.0001283617211])\n",
    "q2 = np.array([1.0         , 0.7428795082, 0.3153932961,   0.06694219548,    0.008790609714])\n",
    "p3 = np.array([0.1788544503, 0.09359161662,0.006325387654, 0.00006611667319,-0.000002031049101])\n",
    "q3 = np.array([1.0         , 0.6097809921, 0.2560616665,   0.04746722384,    0.006957301675])\n",
    "p4 = np.array([0.9874054407, 118.6723273,  849.2794360,   -743.7792444,      427.0262186])\n",
    "q4 = np.array([1.0         , 106.8615961,  337.6496214,    2016.712389,      1597.063511])\n",
    "p5 = np.array([1.003675074,  167.5702434,  4789.711289,    21217.86767,     -22324.94910])\n",
    "q5 = np.array([1.0         , 156.9424537,  3745.310488,    9834.698876,      66924.28357])\n",
    "p6 = np.array([1.000827619,  664.9143136,  62972.92665,    475554.6998,     -5743609.109])\n",
    "q6 = np.array([1.0         , 651.4101098,  56974.73333,    165917.4725,     -2815759.939])\n",
    "a1 = np.array([0.04166666667,-0.01996527778, 0.02709538966])\n",
    "a2 = np.array([-1.845568670,-4.284640743])\n",
    "\n",
    "@vectorize([float64(float64, float64, float64)], fastmath=True)\n",
    "def nb_landau_pdf(x, xi=1, x0=0):\n",
    "    if (xi <= 0):\n",
    "        return 0\n",
    "    v = (x - x0)/xi\n",
    "    if (v < -5.5):\n",
    "        u   = np.exp(v+1.0)\n",
    "        if (u < 1e-10): \n",
    "            return 0.0\n",
    "        ue  = np.exp(-1/u)\n",
    "        us  = np.sqrt(u)\n",
    "        denlan = 0.3989422803*(ue/us)*(1+(a1[0]+(a1[1]+a1[2]*u)*u)*u)\n",
    "    elif (v < -1):\n",
    "        u   = np.exp(-v-1);\n",
    "        denlan = np.exp(-u)*np.sqrt(u)*(p1[0]+(p1[1]+(p1[2]+(p1[3]+p1[4]*v)*v)*v)*v)/(q1[0]+(q1[1]+(q1[2]+(q1[3]+q1[4]*v)*v)*v)*v)\n",
    "    elif (v < 1):\n",
    "        denlan = (p2[0]+(p2[1]+(p2[2]+(p2[3]+p2[4]*v)*v)*v)*v)/(q2[0]+(q2[1]+(q2[2]+(q2[3]+q2[4]*v)*v)*v)*v)\n",
    "    elif (v < 5):\n",
    "        denlan = (p3[0]+(p3[1]+(p3[2]+(p3[3]+p3[4]*v)*v)*v)*v)/(q3[0]+(q3[1]+(q3[2]+(q3[3]+q3[4]*v)*v)*v)*v)\n",
    "    elif (v < 12):\n",
    "        u   = 1/v\n",
    "        denlan = u*u*(p4[0]+(p4[1]+(p4[2]+(p4[3]+p4[4]*u)*u)*u)*u)/(q4[0]+(q4[1]+(q4[2]+(q4[3]+q4[4]*u)*u)*u)*u)\n",
    "    elif (v < 50):\n",
    "        u = 1/v\n",
    "        denlan = u*u*(p5[0]+(p5[1]+(p5[2]+(p5[3]+p5[4]*u)*u)*u)*u)/(q5[0]+(q5[1]+(q5[2]+(q5[3]+q5[4]*u)*u)*u)*u)\n",
    "    elif (v < 300):\n",
    "        u   = 1/v\n",
    "        denlan = u*u*(p6[0]+(p6[1]+(p6[2]+(p6[3]+p6[4]*u)*u)*u)*u)/(q6[0]+(q6[1]+(q6[2]+(q6[3]+q6[4]*u)*u)*u)*u)\n",
    "    else:\n",
    "        u   = 1/(v-v*np.log(v)/(v+1))\n",
    "        denlan = u*u*(1+(a2[0]+a2[1]*u)*u)\n",
    "    return denlan/xi;\n",
    "\n",
    "@vectorize([float64(float64, float64, float64)], fastmath=True)\n",
    "def nb_landau(x, mpv, sigma):\n",
    "    if (sigma <= 0):\n",
    "        return 0\n",
    "    return nb_landau_pdf( (x-mpv)/sigma, 1, 0)\n",
    "\n",
    "@vectorize([float64(float64, float64, float64, float64, float64, float64, float64)], fastmath=True)\n",
    "def nb_landau_fit(x, scale0, mpv0, sigma0, scale1, mpv1, sigma1):\n",
    "    return scale0 * nb_landau(x, mpv0, sigma0) + scale1 * nb_landau(x, mpv1, sigma1)"
   ]
  },
  {
   "cell_type": "code",
   "execution_count": 10,
   "metadata": {},
   "outputs": [],
   "source": [
    "@njit\n",
    "def fit_function(scale0, mpv0, sigma0, scale1, mpv1, sigma1):\n",
    "    y_fit = nb_landau_fit(x_wf, scale0, mpv0, sigma0, scale1, mpv1, sigma1)\n",
    "    error = 1\n",
    "    chi2 = np.sum((y_wf - y_fit / error) ** 2)\n",
    "    return chi2\n",
    "\n",
    "def nb_fit():\n",
    "    # Default fit parameter settings\n",
    "    PEAKPOS = 30\n",
    "\n",
    "    initial = {\n",
    "        \"scale0\": 0, \n",
    "        \"mpv0\": 0, \n",
    "        \"sigma0\": 0, \n",
    "        \"scale1\": 0,\n",
    "        \"mpv1\": 0, \n",
    "        \"sigma1\": 0\n",
    "    }\n",
    "    if ((initial[\"scale0\"] < 1e-6) & (vped > 0.0)):\n",
    "        initial = {\n",
    "            \"scale0\": vped*11.0, \n",
    "            \"mpv0\": PEAKPOS, \n",
    "            \"sigma0\": 3.0, \n",
    "            \"scale1\": vped*(-2.75),\n",
    "            \"mpv1\": PEAKPOS+21, \n",
    "            \"sigma1\": 6.5\n",
    "        }\n",
    "    elif ((initial[\"scale0\"] > -1e-6) & (vped < 0.0)):\n",
    "        initial = {\n",
    "            \"scale0\": vped*4.0, \n",
    "            \"mpv0\": PEAKPOS, \n",
    "            \"sigma0\": 3.0, \n",
    "            \"scale1\": vped*(-1.5),\n",
    "            \"mpv1\": PEAKPOS+34, \n",
    "            \"sigma1\": 6.5\n",
    "        }\n",
    "    stepsize = {f\"error_{key}\": value*0.3 for key, value in initial.items()}\n",
    "\n",
    "    m0 = iminuit.Minuit(fit_function, **initial, **stepsize, print_level=0, pedantic=False, throw_nan=True)\n",
    "    m0.migrad()\n",
    "    return m0.values\n",
    "\n",
    "coeff = nb_fit()"
   ]
  },
  {
   "cell_type": "code",
   "execution_count": 11,
   "metadata": {},
   "outputs": [
    {
     "data": {
      "text/plain": [
       "[<matplotlib.lines.Line2D at 0x130517970>]"
      ]
     },
     "execution_count": 11,
     "metadata": {},
     "output_type": "execute_result"
    },
    {
     "data": {
      "image/png": "[encoded data removed]",
      "text/plain": [
       "<Figure size 432x288 with 1 Axes>"
      ]
     },
     "metadata": {
      "needs_background": "light"
     },
     "output_type": "display_data"
    }
   ],
   "source": [
    "plt.plot(x_wf, y_wf)\n",
    "plt.plot(x_wf, nb_landau_fit(x_wf, *coeff.values()))"
   ]
  },
  {
   "cell_type": "code",
   "execution_count": 12,
   "metadata": {},
   "outputs": [
    {
     "name": "stdout",
     "output_type": "stream",
     "text": [
      "1.15 ms ± 92.5 µs per loop (mean ± std. dev. of 7 runs, 1000 loops each)\n"
     ]
    }
   ],
   "source": [
    "%timeit nb_fit()"
   ]
  },
  {
   "cell_type": "markdown",
   "metadata": {},
   "source": [
    "### Back on par with the ROOT fitting algorithm! (and a factor of 2 speed up!)"
   ]
  },
  {
   "cell_type": "code",
   "execution_count": null,
   "metadata": {},
   "outputs": [],
   "source": []
  }
 ],
 "metadata": {
  "kernelspec": {
   "display_name": "Python [conda env:cernroot]",
   "language": "python",
   "name": "conda-env-cernroot-py"
  },
  "language_info": {
   "codemirror_mode": {
    "name": "ipython",
    "version": 3
   },
   "file_extension": ".py",
   "mimetype": "text/x-python",
   "name": "python",
   "nbconvert_exporter": "python",
   "pygments_lexer": "ipython3",
   "version": "3.8.2"
  }
 },
 "nbformat": 4,
 "nbformat_minor": 4
}
