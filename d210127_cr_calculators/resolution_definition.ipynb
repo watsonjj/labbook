{
 "cells": [
  {
   "cell_type": "markdown",
   "metadata": {},
   "source": [
    " # Intensity Resolution Definition"
   ]
  },
  {
   "cell_type": "code",
   "execution_count": 2,
   "metadata": {},
   "outputs": [],
   "source": [
    "import numpy as np\n",
    "from matplotlib import pyplot as plt\n",
    "%matplotlib inline"
   ]
  },
  {
   "cell_type": "code",
   "execution_count": 3,
   "metadata": {},
   "outputs": [],
   "source": [
    "def calculate_requirement_curve(pe, nsb, window_width, electronic_noise, miscal, enf):\n",
    "    \"\"\"\n",
    "    Equation for calculating the Goal and Requirement curves, as used in the CTA requirement\n",
    "\n",
    "    Parameters\n",
    "    ----------\n",
    "    pe : ndarray\n",
    "        Number of photoelectrons (p.e.)\n",
    "    nsb : float\n",
    "        NSB rate (MHz)\n",
    "    window_width : float\n",
    "        Integration window width (ns)\n",
    "    electronic_noise : float\n",
    "        Charge Stddev due to integrated electronic noise (p.e.)\n",
    "    miscal : float\n",
    "        Multiplicative errors of the gain.\n",
    "    enf : float\n",
    "        Excess noise factor.\n",
    "    \"\"\"\n",
    "    var_noise = nsb * window_width + electronic_noise**2\n",
    "    var_enf = (1 + enf)**2 * pe\n",
    "    var_miscal = (miscal * pe)**2\n",
    "    sigma_q = np.sqrt(var_noise + var_enf + var_miscal)\n",
    "    return sigma_q / pe"
   ]
  },
  {
   "cell_type": "code",
   "execution_count": 4,
   "metadata": {},
   "outputs": [],
   "source": [
    "def calculate_requirement_nominal_nsb(pe):\n",
    "    return calculate_requirement_curve(\n",
    "        pe,\n",
    "        nsb=0.125,\n",
    "        window_width=15,\n",
    "        electronic_noise=0.87,\n",
    "        miscal=0.1,\n",
    "        enf=0.2,\n",
    "    )"
   ]
  },
  {
   "cell_type": "code",
   "execution_count": 5,
   "metadata": {},
   "outputs": [],
   "source": [
    "def calculate_requirement_high_nsb(pe):\n",
    "    return calculate_requirement_curve(\n",
    "        pe,\n",
    "        nsb=1.25,\n",
    "        window_width=15,\n",
    "        electronic_noise=0.87,\n",
    "        miscal=0.1,\n",
    "        enf=0.2,\n",
    "    )"
   ]
  },
  {
   "cell_type": "code",
   "execution_count": 54,
   "metadata": {},
   "outputs": [
    {
     "data": {
      "image/png": "[encoded data removed]",
      "text/plain": [
       "<Figure size 432x288 with 1 Axes>"
      ]
     },
     "metadata": {
      "needs_background": "light"
     },
     "output_type": "display_data"
    }
   ],
   "source": [
    "x, y = np.loadtxt(\"IntensityRes.txt\", unpack=True)\n",
    "plt.plot(x, y)\n",
    "plt.xscale(\"log\")\n",
    "plt.yscale(\"log\")\n",
    "\n",
    "ph = x\n",
    "requirement_pde = 0.25\n",
    "pe = ph * requirement_pde\n",
    "req_nominal_nsb = calculate_requirement_nominal_nsb(pe)\n",
    "plt.plot(ph, req_nominal_nsb)\n",
    "np.testing.assert_allclose(y, req_nominal_nsb, rtol=1e-5)"
   ]
  },
  {
   "cell_type": "code",
   "execution_count": 55,
   "metadata": {},
   "outputs": [
    {
     "data": {
      "image/png": "[encoded data removed]",
      "text/plain": [
       "<Figure size 432x288 with 1 Axes>"
      ]
     },
     "metadata": {
      "needs_background": "light"
     },
     "output_type": "display_data"
    }
   ],
   "source": [
    "x, y = np.loadtxt(\"IntensityResHighNSB.txt\", unpack=True)\n",
    "plt.plot(x, y)\n",
    "plt.xscale(\"log\")\n",
    "plt.yscale(\"log\")\n",
    "\n",
    "ph = x\n",
    "requirement_pde = 0.25\n",
    "pe = ph * requirement_pde\n",
    "req_high_nsb = calculate_requirement_high_nsb(pe)\n",
    "plt.plot(ph, req_high_nsb)\n",
    "np.testing.assert_allclose(y, req_high_nsb, rtol=1e-5)"
   ]
  },
  {
   "cell_type": "markdown",
   "metadata": {},
   "source": [
    "The underlying formula for the requirement curves are demonstrated here. The formula used here defines the Intensity Resolution at an intensity $I$ as the Charge Resolution at a charge of $I \\times \\epsilon_{PDE}$, where a nominal PDE of $\\epsilon_{PDE} = 0.25$ is used. \n",
    "\n",
    "There are two equivalent formula which therefore describe the Fractional Intensity Resolution:\n",
    "\n",
    "$$\\frac{\\sigma_{I_T}}{I_T} = \\frac{1}{I_T} \\sqrt{\\frac{\\sum_{i=0}^N (I_{M_i} - I_T)^2}{N}}$$\n",
    "\n",
    "Where $I_{M_i}$ are individual measurements of the intensity in photons of a true intensity $I_T$, and\n",
    "\n",
    "$$\\frac{\\sigma_{I_T=\\frac{Q_T}{\\epsilon_{PDE}}}}{Q_T} = \\frac{1}{Q_T} \\sqrt{\\frac{\\sum_{i=0}^N (Q_{M_i} - Q_T)^2}{N}}$$\n",
    "\n",
    "Where $Q_{M_i}$ are individual measurements of the charge (p.e.) of a true charge $Q_T$. The equivalence is demonstrated below difference between the two definitions is explored below:"
   ]
  },
  {
   "cell_type": "code",
   "execution_count": 27,
   "metadata": {},
   "outputs": [
    {
     "name": "stdout",
     "output_type": "stream",
     "text": [
      "Charge Resolution at Q = 50 p.e. is 0.20\n",
      "Intensity Resolution at I=200.0 photons using Equation 1 is 0.20\n",
      "Intensity Resolution at I=200.0 photons using Equation 2 is 0.20\n"
     ]
    }
   ],
   "source": [
    "amplitude_pe = 50\n",
    "charge_pe = np.random.normal(amplitude_pe, 10, 100000)\n",
    "res_pe = charge_pe.std()\n",
    "\n",
    "amplitude_ph = amplitude_pe / requirement_pde\n",
    "\n",
    "charge_ph = charge_pe / requirement_pde\n",
    "res_ph = charge_ph.std()\n",
    "\n",
    "\n",
    "print(f\"Charge Resolution at Q = {amplitude_pe} p.e. is {res_pe/amplitude_pe:.2f}\")\n",
    "print(f\"Intensity Resolution at I={amplitude_ph} photons using Equation 1 is {res_ph / amplitude_ph:.2f}\")\n",
    "print(f\"Intensity Resolution at I={amplitude_ph} photons using Equation 2 is {res_pe / amplitude_pe:.2f}\")"
   ]
  },
  {
   "cell_type": "code",
   "execution_count": null,
   "metadata": {},
   "outputs": [],
   "source": []
  }
 ],
 "metadata": {
  "kernelspec": {
   "display_name": "Python [conda env:cta] *",
   "language": "python",
   "name": "conda-env-cta-py"
  },
  "language_info": {
   "codemirror_mode": {
    "name": "ipython",
    "version": 3
   },
   "file_extension": ".py",
   "mimetype": "text/x-python",
   "name": "python",
   "nbconvert_exporter": "python",
   "pygments_lexer": "ipython3",
   "version": "3.7.8"
  }
 },
 "nbformat": 4,
 "nbformat_minor": 4
}
