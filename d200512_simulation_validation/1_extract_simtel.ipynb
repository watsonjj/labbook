{
 "cells": [
  {
   "cell_type": "markdown",
   "metadata": {},
   "source": [
    "# Simulation Validation\n",
    "\n",
    "The aim of this notebook is to match the camera definition in sstcam-simulation to the one used in the CHEC-S prototype simtelarray configuration. This is achieved by tweaking the parameters until the SPE spectrum matches. The Charge Resolutions are then compared to confirm the performance of the two simulations match."
   ]
  },
  {
   "cell_type": "code",
   "execution_count": 35,
   "metadata": {},
   "outputs": [],
   "source": [
    "from ctapipe.io import SimTelEventSource\n",
    "from ctapipe.image.extractor import extract_around_peak, integration_correction\n",
    "from sstcam_simulation import Camera, SSTCameraMapping, PhotoelectronSource, EventAcquisition\n",
    "from sstcam_simulation.camera.spe import SiPMGentileSPE, PerfectPhotosensor\n",
    "from sstcam_simulation.camera.pulse import GenericPulse\n",
    "from sstcam_simulation.camera.noise import GaussianNoise\n",
    "from CHECLabPy.core.io import HDF5Writer, HDF5Reader\n",
    "from CHECLabPy.spectrum_fitters import SpectrumParameter, SiPMGentileFitter as GentileFitter\n",
    "from CHECLabPy.utils.resolutions import ChargeResolution\n",
    "from glob import glob\n",
    "import re\n",
    "from tqdm.auto import tqdm, trange\n",
    "import numpy as np\n",
    "from numpy.polynomial.polynomial import polyfit, polyval\n",
    "import pandas as pd\n",
    "from scipy import interpolate\n",
    "from scipy.ndimage import correlate1d\n",
    "from matplotlib import pyplot as plt\n",
    "\n",
    "%matplotlib inline"
   ]
  },
  {
   "cell_type": "markdown",
   "metadata": {},
   "source": [
    "# Preparation"
   ]
  },
  {
   "cell_type": "code",
   "execution_count": 5,
   "metadata": {},
   "outputs": [],
   "source": [
    "runlist_path = \"/Volumes/gct-jason/sim_telarray/d180907_dynrange/opct40/40MHz/runlist.txt\"\n",
    "runlist = pd.read_csv(runlist_path, delimiter=' ', index_col=0, comment='#')"
   ]
  },
  {
   "cell_type": "code",
   "execution_count": 6,
   "metadata": {},
   "outputs": [],
   "source": [
    "def atoi(text):\n",
    "    return int(text) if text.isdigit() else text\n",
    "\n",
    "def natural_keys(text):\n",
    "    return [atoi(c) for c in re.split('(\\d+)', text)]\n",
    "\n",
    "\n",
    "def sort_file_list(file_list):\n",
    "    file_list.sort(key=natural_keys)\n",
    "    return file_list"
   ]
  },
  {
   "cell_type": "code",
   "execution_count": 282,
   "metadata": {},
   "outputs": [],
   "source": [
    "simtel_0MHz_paths = sort_file_list(glob(\"/Volumes/gct-jason/sim_telarray/d180907_dynrange/opct40/0MHz/*.simtel.gz\"))\n",
    "simtel_40MHz_paths = sort_file_list(glob(\"/Volumes/gct-jason/sim_telarray/d180907_dynrange/opct40/40MHz/*.simtel.gz\"))"
   ]
  },
  {
   "cell_type": "code",
   "execution_count": 283,
   "metadata": {},
   "outputs": [
    {
     "data": {
      "image/png": "[encoded data removed]",
      "text/plain": [
       "<Figure size 432x288 with 1 Axes>"
      ]
     },
     "metadata": {
      "needs_background": "light"
     },
     "output_type": "display_data"
    }
   ],
   "source": [
    "# Obtain reference pulse shape from simtel file\n",
    "simtel_source = SimTelEventSource(input_url=simtel_40MHz_paths[0])\n",
    "ref_x = simtel_source.subarray.tel[1].camera.readout.reference_pulse_sample_time.to_value('ns')\n",
    "ref_y = simtel_source.subarray.tel[1].camera.readout.reference_pulse_shape[0]\n",
    "ref_width = simtel_source.subarray.tel[1].camera.readout.reference_pulse_sample_width.to_value('ns')\n",
    "plt.plot(ref_x, ref_y)\n",
    "\n",
    "for event in simtel_source:\n",
    "    example_waveforms = event.r1.tel[1].waveform\n",
    "    n_pixels, n_samples = event.r1.tel[1].waveform.shape    \n",
    "    break"
   ]
  },
  {
   "cell_type": "code",
   "execution_count": 284,
   "metadata": {},
   "outputs": [
    {
     "data": {
      "text/plain": [
       "[<matplotlib.lines.Line2D at 0x1a32669750>]"
      ]
     },
     "execution_count": 284,
     "metadata": {},
     "output_type": "execute_result"
    },
    {
     "data": {
      "image/png": "[encoded data removed]",
      "text/plain": [
       "<Figure size 432x288 with 1 Axes>"
      ]
     },
     "metadata": {
      "needs_background": "light"
     },
     "output_type": "display_data"
    }
   ],
   "source": [
    "plt.plot(example_waveforms[0])"
   ]
  },
  {
   "cell_type": "code",
   "execution_count": 285,
   "metadata": {},
   "outputs": [],
   "source": [
    "class ChargeExtractor:\n",
    "    def __init__(self, ref_x, ref_y, ref_width, example_waveforms, window_width=8, window_shift=3):\n",
    "        self.ref_x = ref_x\n",
    "        self.ref_y = ref_y\n",
    "        self.window_width = window_width\n",
    "        self.window_shift = window_shift\n",
    "        \n",
    "        # Integration window correction\n",
    "        self.correction = integration_correction(ref_y[None, :], ref_width, 1, window_width, window_shift)\n",
    "        \n",
    "        # Prepare for cc\n",
    "        f = interpolate.interp1d(ref_x, ref_y, kind=3)\n",
    "        cc_ref_x = np.arange(0, ref_x[-1], 1)\n",
    "        cc_ref_y = f(cc_ref_x)\n",
    "        y_1pe = cc_ref_y / np.trapz(cc_ref_y)\n",
    "        self.origin = cc_ref_y.argmax() - cc_ref_y.size // 2\n",
    "        scale = correlate1d(y_1pe, cc_ref_y, mode='constant', origin=self.origin).max()\n",
    "        self.cc_ref_y = cc_ref_y / scale\n",
    "        \n",
    "        # Fix integration start and width\n",
    "        self.window_peak_index = self._get_window_peak_index(example_waveforms)\n",
    "        self.cc_peak_index = self._get_cc_peak_index(example_waveforms)\n",
    "        \n",
    "    def _get_window_peak_index(self, waveforms):\n",
    "        return waveforms.mean(axis=0).argmax()\n",
    "    \n",
    "    def _get_cc(self, waveforms):\n",
    "        return correlate1d(waveforms, self.cc_ref_y, mode='constant', origin=self.origin)\n",
    "    \n",
    "    def _get_cc_peak_index(self, waveforms):\n",
    "        cc = self._get_cc(waveforms)\n",
    "        return cc.mean(axis=0).argmax()\n",
    "        \n",
    "    def extract_window(self, waveforms):\n",
    "        start = self.window_peak_index - self.window_shift\n",
    "        charge, _ = extract_around_peak(waveforms, start, self.window_width, 0, 1)\n",
    "        return charge * self.correction\n",
    "    \n",
    "    def extract_cc(self, waveforms):\n",
    "        cc = self._get_cc(waveforms)\n",
    "        charge = cc[:, self.cc_peak_index]\n",
    "        return charge\n",
    "\n",
    "extractor = ChargeExtractor(ref_x, ref_y, ref_width, example_waveforms)"
   ]
  },
  {
   "cell_type": "markdown",
   "metadata": {},
   "source": [
    "# Extract from simtel files"
   ]
  },
  {
   "cell_type": "code",
   "execution_count": 286,
   "metadata": {},
   "outputs": [],
   "source": [
    "def extract_from_simtel_list(paths, max_events=None):\n",
    "    df_list = []\n",
    "    poi = 888\n",
    "    pixel_array = np.arange(n_pixels)\n",
    "    for path in tqdm(paths, total=len(paths)):\n",
    "        regex = re.search(r\".*run(\\d+).simtel.gz\", path)\n",
    "        run = int(regex.group(1))\n",
    "        illumination = runlist.loc[run, 'pe_expected']\n",
    "        simtel_source = SimTelEventSource(input_url=path, max_events=max_events)\n",
    "        for event in tqdm(simtel_source):\n",
    "            iev = event.count\n",
    "            waveforms = event.r1.tel[1].waveform\n",
    "            true_pe = event.mc.tel[1].photo_electron_image\n",
    "            true_charge = np.nan\n",
    "            charge_window = extractor.extract_window(waveforms)\n",
    "            charge_cc = extractor.extract_cc(waveforms)\n",
    "\n",
    "            df_list.append(pd.DataFrame(dict(\n",
    "                illumination=illumination,\n",
    "                iev=iev,\n",
    "                ipix=[poi],\n",
    "                true_pe=true_pe[poi],\n",
    "                true_charge=true_charge,\n",
    "                charge_window=charge_window[poi],\n",
    "                charge_cc=charge_cc[poi],\n",
    "            )))\n",
    "    return pd.concat(df_list, ignore_index=True)"
   ]
  },
  {
   "cell_type": "code",
   "execution_count": 287,
   "metadata": {},
   "outputs": [
    {
     "data": {
      "application/vnd.jupyter.widget-view+json": {
       "model_id": "20e674886da54f5288f650a4bfafc20b",
       "version_major": 2,
       "version_minor": 0
      },
      "text/plain": [
       "HBox(children=(FloatProgress(value=0.0, max=5.0), HTML(value='')))"
      ]
     },
     "metadata": {},
     "output_type": "display_data"
    },
    {
     "data": {
      "application/vnd.jupyter.widget-view+json": {
       "model_id": "08121934c79347e591b696fb087d3373",
       "version_major": 2,
       "version_minor": 0
      },
      "text/plain": [
       "HBox(children=(FloatProgress(value=1.0, bar_style='info', max=1.0), HTML(value='')))"
      ]
     },
     "metadata": {},
     "output_type": "display_data"
    },
    {
     "name": "stdout",
     "output_type": "stream",
     "text": [
      "\n"
     ]
    },
    {
     "data": {
      "application/vnd.jupyter.widget-view+json": {
       "model_id": "342827d5d0ab4d03a319be4b03231120",
       "version_major": 2,
       "version_minor": 0
      },
      "text/plain": [
       "HBox(children=(FloatProgress(value=1.0, bar_style='info', max=1.0), HTML(value='')))"
      ]
     },
     "metadata": {},
     "output_type": "display_data"
    },
    {
     "name": "stdout",
     "output_type": "stream",
     "text": [
      "\n"
     ]
    },
    {
     "data": {
      "application/vnd.jupyter.widget-view+json": {
       "model_id": "d373b6bf78444933badf451e55d7fa1f",
       "version_major": 2,
       "version_minor": 0
      },
      "text/plain": [
       "HBox(children=(FloatProgress(value=1.0, bar_style='info', max=1.0), HTML(value='')))"
      ]
     },
     "metadata": {},
     "output_type": "display_data"
    },
    {
     "name": "stdout",
     "output_type": "stream",
     "text": [
      "\n"
     ]
    },
    {
     "data": {
      "application/vnd.jupyter.widget-view+json": {
       "model_id": "654b4bd95c0f40e8b0535a687717d304",
       "version_major": 2,
       "version_minor": 0
      },
      "text/plain": [
       "HBox(children=(FloatProgress(value=1.0, bar_style='info', max=1.0), HTML(value='')))"
      ]
     },
     "metadata": {},
     "output_type": "display_data"
    },
    {
     "name": "stdout",
     "output_type": "stream",
     "text": [
      "\n"
     ]
    },
    {
     "data": {
      "application/vnd.jupyter.widget-view+json": {
       "model_id": "047ff5cf82b04bf092174cb90781287a",
       "version_major": 2,
       "version_minor": 0
      },
      "text/plain": [
       "HBox(children=(FloatProgress(value=1.0, bar_style='info', max=1.0), HTML(value='')))"
      ]
     },
     "metadata": {},
     "output_type": "display_data"
    },
    {
     "name": "stdout",
     "output_type": "stream",
     "text": [
      "\n",
      "\n",
      "Creating HDF5 file: simtel_spe_scan.h5\n",
      "Saving metadata to HDF5 file\n"
     ]
    }
   ],
   "source": [
    "simtel_spe_scan = extract_from_simtel_list(simtel_0MHz_paths)\n",
    "with HDF5Writer(\"simtel_spe_scan.h5\") as writer:\n",
    "    writer.write(data=simtel_spe_scan)"
   ]
  },
  {
   "cell_type": "code",
   "execution_count": 108,
   "metadata": {},
   "outputs": [
    {
     "data": {
      "text/plain": [
       "(-0.5, 4)"
      ]
     },
     "execution_count": 108,
     "metadata": {},
     "output_type": "execute_result"
    },
    {
     "data": {
      "image/png": "[encoded data removed]",
      "text/plain": [
       "<Figure size 432x288 with 1 Axes>"
      ]
     },
     "metadata": {
      "needs_background": "light"
     },
     "output_type": "display_data"
    }
   ],
   "source": [
    "spe_df = simtel_spe_scan.loc[simtel_spe_scan['illumination'] == simtel_spe_scan['illumination'].min()]\n",
    "_ = plt.hist(spe_df['charge_window'], bins=200, histtype='step')\n",
    "_ = plt.hist(spe_df['charge_cc'], bins=200, histtype='step')\n",
    "#_ = plt.hist(spe_df['true_pe'], bins=200, histtype='step')\n",
    "#_ = plt.hist(spe_df['true_charge'], bins=200, histtype='step')\n",
    "plt.xlim([-0.5, 4])"
   ]
  },
  {
   "cell_type": "code",
   "execution_count": 16,
   "metadata": {},
   "outputs": [
    {
     "data": {
      "application/vnd.jupyter.widget-view+json": {
       "model_id": "3e9987c73f6f40b3846745a5975a7103",
       "version_major": 2,
       "version_minor": 0
      },
      "text/plain": [
       "HBox(children=(FloatProgress(value=0.0, max=18.0), HTML(value='')))"
      ]
     },
     "metadata": {},
     "output_type": "display_data"
    },
    {
     "data": {
      "application/vnd.jupyter.widget-view+json": {
       "model_id": "0d97459396a54b1492fae0ac0933c5f6",
       "version_major": 2,
       "version_minor": 0
      },
      "text/plain": [
       "HBox(children=(FloatProgress(value=1.0, bar_style='info', max=1.0), HTML(value='')))"
      ]
     },
     "metadata": {},
     "output_type": "display_data"
    },
    {
     "name": "stdout",
     "output_type": "stream",
     "text": [
      "\n"
     ]
    },
    {
     "data": {
      "application/vnd.jupyter.widget-view+json": {
       "model_id": "d2d32f34dc3e4e32b5c01b531c0d95f2",
       "version_major": 2,
       "version_minor": 0
      },
      "text/plain": [
       "HBox(children=(FloatProgress(value=1.0, bar_style='info', max=1.0), HTML(value='')))"
      ]
     },
     "metadata": {},
     "output_type": "display_data"
    },
    {
     "name": "stdout",
     "output_type": "stream",
     "text": [
      "\n"
     ]
    },
    {
     "data": {
      "application/vnd.jupyter.widget-view+json": {
       "model_id": "faf73317a11f43a68b26f530711e5edb",
       "version_major": 2,
       "version_minor": 0
      },
      "text/plain": [
       "HBox(children=(FloatProgress(value=1.0, bar_style='info', max=1.0), HTML(value='')))"
      ]
     },
     "metadata": {},
     "output_type": "display_data"
    },
    {
     "name": "stdout",
     "output_type": "stream",
     "text": [
      "\n"
     ]
    },
    {
     "data": {
      "application/vnd.jupyter.widget-view+json": {
       "model_id": "03a7b5c8cd9e47609f63043882ad4838",
       "version_major": 2,
       "version_minor": 0
      },
      "text/plain": [
       "HBox(children=(FloatProgress(value=1.0, bar_style='info', max=1.0), HTML(value='')))"
      ]
     },
     "metadata": {},
     "output_type": "display_data"
    },
    {
     "name": "stdout",
     "output_type": "stream",
     "text": [
      "\n"
     ]
    },
    {
     "data": {
      "application/vnd.jupyter.widget-view+json": {
       "model_id": "ceaf5f846d0a44a8acaa6ab247d3823e",
       "version_major": 2,
       "version_minor": 0
      },
      "text/plain": [
       "HBox(children=(FloatProgress(value=1.0, bar_style='info', max=1.0), HTML(value='')))"
      ]
     },
     "metadata": {},
     "output_type": "display_data"
    },
    {
     "name": "stdout",
     "output_type": "stream",
     "text": [
      "\n"
     ]
    },
    {
     "data": {
      "application/vnd.jupyter.widget-view+json": {
       "model_id": "131998276edc4eb8bd91bc3aeb9a8aaa",
       "version_major": 2,
       "version_minor": 0
      },
      "text/plain": [
       "HBox(children=(FloatProgress(value=1.0, bar_style='info', max=1.0), HTML(value='')))"
      ]
     },
     "metadata": {},
     "output_type": "display_data"
    },
    {
     "name": "stdout",
     "output_type": "stream",
     "text": [
      "\n"
     ]
    },
    {
     "data": {
      "application/vnd.jupyter.widget-view+json": {
       "model_id": "48d7725d2f9149709902880bef427e9d",
       "version_major": 2,
       "version_minor": 0
      },
      "text/plain": [
       "HBox(children=(FloatProgress(value=1.0, bar_style='info', max=1.0), HTML(value='')))"
      ]
     },
     "metadata": {},
     "output_type": "display_data"
    },
    {
     "name": "stdout",
     "output_type": "stream",
     "text": [
      "\n"
     ]
    },
    {
     "data": {
      "application/vnd.jupyter.widget-view+json": {
       "model_id": "b0d85a8b543e41eb901671039e05ab05",
       "version_major": 2,
       "version_minor": 0
      },
      "text/plain": [
       "HBox(children=(FloatProgress(value=1.0, bar_style='info', max=1.0), HTML(value='')))"
      ]
     },
     "metadata": {},
     "output_type": "display_data"
    },
    {
     "name": "stdout",
     "output_type": "stream",
     "text": [
      "\n"
     ]
    },
    {
     "data": {
      "application/vnd.jupyter.widget-view+json": {
       "model_id": "0040d3648049432197c609e071df4a4f",
       "version_major": 2,
       "version_minor": 0
      },
      "text/plain": [
       "HBox(children=(FloatProgress(value=1.0, bar_style='info', max=1.0), HTML(value='')))"
      ]
     },
     "metadata": {},
     "output_type": "display_data"
    },
    {
     "name": "stdout",
     "output_type": "stream",
     "text": [
      "\n"
     ]
    },
    {
     "data": {
      "application/vnd.jupyter.widget-view+json": {
       "model_id": "18a654dc6f3a44d995a4bd9f0601f4d9",
       "version_major": 2,
       "version_minor": 0
      },
      "text/plain": [
       "HBox(children=(FloatProgress(value=1.0, bar_style='info', max=1.0), HTML(value='')))"
      ]
     },
     "metadata": {},
     "output_type": "display_data"
    },
    {
     "name": "stdout",
     "output_type": "stream",
     "text": [
      "\n"
     ]
    },
    {
     "data": {
      "application/vnd.jupyter.widget-view+json": {
       "model_id": "696f9a0caac341b7b64881bfd294aeef",
       "version_major": 2,
       "version_minor": 0
      },
      "text/plain": [
       "HBox(children=(FloatProgress(value=1.0, bar_style='info', max=1.0), HTML(value='')))"
      ]
     },
     "metadata": {},
     "output_type": "display_data"
    },
    {
     "name": "stdout",
     "output_type": "stream",
     "text": [
      "\n"
     ]
    },
    {
     "data": {
      "application/vnd.jupyter.widget-view+json": {
       "model_id": "7931fc4a901a4ef1bcc394bae19e80b0",
       "version_major": 2,
       "version_minor": 0
      },
      "text/plain": [
       "HBox(children=(FloatProgress(value=1.0, bar_style='info', max=1.0), HTML(value='')))"
      ]
     },
     "metadata": {},
     "output_type": "display_data"
    },
    {
     "name": "stdout",
     "output_type": "stream",
     "text": [
      "\n"
     ]
    },
    {
     "data": {
      "application/vnd.jupyter.widget-view+json": {
       "model_id": "d25bc077af9d4f97ab214730766b301d",
       "version_major": 2,
       "version_minor": 0
      },
      "text/plain": [
       "HBox(children=(FloatProgress(value=1.0, bar_style='info', max=1.0), HTML(value='')))"
      ]
     },
     "metadata": {},
     "output_type": "display_data"
    },
    {
     "name": "stdout",
     "output_type": "stream",
     "text": [
      "\n"
     ]
    },
    {
     "data": {
      "application/vnd.jupyter.widget-view+json": {
       "model_id": "9d925013ab9744c5a17abe7399626d7d",
       "version_major": 2,
       "version_minor": 0
      },
      "text/plain": [
       "HBox(children=(FloatProgress(value=1.0, bar_style='info', max=1.0), HTML(value='')))"
      ]
     },
     "metadata": {},
     "output_type": "display_data"
    },
    {
     "name": "stdout",
     "output_type": "stream",
     "text": [
      "\n"
     ]
    },
    {
     "data": {
      "application/vnd.jupyter.widget-view+json": {
       "model_id": "38db4e8316ba4badb8404657ff0fd1bd",
       "version_major": 2,
       "version_minor": 0
      },
      "text/plain": [
       "HBox(children=(FloatProgress(value=1.0, bar_style='info', max=1.0), HTML(value='')))"
      ]
     },
     "metadata": {},
     "output_type": "display_data"
    },
    {
     "name": "stdout",
     "output_type": "stream",
     "text": [
      "\n"
     ]
    },
    {
     "data": {
      "application/vnd.jupyter.widget-view+json": {
       "model_id": "144ea9f0688542fa882848a29be6e652",
       "version_major": 2,
       "version_minor": 0
      },
      "text/plain": [
       "HBox(children=(FloatProgress(value=1.0, bar_style='info', max=1.0), HTML(value='')))"
      ]
     },
     "metadata": {},
     "output_type": "display_data"
    },
    {
     "name": "stdout",
     "output_type": "stream",
     "text": [
      "\n"
     ]
    },
    {
     "data": {
      "application/vnd.jupyter.widget-view+json": {
       "model_id": "a26392709cca473bb696226fec3eb4d1",
       "version_major": 2,
       "version_minor": 0
      },
      "text/plain": [
       "HBox(children=(FloatProgress(value=1.0, bar_style='info', max=1.0), HTML(value='')))"
      ]
     },
     "metadata": {},
     "output_type": "display_data"
    },
    {
     "name": "stdout",
     "output_type": "stream",
     "text": [
      "\n"
     ]
    },
    {
     "data": {
      "application/vnd.jupyter.widget-view+json": {
       "model_id": "1be9c8d030224fe2ad3ae095fb58d4e7",
       "version_major": 2,
       "version_minor": 0
      },
      "text/plain": [
       "HBox(children=(FloatProgress(value=1.0, bar_style='info', max=1.0), HTML(value='')))"
      ]
     },
     "metadata": {},
     "output_type": "display_data"
    },
    {
     "name": "stdout",
     "output_type": "stream",
     "text": [
      "\n",
      "\n",
      "Creating HDF5 file: simtel_dynamic_scan.h5\n",
      "Saving metadata to HDF5 file\n"
     ]
    }
   ],
   "source": [
    "simtel_dynamic_scan = extract_from_simtel_list(simtel_40MHz_paths[::3], max_events=100)\n",
    "with HDF5Writer(\"simtel_dynamic_scan.h5\") as writer:\n",
    "    writer.write(data=simtel_dynamic_scan)"
   ]
  },
  {
   "cell_type": "code",
   "execution_count": 17,
   "metadata": {},
   "outputs": [
    {
     "data": {
      "text/plain": [
       "[<matplotlib.lines.Line2D at 0x1a2e45ef10>]"
      ]
     },
     "execution_count": 17,
     "metadata": {},
     "output_type": "execute_result"
    },
    {
     "data": {
      "image/png": "[encoded data removed]",
      "text/plain": [
       "<Figure size 432x288 with 1 Axes>"
      ]
     },
     "metadata": {
      "needs_background": "light"
     },
     "output_type": "display_data"
    }
   ],
   "source": [
    "plt.plot(simtel_dynamic_scan['true_pe'], simtel_dynamic_scan['charge_window'], '.')\n",
    "plt.plot(simtel_dynamic_scan['true_pe'], simtel_dynamic_scan['charge_cc'], '.')\n",
    "plt.plot([0, simtel_dynamic_scan['true_pe'].max()], [0, simtel_dynamic_scan['true_pe'].max()])"
   ]
  },
  {
   "cell_type": "markdown",
   "metadata": {},
   "source": [
    "# Define Simulation"
   ]
  },
  {
   "cell_type": "code",
   "execution_count": 18,
   "metadata": {},
   "outputs": [
    {
     "data": {
      "text/plain": [
       "[<matplotlib.lines.Line2D at 0x1a32d01e50>]"
      ]
     },
     "execution_count": 18,
     "metadata": {},
     "output_type": "execute_result"
    },
    {
     "data": {
      "image/png": "[encoded data removed]",
      "text/plain": [
       "<Figure size 432x288 with 1 Axes>"
      ]
     },
     "metadata": {
      "needs_background": "light"
     },
     "output_type": "display_data"
    }
   ],
   "source": [
    "photoelectron_spectrum = SiPMGentileSPE(x_max=20, spe_sigma=0.12, opct=0.4)\n",
    "plt.semilogy(photoelectron_spectrum.x, photoelectron_spectrum.pdf)\n",
    "#plt.xlim([0, 3])\n",
    "#plt.ylim([1e-4, None])"
   ]
  },
  {
   "cell_type": "code",
   "execution_count": 19,
   "metadata": {},
   "outputs": [
    {
     "data": {
      "text/plain": [
       "[<matplotlib.lines.Line2D at 0x1a3615f850>]"
      ]
     },
     "execution_count": 19,
     "metadata": {},
     "output_type": "execute_result"
    },
    {
     "data": {
      "image/png": "[encoded data removed]",
      "text/plain": [
       "<Figure size 432x288 with 1 Axes>"
      ]
     },
     "metadata": {
      "needs_background": "light"
     },
     "output_type": "display_data"
    }
   ],
   "source": [
    "reference_pulse = GenericPulse(ref_x, ref_y)\n",
    "plt.plot(reference_pulse.time, reference_pulse.pulse)"
   ]
  },
  {
   "cell_type": "code",
   "execution_count": 20,
   "metadata": {},
   "outputs": [],
   "source": [
    "camera = Camera(\n",
    "    photoelectron_spectrum=photoelectron_spectrum,\n",
    "    reference_pulse=reference_pulse,\n",
    "    mapping=SSTCameraMapping(n_pixels=1),\n",
    "    n_waveform_samples=n_samples,\n",
    "    continuous_readout_duration=n_samples,\n",
    "    electronic_noise=GaussianNoise(stddev=0.15),\n",
    ")"
   ]
  },
  {
   "cell_type": "markdown",
   "metadata": {},
   "source": [
    "# Run Simulation"
   ]
  },
  {
   "cell_type": "code",
   "execution_count": 21,
   "metadata": {},
   "outputs": [],
   "source": [
    "def simulate_scan(camera, nsb_rate, illuminations, n_events):\n",
    "    source = PhotoelectronSource(camera=camera)\n",
    "    acquisition = EventAcquisition(camera=camera)\n",
    "    df_list = []\n",
    "    pixel_array = np.arange(camera.mapping.n_pixels)\n",
    "    for illumination in tqdm(illuminations):\n",
    "        for iev in range(n_events):\n",
    "            nsb_pe = source.get_nsb(nsb_rate)\n",
    "            signal_pe = source.get_uniform_illumination(time=extractor.window_peak_index, illumination=illumination)\n",
    "            pe = nsb_pe + signal_pe\n",
    "            readout = acquisition.get_continuous_readout(pe)\n",
    "            waveforms = acquisition.get_sampled_waveform(readout)\n",
    "            true_pe = signal_pe.get_photoelectrons_per_pixel(camera.mapping.n_pixels)\n",
    "            true_charge = signal_pe.get_charge_per_pixel(camera.mapping.n_pixels)\n",
    "            charge_window = extractor.extract_window(waveforms)\n",
    "            charge_cc = extractor.extract_cc(waveforms)\n",
    "\n",
    "            df_list.append(pd.DataFrame(dict(\n",
    "                illumination=illumination,\n",
    "                iev=iev,\n",
    "                ipix=pixel_array,\n",
    "                true_pe=true_pe,\n",
    "                true_charge=true_charge,\n",
    "                charge_window=charge_window,\n",
    "                charge_cc=charge_cc,\n",
    "            )))\n",
    "\n",
    "    return pd.concat(df_list, ignore_index=True)"
   ]
  },
  {
   "cell_type": "code",
   "execution_count": 22,
   "metadata": {},
   "outputs": [
    {
     "data": {
      "application/vnd.jupyter.widget-view+json": {
       "model_id": "e4b57545a3224da29808009aaf5b3afe",
       "version_major": 2,
       "version_minor": 0
      },
      "text/plain": [
       "HBox(children=(FloatProgress(value=0.0, max=3.0), HTML(value='')))"
      ]
     },
     "metadata": {},
     "output_type": "display_data"
    },
    {
     "name": "stdout",
     "output_type": "stream",
     "text": [
      "\n",
      "Creating HDF5 file: sim_spe_scan.h5\n",
      "Saving metadata to HDF5 file\n"
     ]
    }
   ],
   "source": [
    "sim_spe_scan = simulate_scan(camera, 0, [1, 0.8, 0.6], 10000)\n",
    "with HDF5Writer(\"sim_spe_scan.h5\") as writer:\n",
    "    writer.write(data=sim_spe_scan)"
   ]
  },
  {
   "cell_type": "code",
   "execution_count": 23,
   "metadata": {},
   "outputs": [
    {
     "data": {
      "image/png": "[encoded data removed]",
      "text/plain": [
       "<Figure size 432x288 with 1 Axes>"
      ]
     },
     "metadata": {
      "needs_background": "light"
     },
     "output_type": "display_data"
    }
   ],
   "source": [
    "spe_df = sim_spe_scan.loc[sim_spe_scan['illumination'] == sim_spe_scan['illumination'].min()]\n",
    "_ = plt.hist(spe_df['charge_window'], bins=200, histtype='step')\n",
    "_ = plt.hist(spe_df['charge_cc'], bins=200, histtype='step')\n",
    "#_ = plt.hist(spe_df['true_pe'], bins=200, histtype='step')\n",
    "_ = plt.hist(spe_df['true_charge'], bins=200, histtype='step')\n",
    "plt.xlim([-0.5, 4])\n",
    "plt.yscale('log')"
   ]
  },
  {
   "cell_type": "code",
   "execution_count": 24,
   "metadata": {},
   "outputs": [
    {
     "data": {
      "application/vnd.jupyter.widget-view+json": {
       "model_id": "4400e6972ac948de8231156a75493a05",
       "version_major": 2,
       "version_minor": 0
      },
      "text/plain": [
       "HBox(children=(FloatProgress(value=0.0), HTML(value='')))"
      ]
     },
     "metadata": {},
     "output_type": "display_data"
    },
    {
     "name": "stdout",
     "output_type": "stream",
     "text": [
      "\n",
      "Creating HDF5 file: sim_dynamic_scan.h5\n",
      "Saving metadata to HDF5 file\n"
     ]
    }
   ],
   "source": [
    "sim_dynamic_scan = simulate_scan(camera, 40, np.logspace(-1, 3, 100), 100)\n",
    "with HDF5Writer(\"sim_dynamic_scan.h5\") as writer:\n",
    "    writer.write(data=sim_dynamic_scan)"
   ]
  },
  {
   "cell_type": "code",
   "execution_count": 25,
   "metadata": {},
   "outputs": [
    {
     "data": {
      "text/plain": [
       "[<matplotlib.lines.Line2D at 0x1a2a2fe990>]"
      ]
     },
     "execution_count": 25,
     "metadata": {},
     "output_type": "execute_result"
    },
    {
     "data": {
      "image/png": "[encoded data removed]",
      "text/plain": [
       "<Figure size 432x288 with 1 Axes>"
      ]
     },
     "metadata": {
      "needs_background": "light"
     },
     "output_type": "display_data"
    }
   ],
   "source": [
    "plt.plot(sim_dynamic_scan['true_pe'], sim_dynamic_scan['charge_window'], '.')\n",
    "plt.plot(sim_dynamic_scan['true_pe'], sim_dynamic_scan['charge_cc'], '.')\n",
    "plt.plot([0, sim_dynamic_scan['true_pe'].max()], [0, sim_dynamic_scan['true_pe'].max()])"
   ]
  },
  {
   "cell_type": "markdown",
   "metadata": {},
   "source": [
    "# SPE Fitting"
   ]
  },
  {
   "cell_type": "code",
   "execution_count": 288,
   "metadata": {},
   "outputs": [
    {
     "name": "stdout",
     "output_type": "stream",
     "text": [
      "Opening HDF5 file: simtel_spe_scan.h5\n",
      "Reading entire DataFrame (data) from HDF5 file into memory\n"
     ]
    }
   ],
   "source": [
    "with HDF5Reader(\"simtel_spe_scan.h5\") as reader:\n",
    "    simtel_spe_scan = reader.read('data')"
   ]
  },
  {
   "cell_type": "code",
   "execution_count": 289,
   "metadata": {},
   "outputs": [
    {
     "name": "stdout",
     "output_type": "stream",
     "text": [
      "Opening HDF5 file: sim_spe_scan.h5\n",
      "Reading entire DataFrame (data) from HDF5 file into memory\n"
     ]
    }
   ],
   "source": [
    "with HDF5Reader(\"sim_spe_scan.h5\") as reader:\n",
    "    sim_spe_scan = reader.read('data')"
   ]
  },
  {
   "cell_type": "code",
   "execution_count": 290,
   "metadata": {},
   "outputs": [
    {
     "data": {
      "text/plain": [
       "(0.01, 1)"
      ]
     },
     "execution_count": 290,
     "metadata": {},
     "output_type": "execute_result"
    }
   ],
   "source": [
    "fitter = GentileFitter(n_illuminations=3)\n",
    "fitter.parameters.update([\n",
    "    SpectrumParameter(\"spe\", 0.1, (0.2, 1.5)),\n",
    "    SpectrumParameter(\"spe_sigma\", 0.1, (0.01, 1)),\n",
    "    SpectrumParameter(\"eped\", 0, (-1, 1)),\n",
    "    SpectrumParameter(\"eped_sigma\", 0.1, (0.0001, 1)),\n",
    "])\n",
    "fitter.parameters.spe_sigma.limits"
   ]
  },
  {
   "cell_type": "code",
   "execution_count": 451,
   "metadata": {},
   "outputs": [],
   "source": [
    "def extract_spe(df):\n",
    "    illuminations = []\n",
    "    charges = []\n",
    "    for illumination, group in df.groupby(\"illumination\"):\n",
    "        charge = group['true_pe'].values\n",
    "        illuminations.append(illumination)\n",
    "        charges.append(charge)\n",
    "\n",
    "    fitter = GentileFitter(n_illuminations=len(charges))\n",
    "    fitter.range = [-1, 6]\n",
    "    fitter.n_bins = 20\n",
    "    fitter.parameters.update([\n",
    "        SpectrumParameter(\"spe\", 1, (0.2, 1.5)),\n",
    "        SpectrumParameter(\"spe_sigma\", 0.1, (0.01, 1)),\n",
    "        SpectrumParameter(\"eped\", 0, (-1, 1)),\n",
    "        SpectrumParameter(\"eped_sigma\", 0.1, (0.0001, 1)),\n",
    "    ])\n",
    "    fitter.apply(*charges)\n",
    "    \n",
    "    fit_result_values = fitter.fit_result_values\n",
    "    fit_result_errors = fitter.fit_result_errors\n",
    "    hist_x, hist_y, hist_edges = fitter.charge_histogram\n",
    "    fit_x, fit_y = fitter.fit_result_curve\n",
    "\n",
    "    lambdas = []\n",
    "    lambdas_err = []\n",
    "    for i in range(fitter.n_illuminations):\n",
    "        color = plt.gca()._get_lines.get_next_color()\n",
    "        plt.hist(hist_x, bins=hist_edges, weights=hist_y[i], histtype='step', color=color)\n",
    "        plt.plot(fit_x, fit_y[i], color=color)\n",
    "        #plt.yscale(\"log\")\n",
    "        #plt.ylim([1e-2, None])\n",
    "\n",
    "        avg = np.mean(charges[i])\n",
    "        #avg = np.average(fitter.between, weights=fitter.hist[i])\n",
    "        lambda_ = fit_result_values[f'lambda_{i}']\n",
    "        lambdas.append(lambda_)\n",
    "        lambdas_err.append(fit_result_errors[f'lambda_{i}'])\n",
    "        print(\"Gain = \", avg/lambda_)\n",
    "\n",
    "    print(fit_result_values)\n",
    "    print(fit_result_errors)\n",
    "    \n",
    "    return np.array(illuminations), np.array(lambdas), np.array(lambdas_err)"
   ]
  },
  {
   "cell_type": "code",
   "execution_count": 452,
   "metadata": {},
   "outputs": [
    {
     "name": "stdout",
     "output_type": "stream",
     "text": [
      "Gain =  0.2270895492471881\n",
      "Gain =  0.22712776337850255\n",
      "Gain =  0.22735609340169505\n",
      "Gain =  0.22729640905998758\n",
      "Gain =  0.22738666453703998\n",
      "<ValueView of Minuit at 7fb04e5c4350>\n",
      "  eped: -0.1980764789555971\n",
      "  eped_sigma: 0.018656201423058575\n",
      "  spe: 1.0330507735883165\n",
      "  spe_sigma: 0.010042036183342424\n",
      "  opct: 4.269905667930729e-08\n",
      "  lambda_0: 2.2607822328994143\n",
      "  lambda_1: 2.712129893321724\n",
      "  lambda_2: 3.639664868066016\n",
      "  lambda_3: 4.697390657578358\n",
      "  lambda_4: 5.999912155650026\n",
      "<ErrorView of Minuit at 7fb04e5c4350>\n",
      "  eped: 0.0\n",
      "  eped_sigma: 0.0\n",
      "  spe: 0.0\n",
      "  spe_sigma: 0.0\n",
      "  opct: 0.0\n",
      "  lambda_0: 0.0\n",
      "  lambda_1: 0.0\n",
      "  lambda_2: 0.0\n",
      "  lambda_3: 0.0\n",
      "  lambda_4: 0.0\n"
     ]
    },
    {
     "name": "stderr",
     "output_type": "stream",
     "text": [
      "/Users/jason/opt/anaconda3/envs/cta/lib/python3.7/site-packages/ipykernel_launcher.py:2: RuntimeWarning: divide by zero encountered in true_divide\n",
      "  \n",
      "/Users/jason/opt/anaconda3/envs/cta/lib/python3.7/site-packages/numpy/polynomial/polyutils.py:671: RuntimeWarning: invalid value encountered in true_divide\n",
      "  c, resids, rank, s = np.linalg.lstsq(lhs.T/scl, rhs.T, rcond)\n"
     ]
    },
    {
     "ename": "LinAlgError",
     "evalue": "SVD did not converge in Linear Least Squares",
     "output_type": "error",
     "traceback": [
      "\u001b[0;31m---------------------------------------------------------------------------\u001b[0m",
      "\u001b[0;31mLinAlgError\u001b[0m                               Traceback (most recent call last)",
      "\u001b[0;32m<ipython-input-452-b81b4ecc7e80>\u001b[0m in \u001b[0;36m<module>\u001b[0;34m\u001b[0m\n\u001b[1;32m      1\u001b[0m \u001b[0millumination\u001b[0m\u001b[0;34m,\u001b[0m \u001b[0mlambda_\u001b[0m\u001b[0;34m,\u001b[0m \u001b[0mlambda_err\u001b[0m \u001b[0;34m=\u001b[0m \u001b[0mextract_spe\u001b[0m\u001b[0;34m(\u001b[0m\u001b[0msimtel_spe_scan\u001b[0m\u001b[0;34m)\u001b[0m\u001b[0;34m\u001b[0m\u001b[0;34m\u001b[0m\u001b[0m\n\u001b[0;32m----> 2\u001b[0;31m \u001b[0msimtel_spe_scan_c\u001b[0m\u001b[0;34m,\u001b[0m \u001b[0msimtel_spe_scan_m\u001b[0m \u001b[0;34m=\u001b[0m \u001b[0mpolyfit\u001b[0m\u001b[0;34m(\u001b[0m\u001b[0millumination\u001b[0m\u001b[0;34m,\u001b[0m \u001b[0mlambda_\u001b[0m\u001b[0;34m,\u001b[0m \u001b[0;36m1\u001b[0m\u001b[0;34m,\u001b[0m \u001b[0mw\u001b[0m\u001b[0;34m=\u001b[0m\u001b[0;36m1\u001b[0m\u001b[0;34m/\u001b[0m\u001b[0mlambda_err\u001b[0m\u001b[0;34m)\u001b[0m\u001b[0;34m\u001b[0m\u001b[0;34m\u001b[0m\u001b[0m\n\u001b[0m",
      "\u001b[0;32m/Users/jason/opt/anaconda3/envs/cta/lib/python3.7/site-packages/numpy/polynomial/polynomial.py\u001b[0m in \u001b[0;36mpolyfit\u001b[0;34m(x, y, deg, rcond, full, w)\u001b[0m\n\u001b[1;32m   1334\u001b[0m \u001b[0;34m\u001b[0m\u001b[0m\n\u001b[1;32m   1335\u001b[0m     \"\"\"\n\u001b[0;32m-> 1336\u001b[0;31m     \u001b[0;32mreturn\u001b[0m \u001b[0mpu\u001b[0m\u001b[0;34m.\u001b[0m\u001b[0m_fit\u001b[0m\u001b[0;34m(\u001b[0m\u001b[0mpolyvander\u001b[0m\u001b[0;34m,\u001b[0m \u001b[0mx\u001b[0m\u001b[0;34m,\u001b[0m \u001b[0my\u001b[0m\u001b[0;34m,\u001b[0m \u001b[0mdeg\u001b[0m\u001b[0;34m,\u001b[0m \u001b[0mrcond\u001b[0m\u001b[0;34m,\u001b[0m \u001b[0mfull\u001b[0m\u001b[0;34m,\u001b[0m \u001b[0mw\u001b[0m\u001b[0;34m)\u001b[0m\u001b[0;34m\u001b[0m\u001b[0;34m\u001b[0m\u001b[0m\n\u001b[0m\u001b[1;32m   1337\u001b[0m \u001b[0;34m\u001b[0m\u001b[0m\n\u001b[1;32m   1338\u001b[0m \u001b[0;34m\u001b[0m\u001b[0m\n",
      "\u001b[0;32m/Users/jason/opt/anaconda3/envs/cta/lib/python3.7/site-packages/numpy/polynomial/polyutils.py\u001b[0m in \u001b[0;36m_fit\u001b[0;34m(vander_f, x, y, deg, rcond, full, w)\u001b[0m\n\u001b[1;32m    669\u001b[0m \u001b[0;34m\u001b[0m\u001b[0m\n\u001b[1;32m    670\u001b[0m     \u001b[0;31m# Solve the least squares problem.\u001b[0m\u001b[0;34m\u001b[0m\u001b[0;34m\u001b[0m\u001b[0;34m\u001b[0m\u001b[0m\n\u001b[0;32m--> 671\u001b[0;31m     \u001b[0mc\u001b[0m\u001b[0;34m,\u001b[0m \u001b[0mresids\u001b[0m\u001b[0;34m,\u001b[0m \u001b[0mrank\u001b[0m\u001b[0;34m,\u001b[0m \u001b[0ms\u001b[0m \u001b[0;34m=\u001b[0m \u001b[0mnp\u001b[0m\u001b[0;34m.\u001b[0m\u001b[0mlinalg\u001b[0m\u001b[0;34m.\u001b[0m\u001b[0mlstsq\u001b[0m\u001b[0;34m(\u001b[0m\u001b[0mlhs\u001b[0m\u001b[0;34m.\u001b[0m\u001b[0mT\u001b[0m\u001b[0;34m/\u001b[0m\u001b[0mscl\u001b[0m\u001b[0;34m,\u001b[0m \u001b[0mrhs\u001b[0m\u001b[0;34m.\u001b[0m\u001b[0mT\u001b[0m\u001b[0;34m,\u001b[0m \u001b[0mrcond\u001b[0m\u001b[0;34m)\u001b[0m\u001b[0;34m\u001b[0m\u001b[0;34m\u001b[0m\u001b[0m\n\u001b[0m\u001b[1;32m    672\u001b[0m     \u001b[0mc\u001b[0m \u001b[0;34m=\u001b[0m \u001b[0;34m(\u001b[0m\u001b[0mc\u001b[0m\u001b[0;34m.\u001b[0m\u001b[0mT\u001b[0m\u001b[0;34m/\u001b[0m\u001b[0mscl\u001b[0m\u001b[0;34m)\u001b[0m\u001b[0;34m.\u001b[0m\u001b[0mT\u001b[0m\u001b[0;34m\u001b[0m\u001b[0;34m\u001b[0m\u001b[0m\n\u001b[1;32m    673\u001b[0m \u001b[0;34m\u001b[0m\u001b[0m\n",
      "\u001b[0;32m<__array_function__ internals>\u001b[0m in \u001b[0;36mlstsq\u001b[0;34m(*args, **kwargs)\u001b[0m\n",
      "\u001b[0;32m/Users/jason/opt/anaconda3/envs/cta/lib/python3.7/site-packages/numpy/linalg/linalg.py\u001b[0m in \u001b[0;36mlstsq\u001b[0;34m(a, b, rcond)\u001b[0m\n\u001b[1;32m   2266\u001b[0m         \u001b[0;31m# lapack can't handle n_rhs = 0 - so allocate the array one larger in that axis\u001b[0m\u001b[0;34m\u001b[0m\u001b[0;34m\u001b[0m\u001b[0;34m\u001b[0m\u001b[0m\n\u001b[1;32m   2267\u001b[0m         \u001b[0mb\u001b[0m \u001b[0;34m=\u001b[0m \u001b[0mzeros\u001b[0m\u001b[0;34m(\u001b[0m\u001b[0mb\u001b[0m\u001b[0;34m.\u001b[0m\u001b[0mshape\u001b[0m\u001b[0;34m[\u001b[0m\u001b[0;34m:\u001b[0m\u001b[0;34m-\u001b[0m\u001b[0;36m2\u001b[0m\u001b[0;34m]\u001b[0m \u001b[0;34m+\u001b[0m \u001b[0;34m(\u001b[0m\u001b[0mm\u001b[0m\u001b[0;34m,\u001b[0m \u001b[0mn_rhs\u001b[0m \u001b[0;34m+\u001b[0m \u001b[0;36m1\u001b[0m\u001b[0;34m)\u001b[0m\u001b[0;34m,\u001b[0m \u001b[0mdtype\u001b[0m\u001b[0;34m=\u001b[0m\u001b[0mb\u001b[0m\u001b[0;34m.\u001b[0m\u001b[0mdtype\u001b[0m\u001b[0;34m)\u001b[0m\u001b[0;34m\u001b[0m\u001b[0;34m\u001b[0m\u001b[0m\n\u001b[0;32m-> 2268\u001b[0;31m     \u001b[0mx\u001b[0m\u001b[0;34m,\u001b[0m \u001b[0mresids\u001b[0m\u001b[0;34m,\u001b[0m \u001b[0mrank\u001b[0m\u001b[0;34m,\u001b[0m \u001b[0ms\u001b[0m \u001b[0;34m=\u001b[0m \u001b[0mgufunc\u001b[0m\u001b[0;34m(\u001b[0m\u001b[0ma\u001b[0m\u001b[0;34m,\u001b[0m \u001b[0mb\u001b[0m\u001b[0;34m,\u001b[0m \u001b[0mrcond\u001b[0m\u001b[0;34m,\u001b[0m \u001b[0msignature\u001b[0m\u001b[0;34m=\u001b[0m\u001b[0msignature\u001b[0m\u001b[0;34m,\u001b[0m \u001b[0mextobj\u001b[0m\u001b[0;34m=\u001b[0m\u001b[0mextobj\u001b[0m\u001b[0;34m)\u001b[0m\u001b[0;34m\u001b[0m\u001b[0;34m\u001b[0m\u001b[0m\n\u001b[0m\u001b[1;32m   2269\u001b[0m     \u001b[0;32mif\u001b[0m \u001b[0mm\u001b[0m \u001b[0;34m==\u001b[0m \u001b[0;36m0\u001b[0m\u001b[0;34m:\u001b[0m\u001b[0;34m\u001b[0m\u001b[0;34m\u001b[0m\u001b[0m\n\u001b[1;32m   2270\u001b[0m         \u001b[0mx\u001b[0m\u001b[0;34m[\u001b[0m\u001b[0;34m...\u001b[0m\u001b[0;34m]\u001b[0m \u001b[0;34m=\u001b[0m \u001b[0;36m0\u001b[0m\u001b[0;34m\u001b[0m\u001b[0;34m\u001b[0m\u001b[0m\n",
      "\u001b[0;32m/Users/jason/opt/anaconda3/envs/cta/lib/python3.7/site-packages/numpy/linalg/linalg.py\u001b[0m in \u001b[0;36m_raise_linalgerror_lstsq\u001b[0;34m(err, flag)\u001b[0m\n\u001b[1;32m    107\u001b[0m \u001b[0;34m\u001b[0m\u001b[0m\n\u001b[1;32m    108\u001b[0m \u001b[0;32mdef\u001b[0m \u001b[0m_raise_linalgerror_lstsq\u001b[0m\u001b[0;34m(\u001b[0m\u001b[0merr\u001b[0m\u001b[0;34m,\u001b[0m \u001b[0mflag\u001b[0m\u001b[0;34m)\u001b[0m\u001b[0;34m:\u001b[0m\u001b[0;34m\u001b[0m\u001b[0;34m\u001b[0m\u001b[0m\n\u001b[0;32m--> 109\u001b[0;31m     \u001b[0;32mraise\u001b[0m \u001b[0mLinAlgError\u001b[0m\u001b[0;34m(\u001b[0m\u001b[0;34m\"SVD did not converge in Linear Least Squares\"\u001b[0m\u001b[0;34m)\u001b[0m\u001b[0;34m\u001b[0m\u001b[0;34m\u001b[0m\u001b[0m\n\u001b[0m\u001b[1;32m    110\u001b[0m \u001b[0;34m\u001b[0m\u001b[0m\n\u001b[1;32m    111\u001b[0m \u001b[0;32mdef\u001b[0m \u001b[0mget_linalg_error_extobj\u001b[0m\u001b[0;34m(\u001b[0m\u001b[0mcallback\u001b[0m\u001b[0;34m)\u001b[0m\u001b[0;34m:\u001b[0m\u001b[0;34m\u001b[0m\u001b[0;34m\u001b[0m\u001b[0m\n",
      "\u001b[0;31mLinAlgError\u001b[0m: SVD did not converge in Linear Least Squares"
     ]
    },
    {
     "data": {
      "image/png": "[encoded data removed]",
      "text/plain": [
       "<Figure size 432x288 with 1 Axes>"
      ]
     },
     "metadata": {
      "needs_background": "light"
     },
     "output_type": "display_data"
    }
   ],
   "source": [
    "illumination, lambda_, lambda_err = extract_spe(simtel_spe_scan)\n",
    "simtel_spe_scan_c, simtel_spe_scan_m = polyfit(illumination, lambda_, 1, w=1/lambda_err)"
   ]
  },
  {
   "cell_type": "code",
   "execution_count": null,
   "metadata": {},
   "outputs": [],
   "source": [
    "plt.errorbar(illumination, lambda_, yerr=lambda_err)\n",
    "plt.plot(illumination, polyval(illumination, (simtel_spe_scan_c, simtel_spe_scan_m)))"
   ]
  },
  {
   "cell_type": "code",
   "execution_count": 294,
   "metadata": {},
   "outputs": [
    {
     "name": "stdout",
     "output_type": "stream",
     "text": [
      "Gain =  1.0085677043138037\n",
      "Gain =  1.0032438354811437\n",
      "Gain =  0.9992801206217221\n",
      "<ValueView of Minuit at 7fb0673267b0>\n",
      "  eped: 0.0041623788171079035\n",
      "  eped_sigma: 0.18153511549177714\n",
      "  spe: 0.5941032564891392\n",
      "  spe_sigma: 0.06847099606306883\n",
      "  opct: 0.40681932887176875\n",
      "  lambda_0: 0.5980839745329487\n",
      "  lambda_1: 0.7742476088574597\n",
      "  lambda_2: 0.9964192303887649\n",
      "<ErrorView of Minuit at 7fb0673267b0>\n",
      "  eped: 0.002092421574661052\n",
      "  eped_sigma: 0.0014530053584285302\n",
      "  spe: 0.0027221148579955057\n",
      "  spe_sigma: 0.004825587033620071\n",
      "  opct: 0.004631608229056172\n",
      "  lambda_0: 0.009371107513632071\n",
      "  lambda_1: 0.010934533843675986\n",
      "  lambda_2: 0.01275316371994395\n"
     ]
    },
    {
     "data": {
      "image/png": "[encoded data removed]",
      "text/plain": [
       "<Figure size 432x288 with 1 Axes>"
      ]
     },
     "metadata": {
      "needs_background": "light"
     },
     "output_type": "display_data"
    }
   ],
   "source": [
    "illumination, lambda_, lambda_err = extract_spe(sim_spe_scan)\n",
    "sim_spe_scan_c, sim_spe_scan_m = polyfit(illumination, lambda_, 1, w=1/lambda_err)"
   ]
  },
  {
   "cell_type": "code",
   "execution_count": 295,
   "metadata": {},
   "outputs": [
    {
     "data": {
      "text/plain": [
       "[<matplotlib.lines.Line2D at 0x1a2acc0bd0>]"
      ]
     },
     "execution_count": 295,
     "metadata": {},
     "output_type": "execute_result"
    },
    {
     "data": {
      "image/png": "[encoded data removed]",
      "text/plain": [
       "<Figure size 432x288 with 1 Axes>"
      ]
     },
     "metadata": {
      "needs_background": "light"
     },
     "output_type": "display_data"
    }
   ],
   "source": [
    "plt.errorbar(illumination, lambda_, yerr=lambda_err)\n",
    "plt.plot(illumination, polyval(illumination, (sim_spe_scan_c, sim_spe_scan_m)))"
   ]
  },
  {
   "cell_type": "markdown",
   "metadata": {},
   "source": [
    "# Charge Resolution"
   ]
  },
  {
   "cell_type": "code",
   "execution_count": 431,
   "metadata": {},
   "outputs": [
    {
     "name": "stdout",
     "output_type": "stream",
     "text": [
      "Opening HDF5 file: simtel_dynamic_scan.h5\n",
      "Reading entire DataFrame (data) from HDF5 file into memory\n"
     ]
    },
    {
     "data": {
      "text/plain": [
       "[<matplotlib.lines.Line2D at 0x1a2511b2d0>]"
      ]
     },
     "execution_count": 431,
     "metadata": {},
     "output_type": "execute_result"
    },
    {
     "data": {
      "image/png": "[encoded data removed]",
      "text/plain": [
       "<Figure size 432x288 with 1 Axes>"
      ]
     },
     "metadata": {
      "needs_background": "light"
     },
     "output_type": "display_data"
    }
   ],
   "source": [
    "with HDF5Reader(\"simtel_dynamic_scan.h5\") as reader:\n",
    "    simtel_dynamic_scan = reader.read('data')\n",
    "    \n",
    "# Calibrate\n",
    "simtel_dynamic_scan['illumination'] = polyval(simtel_dynamic_scan['illumination'], (simtel_spe_scan_c, simtel_spe_scan_m))\n",
    "\n",
    "c, m = polyfit(simtel_dynamic_scan['illumination'], simtel_dynamic_scan['charge_window'], 1)\n",
    "simtel_dynamic_scan['charge_window'] = (simtel_dynamic_scan['charge_window'] - c) / m\n",
    "c, m = polyfit(simtel_dynamic_scan['illumination'], simtel_dynamic_scan['charge_cc'], 1)\n",
    "simtel_dynamic_scan['charge_cc'] = (simtel_dynamic_scan['charge_cc'] - c) / m\n",
    "\n",
    "plt.plot(simtel_dynamic_scan['illumination'], simtel_dynamic_scan['charge_window'], '.')\n",
    "plt.plot(simtel_dynamic_scan['illumination'], simtel_dynamic_scan['charge_cc'], '.')\n",
    "plt.plot([0, simtel_dynamic_scan['illumination'].max()], [0, simtel_dynamic_scan['illumination'].max()])\n",
    "\n",
    "\n",
    "# c, m = polyfit(simtel_dynamic_scan['true_pe'], simtel_dynamic_scan['charge_window'], [1])\n",
    "# simtel_dynamic_scan['charge_window'] /= m\n",
    "# c, m = polyfit(simtel_dynamic_scan['true_pe'], simtel_dynamic_scan['charge_cc'], [1])\n",
    "# simtel_dynamic_scan['charge_cc'] /= m\n",
    "\n",
    "# plt.plot(simtel_dynamic_scan['true_pe'], simtel_dynamic_scan['charge_window'], '.')\n",
    "# plt.plot(simtel_dynamic_scan['true_pe'], simtel_dynamic_scan['charge_cc'], '.')\n",
    "# plt.plot([0, simtel_dynamic_scan['true_pe'].max()], [0, simtel_dynamic_scan['true_pe'].max()])"
   ]
  },
  {
   "cell_type": "code",
   "execution_count": 432,
   "metadata": {},
   "outputs": [
    {
     "name": "stdout",
     "output_type": "stream",
     "text": [
      "Opening HDF5 file: sim_dynamic_scan.h5\n",
      "Reading entire DataFrame (data) from HDF5 file into memory\n"
     ]
    },
    {
     "data": {
      "text/plain": [
       "[<matplotlib.lines.Line2D at 0x1a25bd76d0>]"
      ]
     },
     "execution_count": 432,
     "metadata": {},
     "output_type": "execute_result"
    },
    {
     "data": {
      "image/png": "[encoded data removed]",
      "text/plain": [
       "<Figure size 432x288 with 1 Axes>"
      ]
     },
     "metadata": {
      "needs_background": "light"
     },
     "output_type": "display_data"
    }
   ],
   "source": [
    "with HDF5Reader(\"sim_dynamic_scan.h5\") as reader:\n",
    "    sim_dynamic_scan = reader.read('data')\n",
    "    \n",
    "# Calibrate\n",
    "sim_dynamic_scan['illumination'] = polyval(sim_dynamic_scan['illumination'], (sim_spe_scan_c, sim_spe_scan_m))\n",
    "\n",
    "c, m = polyfit(sim_dynamic_scan['illumination'], sim_dynamic_scan['charge_window'], 1)\n",
    "sim_dynamic_scan['charge_window'] = (sim_dynamic_scan['charge_window'] - c) / m\n",
    "c, m = polyfit(sim_dynamic_scan['illumination'], sim_dynamic_scan['charge_cc'], 1)\n",
    "sim_dynamic_scan['charge_cc'] = (sim_dynamic_scan['charge_cc'] - c) / m\n",
    "\n",
    "plt.plot(sim_dynamic_scan['illumination'], sim_dynamic_scan['charge_window'], '.')\n",
    "plt.plot(sim_dynamic_scan['illumination'], sim_dynamic_scan['charge_cc'], '.')\n",
    "plt.plot([0, sim_dynamic_scan['illumination'].max()], [0, sim_dynamic_scan['illumination'].max()])\n",
    "\n",
    "# c, m = polyfit(sim_dynamic_scan['true_pe'], sim_dynamic_scan['charge_window'], [1])\n",
    "# sim_dynamic_scan['charge_window'] /= m\n",
    "# c, m = polyfit(sim_dynamic_scan['true_pe'], sim_dynamic_scan['charge_cc'], [1])\n",
    "# sim_dynamic_scan['charge_cc'] /= m\n",
    "\n",
    "# plt.plot(sim_dynamic_scan['true_pe'], sim_dynamic_scan['charge_window'], '.')\n",
    "# plt.plot(sim_dynamic_scan['true_pe'], sim_dynamic_scan['charge_cc'], '.')\n",
    "# plt.plot([0, sim_dynamic_scan['true_pe'].max()], [0, sim_dynamic_scan['true_pe'].max()])"
   ]
  },
  {
   "cell_type": "code",
   "execution_count": 433,
   "metadata": {},
   "outputs": [],
   "source": [
    "def bin_charge_resolution(df, n_bins=40):\n",
    "    true = df['true'].values\n",
    "    min_ = true.min()\n",
    "    max_ = (true.max() // 500 + 1) * 500\n",
    "    bins = np.geomspace(0.1, max_, n_bins)\n",
    "    bins = np.append(bins, 10**(np.log10(bins[-1]) + np.diff(np.log10(bins))[0]))\n",
    "    df['bin'] = np.digitize(true, bins, right=True) - 1\n",
    "\n",
    "    log = np.log10(bins)\n",
    "    between = 10**((log[1:] + log[:-1]) / 2)\n",
    "    edges = np.repeat(bins, 2)[1:-1].reshape((bins.size-1 , 2))\n",
    "    edge_l = edges[:, 0]\n",
    "    edge_r = edges[:, 1]\n",
    "    df['between'] = between[df['bin']]\n",
    "    df['edge_l'] = edge_l[df['bin']]\n",
    "    df['edge_r'] = edge_r[df['bin']]\n",
    "\n",
    "    return df"
   ]
  },
  {
   "cell_type": "code",
   "execution_count": 440,
   "metadata": {},
   "outputs": [],
   "source": [
    "def get_charge_resolution(df, charge_column):\n",
    "#     charge_resolution = ChargeResolution(mc_true=False)\n",
    "#     charge_resolution.add(df['ipix'], df['illumination'], df[charge_column])\n",
    "    \n",
    "    charge_resolution = ChargeResolution(mc_true=True)\n",
    "    charge_resolution.add(df['ipix'], df['true_pe'], df[charge_column])\n",
    "    \n",
    "    res, _ = charge_resolution.finish()\n",
    "    res = bin_charge_resolution(res, n_bins=20)\n",
    "    res = res.groupby('bin').mean()\n",
    "    x = res['true'].values\n",
    "    y = res['charge_resolution'].values\n",
    "\n",
    "    return x, y"
   ]
  },
  {
   "cell_type": "code",
   "execution_count": 441,
   "metadata": {},
   "outputs": [],
   "source": [
    "def limit_curves(n, nsb, t_w, n_e, sigma_g, enf, pde):\n",
    "    q = n * pde\n",
    "    sigma_0 = np.sqrt(nsb * t_w + n_e**2)\n",
    "    sigma_enf = 1 + enf\n",
    "    sigma_q = np.sqrt(sigma_0**2 + sigma_enf**2 * q + sigma_g**2 * q**2)\n",
    "    return sigma_q / q"
   ]
  },
  {
   "cell_type": "code",
   "execution_count": 442,
   "metadata": {},
   "outputs": [],
   "source": [
    "def requirement(n):\n",
    "    nsb = 0.125\n",
    "    t_w = 15\n",
    "    n_e = 0.87\n",
    "    sigma_g = 0.1\n",
    "    enf = 0.2\n",
    "    pde = 1#0.25\n",
    "    lc = limit_curves\n",
    "    requirement = lc(n, nsb, t_w, n_e, sigma_g, enf, pde)\n",
    "\n",
    "    max_photons = 4000\n",
    "    min_photons = 4\n",
    "    requirement[(n > max_photons) & (n < min_photons)] = np.nan\n",
    "\n",
    "    return requirement"
   ]
  },
  {
   "cell_type": "code",
   "execution_count": 443,
   "metadata": {},
   "outputs": [],
   "source": [
    "cr_simtel_window_x, cr_simtel_window_y = get_charge_resolution(simtel_dynamic_scan, \"charge_window\")\n",
    "cr_simtel_cc_x, cr_simtel_cc_y = get_charge_resolution(simtel_dynamic_scan, \"charge_cc\")\n",
    "cr_sim_window_x, cr_sim_window_y = get_charge_resolution(sim_dynamic_scan, \"charge_window\")\n",
    "cr_sim_cc_x, cr_sim_cc_y = get_charge_resolution(sim_dynamic_scan, \"charge_cc\")"
   ]
  },
  {
   "cell_type": "code",
   "execution_count": 444,
   "metadata": {},
   "outputs": [
    {
     "data": {
      "image/png": "[encoded data removed]",
      "text/plain": [
       "<Figure size 432x288 with 1 Axes>"
      ]
     },
     "metadata": {
      "needs_background": "light"
     },
     "output_type": "display_data"
    }
   ],
   "source": [
    "x = np.geomspace(1, 1000, 100) * 0.39\n",
    "poisson_limit = np.sqrt(x) / x\n",
    "enf_limit = np.sqrt(camera.photoelectron_spectrum.excess_noise_factor * x) / x\n",
    "requirement_limit = requirement(x) \n",
    "plt.plot(x, poisson_limit, label=\"Poisson Limit\")\n",
    "plt.plot(x, enf_limit, label=\"ENF Limit\", color='black')\n",
    "plt.plot(x, requirement_limit, label=\"Requirement\", color='blue')\n",
    "\n",
    "# plt.plot(cr_simtel_window_x, cr_simtel_window_y, '.', label=\"simtelarray\")\n",
    "plt.plot(cr_simtel_cc_x, cr_simtel_cc_y, '.', label=\"simtel cc\")\n",
    "# plt.plot(cr_sim_window_x, cr_sim_window_y, '.', label=\"sstcam-simulation\")\n",
    "plt.plot(cr_sim_cc_x, cr_sim_cc_y, '.', label=\"sim cc\")\n",
    "\n",
    "plt.legend(loc=\"best\")\n",
    "plt.xlabel(\"Number of Photoelectrons\")\n",
    "plt.ylabel(r\"Fractional Charge Resolution $\\frac{{\\sigma_Q}}{{Q}}$\")\n",
    "plt.xscale('log')\n",
    "plt.yscale('log')"
   ]
  },
  {
   "cell_type": "code",
   "execution_count": null,
   "metadata": {},
   "outputs": [],
   "source": []
  }
 ],
 "metadata": {
  "kernelspec": {
   "display_name": "Python [conda env:cta] *",
   "language": "python",
   "name": "conda-env-cta-py"
  },
  "language_info": {
   "codemirror_mode": {
    "name": "ipython",
    "version": 3
   },
   "file_extension": ".py",
   "mimetype": "text/x-python",
   "name": "python",
   "nbconvert_exporter": "python",
   "pygments_lexer": "ipython3",
   "version": "3.7.5"
  }
 },
 "nbformat": 4,
 "nbformat_minor": 4
}
