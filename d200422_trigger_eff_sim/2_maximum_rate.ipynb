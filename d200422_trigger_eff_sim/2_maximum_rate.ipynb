{
 "cells": [
  {
   "cell_type": "markdown",
   "metadata": {},
   "source": [
    "# Investigating Trigger Efficiency at Maximum Trigger Rate with Uniform Illumination\n",
    "\n",
    "This is the second notebook to explore measuring the trigger efficiency using the sstcam-simulation package. The approach in the first notebook was to select a safe threshold based on the intersection between the NSB bias curve and the periodic laser flash rate. Instead, this notebook operates with the principle of choosing a threshold which results in an \"maximum allowed camera trigger rate\", on the order of 200-600 Hz. Majority of these triggers will be from NSB.\n",
    "\n",
    "Our aim in these investigations is to change various parameters of the camera design (e.g. pulse shape) to investigate the corresponding uniform illumination trigger efficiency, and to make recommendations on the final camera design. In summary, we ask:\n",
    "1. What is the acceptable accidental camera trigger rate on the NSB?\n",
    "2. What is the superpixel trigger rate that corresponds to that camera trigger rate?\n",
    "3. What is the camera configuration we want to test?\n",
    "4. What is the superpixel threshold we need to maintain this trigger rate for this camera configuration?\n",
    "5. What is the resulting trigger efficiency for the camera configuration at this threshold?"
   ]
  },
  {
   "cell_type": "code",
   "execution_count": 1,
   "metadata": {},
   "outputs": [],
   "source": [
    "from sstcam_simulation import Camera, SSTCameraMapping, PhotoelectronSource, EventAcquisition\n",
    "from sstcam_simulation.camera.spe import SiPMGentileSPE, PerfectPhotosensor\n",
    "from sstcam_simulation.camera.pulse import GaussianPulse\n",
    "from sstcam_simulation.event.trigger import sum_superpixels\n",
    "import numpy as np\n",
    "from numpy.polynomial.polynomial import polyfit, polyval\n",
    "from tqdm.notebook import trange, tqdm\n",
    "from matplotlib import pyplot as plt\n",
    "%matplotlib inline"
   ]
  },
  {
   "cell_type": "markdown",
   "metadata": {},
   "source": [
    "## Step 1: Accidental Camera Trigger Rate\n",
    "\n",
    "One approach to define the acceptable camera trigger rate is by considering the intersection of the NSB-dominant section of the trigger bias curve, and the CR-dominant section. The \"safe threshold\" definition is often obtained by considering twice the operating NSB (see the document by Tom Armstrong in this github directory). This definition gaurantess an accidental NSB trigger rate which is less than the CR trigger rate.\n",
    "\n",
    "Alternatively, one can select a trigger rate which one expects the camera to be able to handle. NSB may be the majority cause of triggers at this rate, but the array trigger can be relied on to extract to flag the Cherenkov shower events that we wish to keep. The primary caveat in this approach is the dead time - allow too high of an NSB trigger rate, and you will miss the cosmic ray triggers which may have resulted in an array trigger.\n",
    "\n",
    "For this investigation I will assume a camera trigger rate of 200 Hz results in an acceptable accidental trigger rate. This value comes from the values assumed in the 2012 trigger efficiency investigation document by Jim and Stefan. Once sstcam-simulation can simulate a CR population, the value can be confirmed as acceptable."
   ]
  },
  {
   "cell_type": "code",
   "execution_count": 2,
   "metadata": {},
   "outputs": [],
   "source": [
    "# Define an acceptable camera trigger rate\n",
    "requested_camera_trigger_rate = 200  # Hz"
   ]
  },
  {
   "cell_type": "markdown",
   "metadata": {},
   "source": [
    "## Step 2: Corresponding Superpixel Trigger Rate\n",
    "\n",
    "The relationship between the camera trigger rate and the pixel trigger rate for uncorrelated triggers can be found from the [statistical evaluation of coincident triggers](http://courses.washington.edu/phys433/muon_counting/statistics_tutorial.pdf)\n",
    "\n",
    "And can be summarised in the equation:\n",
    "\n",
    "$$f = \\sum_{n=i}^{N_{comb}}( t_{coinc}^{N - 1} \\prod_{n=0}^{N} f_{in})$$\n",
    "\n",
    "$f$ = Camera trigger rate\n",
    "\n",
    "$N_{comb}$ = Number of possible trigger group combinations\n",
    "\n",
    "$N$ = Number of trigger groups involved in creating the trigger (multiplicity)\n",
    "\n",
    "$f_{in}$ = Trigger rate of the trigger group\n",
    "\n",
    "$t_{coinc}$ = Coincidence time required between the trigger groups\n",
    "\n",
    "For the NN superpixel scheme in the SST camera, where the multiplicity is 2 and the total number of combinations is 2 x 1910, this can be simplified to:\n",
    "\n",
    "$$f = 2 \\times 1910 \\times f_{sp}^2 \\times t_{coinc}$$\n",
    "\n",
    "This relationship is demonstrated to hold for sstcam-simulation below:"
   ]
  },
  {
   "cell_type": "code",
   "execution_count": 3,
   "metadata": {},
   "outputs": [
    {
     "data": {
      "application/vnd.jupyter.widget-view+json": {
       "model_id": "b5ca66a8e34645feac48e7839f969642",
       "version_major": 2,
       "version_minor": 0
      },
      "text/plain": [
       "HBox(children=(FloatProgress(value=0.0, description='Measuring uncorrelated triggers', max=5.0, style=Progress…"
      ]
     },
     "metadata": {},
     "output_type": "display_data"
    },
    {
     "name": "stdout",
     "output_type": "stream",
     "text": [
      "\n"
     ]
    }
   ],
   "source": [
    "camera = Camera(\n",
    "    mapping=SSTCameraMapping(n_pixels=2048), \n",
    "    trigger_threshold=2,\n",
    "    digital_trigger_length=10,\n",
    ")\n",
    "nsb_array = np.linspace(1, 10, 5)  # MHz\n",
    "source = PhotoelectronSource(camera=camera)\n",
    "acquisition = EventAcquisition(camera=camera)\n",
    "n_repeats = 5  # Repeats for statistics\n",
    "n_sp_triggers = np.zeros((n_repeats, nsb_array.size))\n",
    "n_camera_triggers = np.zeros((n_repeats, nsb_array.size))\n",
    "for i, nsb in tqdm(enumerate(nsb_array), desc=\"Measuring uncorrelated triggers\", total=nsb_array.size):\n",
    "    for iev in range(n_repeats):\n",
    "        photoelectrons = source.get_nsb(nsb)\n",
    "        readout = acquisition.get_continuous_readout(photoelectrons)\n",
    "        digital_trigger = acquisition.trigger.get_superpixel_digital_trigger_line(readout)\n",
    "        n_sp_triggers[iev, i] = acquisition.trigger.get_n_superpixel_triggers(digital_trigger).mean()\n",
    "        n_camera_triggers[iev, i] = np.unique(acquisition.get_trigger(readout)).size\n",
    "        \n",
    "duration = camera.continuous_readout_duration * 1e-9  # seconds\n",
    "sp_rate = n_sp_triggers.mean(0) / duration\n",
    "sp_rate_err = n_sp_triggers.std(0) / duration\n",
    "camera_rate = n_camera_triggers.mean(0) / duration\n",
    "camera_rate_err = n_camera_triggers.std(0) / duration"
   ]
  },
  {
   "cell_type": "code",
   "execution_count": 4,
   "metadata": {},
   "outputs": [],
   "source": [
    "def calculate_expected_superpixel_rate(camera_rate, camera):\n",
    "    n_combinations = 2 * 1910\n",
    "    coincidence_length = camera.digital_trigger_length * 1e-9\n",
    "    return np.sqrt(camera_rate / (n_combinations * coincidence_length))"
   ]
  },
  {
   "cell_type": "code",
   "execution_count": 8,
   "metadata": {},
   "outputs": [
    {
     "name": "stdout",
     "output_type": "stream",
     "text": [
      "Presumed Coincidence Length = 10.0 ns\n",
      "Effective Coincidence Length = 7.57 ns\n"
     ]
    },
    {
     "data": {
      "image/png": "[encoded data removed]",
      "text/plain": [
       "<Figure size 432x288 with 1 Axes>"
      ]
     },
     "metadata": {
      "needs_background": "light"
     },
     "output_type": "display_data"
    }
   ],
   "source": [
    "sp_rate_mhz = sp_rate * 1e-6\n",
    "sp_rate_err_mhz = sp_rate_err * 1e-6\n",
    "camera_rate_mhz = camera_rate * 1e-6\n",
    "camera_rate_err_mhz = camera_rate_err * 1e-6\n",
    "\n",
    "plt.errorbar(\n",
    "    sp_rate_mhz, camera_rate_mhz, \n",
    "    xerr=sp_rate_err_mhz, yerr=camera_rate_err_mhz, \n",
    "    fmt='.', label=\"Measurements\"\n",
    ")\n",
    "\n",
    "expected_sp_rate = calculate_expected_superpixel_rate(camera_rate, camera)\n",
    "expected_sp_rate_mhz = expected_sp_rate * 1e-6\n",
    "plt.plot(expected_sp_rate_mhz, camera_rate_mhz, label=\"Expected\")\n",
    "\n",
    "c = polyfit(2 * 1910 * sp_rate**2, camera_rate, [1], w=camera_rate_err)\n",
    "fit_y = polyval(2 * 1910 * sp_rate**2, c) * 1e-6\n",
    "plt.plot(sp_rate_mhz, fit_y, label=\"Fit\")\n",
    "\n",
    "coincidence_length = camera.digital_trigger_length * 1e-9\n",
    "effective_coincidence_length = c[1]\n",
    "\n",
    "plt.xlabel(\"Superpixel Trigger Rate (MHz)\")\n",
    "plt.ylabel(\"Camera Trigger Rate (MHz)\")\n",
    "plt.legend()\n",
    "\n",
    "print(f\"Presumed Coincidence Length = {coincidence_length * 1e9:.3} ns\")\n",
    "print(f\"Effective Coincidence Length = {effective_coincidence_length * 1e9:.3} ns\")"
   ]
  },
  {
   "cell_type": "markdown",
   "metadata": {},
   "source": [
    "The relationship does not fully follow the expected equation due to the triggers that are not counted as they occur in a period where another trigger has already occured. However, the discrepency is small enough for our purposes, so the equation will still be used."
   ]
  },
  {
   "cell_type": "code",
   "execution_count": 9,
   "metadata": {},
   "outputs": [
    {
     "name": "stdout",
     "output_type": "stream",
     "text": [
      "Requested SP trigger rate = 2288.14 Hz\n"
     ]
    }
   ],
   "source": [
    "requested_sp_trigger_rate = calculate_expected_superpixel_rate(\n",
    "    requested_camera_trigger_rate, camera\n",
    ")\n",
    "print(f\"Requested SP trigger rate = {requested_sp_trigger_rate:.6} Hz\")"
   ]
  },
  {
   "cell_type": "markdown",
   "metadata": {},
   "source": [
    "## Step 3: Camera configuration"
   ]
  },
  {
   "cell_type": "code",
   "execution_count": 46,
   "metadata": {},
   "outputs": [],
   "source": [
    "camera = Camera(\n",
    "    mapping=SSTCameraMapping(n_pixels=4),  # One Superpixel \n",
    "    digital_trigger_length=8,  # ns\n",
    "    continuous_readout_duration=128,  # ns\n",
    ")"
   ]
  },
  {
   "cell_type": "markdown",
   "metadata": {},
   "source": [
    "## Step 4: Trigger Threshold\n",
    "\n",
    "The bias curve provides a conversion between rate and threshold. There are multiple ways in which one could extract the threshold for a given rate. For this investigation I use a simple fit to the NSB bias curve with a straight line in log space. "
   ]
  },
  {
   "cell_type": "code",
   "execution_count": 47,
   "metadata": {},
   "outputs": [],
   "source": [
    "nsb_rate = 40  # MHz"
   ]
  },
  {
   "cell_type": "code",
   "execution_count": 68,
   "metadata": {},
   "outputs": [],
   "source": [
    "def perform_nsb_bias_scan(camera, nsb, thresholds):\n",
    "    source = PhotoelectronSource(camera=camera)\n",
    "    acquisition = EventAcquisition(camera=camera)\n",
    "    n_repeats = 1000  # Repeats for statistics\n",
    "    n_triggers = np.zeros((n_repeats, thresholds.size))\n",
    "    for iev in trange(n_repeats, desc=\"Measuring bias curve\"):\n",
    "        photoelectrons = source.get_nsb(nsb)\n",
    "        readout = acquisition.get_continuous_readout(photoelectrons)\n",
    "        for i, thresh in enumerate(thresholds):\n",
    "            camera.update_trigger_threshold(thresh)\n",
    "            digital_trigger = acquisition.trigger.get_superpixel_digital_trigger_line(readout)\n",
    "            n_triggers[iev, i] = acquisition.trigger.get_n_superpixel_triggers(digital_trigger)\n",
    "    rate = n_triggers / (camera.continuous_readout_duration * 1e-9)\n",
    "    return rate.mean(0), rate.std(0)"
   ]
  },
  {
   "cell_type": "code",
   "execution_count": 55,
   "metadata": {},
   "outputs": [],
   "source": [
    "def get_threshold_for_rate(thresholds, scan, requested_rate):\n",
    "    gt0 = scan > 0\n",
    "    gradient, y_intercept = np.polyfit(thresholds[gt0], np.log10(scan[gt0]), 1)\n",
    "    required_threshold = (np.log10(requested_rate) - y_intercept) / gradient    \n",
    "    return required_threshold, gradient, y_intercept"
   ]
  },
  {
   "cell_type": "code",
   "execution_count": 56,
   "metadata": {},
   "outputs": [],
   "source": [
    "thresholds = np.linspace(4, 15, 10)  # Units: photoelectron"
   ]
  },
  {
   "cell_type": "code",
   "execution_count": 57,
   "metadata": {},
   "outputs": [
    {
     "data": {
      "application/vnd.jupyter.widget-view+json": {
       "model_id": "fd41d27dc0b446f699cc16b28cdcb943",
       "version_major": 2,
       "version_minor": 0
      },
      "text/plain": [
       "HBox(children=(FloatProgress(value=0.0, description='Measuring bias curve', max=10000.0, style=ProgressStyle(d…"
      ]
     },
     "metadata": {},
     "output_type": "display_data"
    },
    {
     "name": "stdout",
     "output_type": "stream",
     "text": [
      "\n"
     ]
    }
   ],
   "source": [
    "# Perform bias scans (first one is for plotting purposes only)\n",
    "scan, scan_err = perform_nsb_bias_scan(camera, nsb_rate, thresholds)\n",
    "#scan_x2, scan_err_x2 = perform_nsb_bias_scan(camera, nsb_rate*2, thresholds)"
   ]
  },
  {
   "cell_type": "code",
   "execution_count": 58,
   "metadata": {},
   "outputs": [],
   "source": [
    "threshold, gradient, y_intercept = get_threshold_for_rate(thresholds, scan, requested_sp_trigger_rate)"
   ]
  },
  {
   "cell_type": "code",
   "execution_count": 59,
   "metadata": {},
   "outputs": [
    {
     "data": {
      "text/plain": [
       "Text(0, 0.5, 'Trigger Rate (Hz)')"
      ]
     },
     "execution_count": 59,
     "metadata": {},
     "output_type": "execute_result"
    },
    {
     "data": {
      "image/png": "[encoded data removed]",
      "text/plain": [
       "<Figure size 432x288 with 1 Axes>"
      ]
     },
     "metadata": {
      "needs_background": "light"
     },
     "output_type": "display_data"
    }
   ],
   "source": [
    "# Demonstrate the fit\n",
    "plt.errorbar(thresholds, scan, yerr=scan_err, label=f\"Scan {nsb_rate} MHz\")\n",
    "#plt.errorbar(thresholds, scan_x2, yerr=scan_err_x2, label=f\"Scan {nsb_rate*2} MHz\")\n",
    "plt.plot(thresholds, 10**np.polyval([gradient, y_intercept], thresholds), label=\"Fit\")\n",
    "plt.axhline(requested_sp_trigger_rate, color='black', ls='-')\n",
    "plt.axvline(threshold, color='black', ls=':')\n",
    "\n",
    "plt.yscale('log')\n",
    "plt.legend()\n",
    "plt.xlabel(\"Threshold (p.e.)\")\n",
    "plt.ylabel(\"Trigger Rate (Hz)\")"
   ]
  },
  {
   "cell_type": "code",
   "execution_count": 64,
   "metadata": {},
   "outputs": [
    {
     "name": "stdout",
     "output_type": "stream",
     "text": [
      "Required threshold = 9.46 p.e.\n"
     ]
    }
   ],
   "source": [
    "print(f\"Required threshold = {threshold:.3} p.e.\")\n",
    "camera.update_trigger_threshold(threshold)"
   ]
  },
  {
   "cell_type": "markdown",
   "metadata": {},
   "source": [
    "## Step 5: Trigger Efficiency\n",
    "\n"
   ]
  },
  {
   "cell_type": "code",
   "execution_count": 61,
   "metadata": {},
   "outputs": [],
   "source": [
    "def extract_trigger_ratio(camera, nsb_rate, illumination_level):\n",
    "    n_simulated = 2000\n",
    "    source = PhotoelectronSource(camera=camera)\n",
    "    acquisition = EventAcquisition(camera=camera)\n",
    "    \n",
    "    signal_time = camera.continuous_readout_duration / 2\n",
    "    n_triggers = 0\n",
    "    for _ in range(n_simulated):\n",
    "        photoelectrons = source.get_nsb(nsb_rate)\n",
    "        photoelectrons += source.get_uniform_illumination(signal_time, illumination_level, laser_pulse_width=5)        \n",
    "        readout = acquisition.get_continuous_readout(photoelectrons)\n",
    "        digital_trigger = acquisition.trigger.get_superpixel_digital_trigger_line(readout)\n",
    "        n_triggers += acquisition.trigger.get_n_superpixel_triggers(digital_trigger)\n",
    "    return n_triggers / n_simulated"
   ]
  },
  {
   "cell_type": "code",
   "execution_count": 62,
   "metadata": {},
   "outputs": [
    {
     "data": {
      "application/vnd.jupyter.widget-view+json": {
       "model_id": "d817a331727d4617846e46e08bdb8cf9",
       "version_major": 2,
       "version_minor": 0
      },
      "text/plain": [
       "HBox(children=(FloatProgress(value=0.0, description='Iterating through illumination levels', max=20.0, style=P…"
      ]
     },
     "metadata": {},
     "output_type": "display_data"
    },
    {
     "name": "stdout",
     "output_type": "stream",
     "text": [
      "\n"
     ]
    }
   ],
   "source": [
    "illumination_levels = np.linspace(0, 6, 20)\n",
    "ratio = np.zeros(illumination_levels.size)\n",
    "\n",
    "for i, level in enumerate(tqdm(illumination_levels, desc=\"Iterating through illumination levels\")):\n",
    "    ratio[i] = extract_trigger_ratio(camera, nsb_rate, level)"
   ]
  },
  {
   "cell_type": "code",
   "execution_count": 65,
   "metadata": {},
   "outputs": [
    {
     "name": "stdout",
     "output_type": "stream",
     "text": [
      "Amplitude @ 50% Trigger Efficiency = 3.680 p.e.\n"
     ]
    },
    {
     "data": {
      "image/png": "[encoded data removed]",
      "text/plain": [
       "<Figure size 432x288 with 1 Axes>"
      ]
     },
     "metadata": {
      "needs_background": "light"
     },
     "output_type": "display_data"
    }
   ],
   "source": [
    "amplitude_50 = np.interp(0.5, ratio, illumination_levels)\n",
    "\n",
    "plt.plot(illumination_levels, ratio)\n",
    "plt.axhline(0.5, color='black', ls='-')\n",
    "plt.axvline(amplitude_50, color='black', ls=':')\n",
    "plt.xlabel(\"Illumination level (p.e.)\")\n",
    "plt.ylabel(\"Trigger Efficiency\")\n",
    "\n",
    "print(f\"Amplitude @ 50% Trigger Efficiency = {amplitude_50:.3f} p.e.\")"
   ]
  },
  {
   "cell_type": "markdown",
   "metadata": {},
   "source": [
    "# Full Chain for Multiple Configurations\n",
    "\n",
    "Now that each step in the chain has been verbosely demonstrated, we can perform the entire chain for multiple camera configurations in an attempt to find an optimal camera design."
   ]
  },
  {
   "cell_type": "code",
   "execution_count": 69,
   "metadata": {},
   "outputs": [],
   "source": [
    "def obtain_amplitude_at_50_percent(camera):\n",
    "    # Define an acceptable camera trigger rate\n",
    "    camera_trigger_rate = 200  # Hz\n",
    "    sp_trigger_rate = calculate_expected_superpixel_rate(camera_trigger_rate, camera)\n",
    "    \n",
    "    # Bias scan to find threshold\n",
    "    nsb_rate = 40  # MHz\n",
    "    thresholds = np.linspace(4, 15, 10)  # Units: photoelectron\n",
    "    scan, scan_err = perform_nsb_bias_scan(camera, nsb_rate, thresholds)\n",
    "    threshold, _, _ = get_threshold_for_rate(thresholds, scan, sp_trigger_rate)\n",
    "    camera.update_trigger_threshold(threshold)\n",
    "    \n",
    "    # Illumination scan to obtain trigger efficiency\n",
    "    illumination_levels = np.linspace(0, 15, 10)\n",
    "    ratio = np.zeros(illumination_levels.size)\n",
    "    for i, level in enumerate(tqdm(illumination_levels, desc=\"Iterating through illumination levels\")):\n",
    "        ratio[i] = extract_trigger_ratio(camera, nsb_rate, level)\n",
    "    amplitude_50 = np.interp(0.5, ratio, illumination_levels)\n",
    "    \n",
    "    return amplitude_50"
   ]
  },
  {
   "cell_type": "code",
   "execution_count": 70,
   "metadata": {},
   "outputs": [
    {
     "data": {
      "application/vnd.jupyter.widget-view+json": {
       "model_id": "3fd154c698614b8fa35dc220a2679c23",
       "version_major": 2,
       "version_minor": 0
      },
      "text/plain": [
       "HBox(children=(FloatProgress(value=0.0, description='Extracting Trigger Efficiency for Camera', max=10.0, styl…"
      ]
     },
     "metadata": {},
     "output_type": "display_data"
    },
    {
     "data": {
      "application/vnd.jupyter.widget-view+json": {
       "model_id": "f8d190d04e9045dc9183d29db4cb5299",
       "version_major": 2,
       "version_minor": 0
      },
      "text/plain": [
       "HBox(children=(FloatProgress(value=0.0, description='Measuring bias curve', max=1000.0, style=ProgressStyle(de…"
      ]
     },
     "metadata": {},
     "output_type": "display_data"
    },
    {
     "name": "stdout",
     "output_type": "stream",
     "text": [
      "\n"
     ]
    },
    {
     "data": {
      "application/vnd.jupyter.widget-view+json": {
       "model_id": "a02b8b03dfab437cbcdcc5b33b3f0cb9",
       "version_major": 2,
       "version_minor": 0
      },
      "text/plain": [
       "HBox(children=(FloatProgress(value=0.0, description='Iterating through illumination levels', max=10.0, style=P…"
      ]
     },
     "metadata": {},
     "output_type": "display_data"
    },
    {
     "name": "stdout",
     "output_type": "stream",
     "text": [
      "\n"
     ]
    },
    {
     "data": {
      "application/vnd.jupyter.widget-view+json": {
       "model_id": "bef318a7899b46cb8a419e724af0316e",
       "version_major": 2,
       "version_minor": 0
      },
      "text/plain": [
       "HBox(children=(FloatProgress(value=0.0, description='Measuring bias curve', max=1000.0, style=ProgressStyle(de…"
      ]
     },
     "metadata": {},
     "output_type": "display_data"
    },
    {
     "name": "stdout",
     "output_type": "stream",
     "text": [
      "\n"
     ]
    },
    {
     "data": {
      "application/vnd.jupyter.widget-view+json": {
       "model_id": "f75f2aefa637420da38e2178514863d6",
       "version_major": 2,
       "version_minor": 0
      },
      "text/plain": [
       "HBox(children=(FloatProgress(value=0.0, description='Iterating through illumination levels', max=10.0, style=P…"
      ]
     },
     "metadata": {},
     "output_type": "display_data"
    },
    {
     "name": "stdout",
     "output_type": "stream",
     "text": [
      "\n"
     ]
    },
    {
     "data": {
      "application/vnd.jupyter.widget-view+json": {
       "model_id": "4b552e5881b342a3bc70d71895ea876b",
       "version_major": 2,
       "version_minor": 0
      },
      "text/plain": [
       "HBox(children=(FloatProgress(value=0.0, description='Measuring bias curve', max=1000.0, style=ProgressStyle(de…"
      ]
     },
     "metadata": {},
     "output_type": "display_data"
    },
    {
     "name": "stdout",
     "output_type": "stream",
     "text": [
      "\n"
     ]
    },
    {
     "data": {
      "application/vnd.jupyter.widget-view+json": {
       "model_id": "4885cb368fb4493ba9b14a5d0bc3f6e5",
       "version_major": 2,
       "version_minor": 0
      },
      "text/plain": [
       "HBox(children=(FloatProgress(value=0.0, description='Iterating through illumination levels', max=10.0, style=P…"
      ]
     },
     "metadata": {},
     "output_type": "display_data"
    },
    {
     "name": "stdout",
     "output_type": "stream",
     "text": [
      "\n"
     ]
    },
    {
     "data": {
      "application/vnd.jupyter.widget-view+json": {
       "model_id": "7faabc69d2794c13a53715302c1e24bc",
       "version_major": 2,
       "version_minor": 0
      },
      "text/plain": [
       "HBox(children=(FloatProgress(value=0.0, description='Measuring bias curve', max=1000.0, style=ProgressStyle(de…"
      ]
     },
     "metadata": {},
     "output_type": "display_data"
    },
    {
     "name": "stdout",
     "output_type": "stream",
     "text": [
      "\n"
     ]
    },
    {
     "data": {
      "application/vnd.jupyter.widget-view+json": {
       "model_id": "1e8e4fb90be74be2859de31a055fdf0b",
       "version_major": 2,
       "version_minor": 0
      },
      "text/plain": [
       "HBox(children=(FloatProgress(value=0.0, description='Iterating through illumination levels', max=10.0, style=P…"
      ]
     },
     "metadata": {},
     "output_type": "display_data"
    },
    {
     "name": "stdout",
     "output_type": "stream",
     "text": [
      "\n"
     ]
    },
    {
     "data": {
      "application/vnd.jupyter.widget-view+json": {
       "model_id": "a94cb505e9b84e1cb826973d1d27b642",
       "version_major": 2,
       "version_minor": 0
      },
      "text/plain": [
       "HBox(children=(FloatProgress(value=0.0, description='Measuring bias curve', max=1000.0, style=ProgressStyle(de…"
      ]
     },
     "metadata": {},
     "output_type": "display_data"
    },
    {
     "name": "stdout",
     "output_type": "stream",
     "text": [
      "\n"
     ]
    },
    {
     "data": {
      "application/vnd.jupyter.widget-view+json": {
       "model_id": "ae9b5954b511465096cc3390bd9c898d",
       "version_major": 2,
       "version_minor": 0
      },
      "text/plain": [
       "HBox(children=(FloatProgress(value=0.0, description='Iterating through illumination levels', max=10.0, style=P…"
      ]
     },
     "metadata": {},
     "output_type": "display_data"
    },
    {
     "name": "stdout",
     "output_type": "stream",
     "text": [
      "\n"
     ]
    },
    {
     "data": {
      "application/vnd.jupyter.widget-view+json": {
       "model_id": "8a763df0e54f46259ddbb9da13c482fe",
       "version_major": 2,
       "version_minor": 0
      },
      "text/plain": [
       "HBox(children=(FloatProgress(value=0.0, description='Measuring bias curve', max=1000.0, style=ProgressStyle(de…"
      ]
     },
     "metadata": {},
     "output_type": "display_data"
    },
    {
     "name": "stdout",
     "output_type": "stream",
     "text": [
      "\n"
     ]
    },
    {
     "data": {
      "application/vnd.jupyter.widget-view+json": {
       "model_id": "d110abd247274d2d99631e2cc42609f4",
       "version_major": 2,
       "version_minor": 0
      },
      "text/plain": [
       "HBox(children=(FloatProgress(value=0.0, description='Iterating through illumination levels', max=10.0, style=P…"
      ]
     },
     "metadata": {},
     "output_type": "display_data"
    },
    {
     "name": "stdout",
     "output_type": "stream",
     "text": [
      "\n"
     ]
    },
    {
     "data": {
      "application/vnd.jupyter.widget-view+json": {
       "model_id": "20add44fd6784455b33299d872a265e3",
       "version_major": 2,
       "version_minor": 0
      },
      "text/plain": [
       "HBox(children=(FloatProgress(value=0.0, description='Measuring bias curve', max=1000.0, style=ProgressStyle(de…"
      ]
     },
     "metadata": {},
     "output_type": "display_data"
    },
    {
     "name": "stdout",
     "output_type": "stream",
     "text": [
      "\n"
     ]
    },
    {
     "data": {
      "application/vnd.jupyter.widget-view+json": {
       "model_id": "5ac361b0edb54e7aa478ad2c132c91d2",
       "version_major": 2,
       "version_minor": 0
      },
      "text/plain": [
       "HBox(children=(FloatProgress(value=0.0, description='Iterating through illumination levels', max=10.0, style=P…"
      ]
     },
     "metadata": {},
     "output_type": "display_data"
    },
    {
     "name": "stdout",
     "output_type": "stream",
     "text": [
      "\n"
     ]
    },
    {
     "data": {
      "application/vnd.jupyter.widget-view+json": {
       "model_id": "bc3a4175a1c842cc821ab786a18fd7f8",
       "version_major": 2,
       "version_minor": 0
      },
      "text/plain": [
       "HBox(children=(FloatProgress(value=0.0, description='Measuring bias curve', max=1000.0, style=ProgressStyle(de…"
      ]
     },
     "metadata": {},
     "output_type": "display_data"
    },
    {
     "name": "stdout",
     "output_type": "stream",
     "text": [
      "\n"
     ]
    },
    {
     "data": {
      "application/vnd.jupyter.widget-view+json": {
       "model_id": "2d3897ded26c46578a84359d0204af01",
       "version_major": 2,
       "version_minor": 0
      },
      "text/plain": [
       "HBox(children=(FloatProgress(value=0.0, description='Iterating through illumination levels', max=10.0, style=P…"
      ]
     },
     "metadata": {},
     "output_type": "display_data"
    },
    {
     "name": "stdout",
     "output_type": "stream",
     "text": [
      "\n"
     ]
    },
    {
     "data": {
      "application/vnd.jupyter.widget-view+json": {
       "model_id": "aa3b5ebc57124b22b06ac3f085e3cb96",
       "version_major": 2,
       "version_minor": 0
      },
      "text/plain": [
       "HBox(children=(FloatProgress(value=0.0, description='Measuring bias curve', max=1000.0, style=ProgressStyle(de…"
      ]
     },
     "metadata": {},
     "output_type": "display_data"
    },
    {
     "name": "stdout",
     "output_type": "stream",
     "text": [
      "\n"
     ]
    },
    {
     "data": {
      "application/vnd.jupyter.widget-view+json": {
       "model_id": "e0ecbc9d70984793b9e22852961704ea",
       "version_major": 2,
       "version_minor": 0
      },
      "text/plain": [
       "HBox(children=(FloatProgress(value=0.0, description='Iterating through illumination levels', max=10.0, style=P…"
      ]
     },
     "metadata": {},
     "output_type": "display_data"
    },
    {
     "name": "stdout",
     "output_type": "stream",
     "text": [
      "\n"
     ]
    },
    {
     "data": {
      "application/vnd.jupyter.widget-view+json": {
       "model_id": "159486a1010a4327b58f864e3f2d1637",
       "version_major": 2,
       "version_minor": 0
      },
      "text/plain": [
       "HBox(children=(FloatProgress(value=0.0, description='Measuring bias curve', max=1000.0, style=ProgressStyle(de…"
      ]
     },
     "metadata": {},
     "output_type": "display_data"
    },
    {
     "name": "stdout",
     "output_type": "stream",
     "text": [
      "\n"
     ]
    },
    {
     "data": {
      "application/vnd.jupyter.widget-view+json": {
       "model_id": "ed36108ea0f6432dafad4372b83c6a4c",
       "version_major": 2,
       "version_minor": 0
      },
      "text/plain": [
       "HBox(children=(FloatProgress(value=0.0, description='Iterating through illumination levels', max=10.0, style=P…"
      ]
     },
     "metadata": {},
     "output_type": "display_data"
    },
    {
     "name": "stdout",
     "output_type": "stream",
     "text": [
      "\n",
      "\n"
     ]
    }
   ],
   "source": [
    "sigma_array = np.linspace(1, 15, 10)\n",
    "amplitude_array = np.zeros(sigma_array.size)\n",
    "desc = \"Extracting Trigger Efficiency for Camera\"\n",
    "for i, sigma in tqdm(enumerate(sigma_array), total=sigma_array.size, desc=desc):\n",
    "    camera = Camera(\n",
    "        mapping=SSTCameraMapping(n_pixels=4),  # One Superpixel \n",
    "        digital_trigger_length=8,  # ns\n",
    "        reference_pulse=GaussianPulse(sigma=sigma, duration=50, mean=25),\n",
    "    )\n",
    "    amplitude_array[i] = obtain_amplitude_at_50_percent(camera)\n",
    "    #plt.plot(camera.reference_pulse.time, camera.reference_pulse.pulse)"
   ]
  },
  {
   "cell_type": "code",
   "execution_count": 71,
   "metadata": {},
   "outputs": [
    {
     "data": {
      "text/plain": [
       "Text(0, 0.5, 'Amplitude @ 50% Trigger Efficiency (p.e.)')"
      ]
     },
     "execution_count": 71,
     "metadata": {},
     "output_type": "execute_result"
    },
    {
     "data": {
      "image/png": "[encoded data removed]",
      "text/plain": [
       "<Figure size 432x288 with 1 Axes>"
      ]
     },
     "metadata": {
      "needs_background": "light"
     },
     "output_type": "display_data"
    }
   ],
   "source": [
    "plt.plot(sigma_array, amplitude_array)\n",
    "plt.xlabel(\"Gaussian Pulse Sigma (ns)\")\n",
    "plt.ylabel(\"Amplitude @ 50% Trigger Efficiency (p.e.)\")"
   ]
  },
  {
   "cell_type": "markdown",
   "metadata": {},
   "source": [
    "Therefore, in designing a camera to be optimised for uniform laser light, with a illumination pulse of 5 ns, and in the presence of 40 MHz NS"
   ]
  }
 ],
 "metadata": {
  "kernelspec": {
   "display_name": "Python [conda env:cta] *",
   "language": "python",
   "name": "conda-env-cta-py"
  },
  "language_info": {
   "codemirror_mode": {
    "name": "ipython",
    "version": 3
   },
   "file_extension": ".py",
   "mimetype": "text/x-python",
   "name": "python",
   "nbconvert_exporter": "python",
   "pygments_lexer": "ipython3",
   "version": "3.7.5"
  }
 },
 "nbformat": 4,
 "nbformat_minor": 4
}
