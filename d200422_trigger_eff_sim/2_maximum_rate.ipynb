{
 "cells": [
  {
   "cell_type": "markdown",
   "metadata": {},
   "source": [
    "# Investigating Trigger Efficiency at Maximum Trigger Rate with Uniform Illumination\n",
    "\n",
    "This is the second notebook to explore measuring the trigger efficiency using the sstcam-simulation package. The approach in the first notebook was to select a safe threshold based on the intersection between the NSB bias curve and the periodic laser flash rate. Instead, this notebook operates with the principle of choosing a threshold which results in an \"maximum allowed camera trigger rate\", on the order of 200-600 Hz. Majority of these triggers will be from NSB.\n",
    "\n",
    "Our aim in these investigations is to change various parameters of the camera design (e.g. pulse shape) to investigate the corresponding uniform illumination trigger efficiency, and to make recommendations on the final camera design. In summary, we ask:\n",
    "1. What is the acceptable accidental camera trigger rate on the NSB?\n",
    "2. What is the superpixel trigger rate that corresponds to that camera trigger rate?\n",
    "3. What is the camera configuration we want to test?\n",
    "4. What is the superpixel threshold we need to maintain this trigger rate for this camera configuration?\n",
    "5. What is the resulting trigger efficiency for the camera configuration at this threshold?"
   ]
  },
  {
   "cell_type": "code",
   "execution_count": 1,
   "metadata": {},
   "outputs": [],
   "source": [
    "from sstcam_simulation import Camera, SSTCameraMapping, PhotoelectronSource, EventAcquisition\n",
    "from sstcam_simulation.camera.spe import SiPMGentileSPE, PerfectPhotosensor\n",
    "from sstcam_simulation.camera.pulse import GaussianPulse\n",
    "from sstcam_simulation.event.trigger import sum_superpixels\n",
    "import numpy as np\n",
    "from numpy.polynomial.polynomial import polyfit, polyval\n",
    "from tqdm.notebook import trange, tqdm\n",
    "from matplotlib import pyplot as plt\n",
    "%matplotlib inline"
   ]
  },
  {
   "cell_type": "markdown",
   "metadata": {},
   "source": [
    "## Step 1: Accidental Camera Trigger Rate\n",
    "\n",
    "One approach to define the acceptable camera trigger rate is by considering the intersection of the NSB-dominant section of the trigger bias curve, and the CR-dominant section. The \"safe threshold\" definition is often obtained by considering twice the operating NSB (see the document by Tom Armstrong in this github directory). This definition gaurantess an accidental NSB trigger rate which is less than the CR trigger rate.\n",
    "\n",
    "Alternatively, one can select a trigger rate which one expects the camera to be able to handle. NSB may be the majority cause of triggers at this rate, but the array trigger can be relied on to extract to flag the Cherenkov shower events that we wish to keep. The primary caveat in this approach is the dead time - allow too high of an NSB trigger rate, and you will miss the cosmic ray triggers which may have resulted in an array trigger.\n",
    "\n",
    "For this investigation I will assume a camera trigger rate of 200 Hz results in an acceptable accidental trigger rate. This value comes from the values assumed in the 2012 trigger efficiency investigation document by Jim and Stefan. Once sstcam-simulation can simulate a CR population, the value can be confirmed as acceptable."
   ]
  },
  {
   "cell_type": "code",
   "execution_count": 2,
   "metadata": {},
   "outputs": [],
   "source": [
    "# Define an acceptable camera trigger rate\n",
    "requested_camera_trigger_rate = 200  # Hz"
   ]
  },
  {
   "cell_type": "markdown",
   "metadata": {},
   "source": [
    "## Step 2: Corresponding Superpixel Trigger Rate\n",
    "\n",
    "The relationship between the camera trigger rate and the pixel trigger rate for uncorrelated triggers can be found from the [statistical evaluation of coincident triggers](http://courses.washington.edu/phys433/muon_counting/statistics_tutorial.pdf)\n",
    "\n",
    "And can be summarised in the equation:\n",
    "\n",
    "$$f = \\sum_{n=i}^{N_{comb}}( t_{coinc}^{N - 1} \\prod_{n=0}^{N} f_{in})$$\n",
    "\n",
    "$f$ = Camera trigger rate\n",
    "\n",
    "$N_{comb}$ = Number of possible trigger group combinations\n",
    "\n",
    "$N$ = Number of trigger groups involved in creating the trigger (multiplicity)\n",
    "\n",
    "$f_{in}$ = Trigger rate of the trigger group\n",
    "\n",
    "$t_{coinc}$ = Coincidence time required between the trigger groups\n",
    "\n",
    "For the NN superpixel scheme in the SST camera, where the multiplicity is 2 and the total number of combinations is 2 x 1910, this can be simplified to:\n",
    "\n",
    "$$f = 2 \\times 1910 \\times f_{sp}^2 \\times t_{coinc}$$\n",
    "\n",
    "This relationship is demonstrated to hold for sstcam-simulation below:"
   ]
  },
  {
   "cell_type": "code",
   "execution_count": 3,
   "metadata": {},
   "outputs": [
    {
     "data": {
      "application/vnd.jupyter.widget-view+json": {
       "model_id": "b5ca66a8e34645feac48e7839f969642",
       "version_major": 2,
       "version_minor": 0
      },
      "text/plain": [
       "HBox(children=(FloatProgress(value=0.0, description='Measuring uncorrelated triggers', max=5.0, style=Progress…"
      ]
     },
     "metadata": {},
     "output_type": "display_data"
    },
    {
     "name": "stdout",
     "output_type": "stream",
     "text": [
      "\n"
     ]
    }
   ],
   "source": [
    "camera = Camera(\n",
    "    mapping=SSTCameraMapping(n_pixels=2048), \n",
    "    trigger_threshold=2,\n",
    "    digital_trigger_length=10,\n",
    ")\n",
    "nsb_array = np.linspace(1, 10, 5)  # MHz\n",
    "source = PhotoelectronSource(camera=camera)\n",
    "acquisition = EventAcquisition(camera=camera)\n",
    "n_repeats = 5  # Repeats for statistics\n",
    "n_sp_triggers = np.zeros((n_repeats, nsb_array.size))\n",
    "n_camera_triggers = np.zeros((n_repeats, nsb_array.size))\n",
    "for i, nsb in tqdm(enumerate(nsb_array), desc=\"Measuring uncorrelated triggers\", total=nsb_array.size):\n",
    "    for iev in range(n_repeats):\n",
    "        photoelectrons = source.get_nsb(nsb)\n",
    "        readout = acquisition.get_continuous_readout(photoelectrons)\n",
    "        digital_trigger = acquisition.trigger.get_superpixel_digital_trigger_line(readout)\n",
    "        n_sp_triggers[iev, i] = acquisition.trigger.get_n_superpixel_triggers(digital_trigger).mean()\n",
    "        n_camera_triggers[iev, i] = np.unique(acquisition.get_trigger(readout)).size\n",
    "        \n",
    "duration = camera.continuous_readout_duration * 1e-9  # seconds\n",
    "sp_rate = n_sp_triggers.mean(0) / duration\n",
    "sp_rate_err = n_sp_triggers.std(0) / duration\n",
    "camera_rate = n_camera_triggers.mean(0) / duration\n",
    "camera_rate_err = n_camera_triggers.std(0) / duration"
   ]
  },
  {
   "cell_type": "code",
   "execution_count": 4,
   "metadata": {},
   "outputs": [],
   "source": [
    "def calculate_expected_superpixel_rate(camera_rate, camera):\n",
    "    n_combinations = 2 * 1910\n",
    "    coincidence_length = camera.digital_trigger_length * 1e-9\n",
    "    return np.sqrt(camera_rate / (n_combinations * coincidence_length))"
   ]
  },
  {
   "cell_type": "code",
   "execution_count": 8,
   "metadata": {},
   "outputs": [
    {
     "name": "stdout",
     "output_type": "stream",
     "text": [
      "Presumed Coincidence Length = 10.0 ns\n",
      "Effective Coincidence Length = 7.57 ns\n"
     ]
    },
    {
     "data": {
      "image/png": "[encoded data removed]",
      "text/plain": [
       "<Figure size 432x288 with 1 Axes>"
      ]
     },
     "metadata": {
      "needs_background": "light"
     },
     "output_type": "display_data"
    }
   ],
   "source": [
    "sp_rate_mhz = sp_rate * 1e-6\n",
    "sp_rate_err_mhz = sp_rate_err * 1e-6\n",
    "camera_rate_mhz = camera_rate * 1e-6\n",
    "camera_rate_err_mhz = camera_rate_err * 1e-6\n",
    "\n",
    "plt.errorbar(\n",
    "    sp_rate_mhz, camera_rate_mhz, \n",
    "    xerr=sp_rate_err_mhz, yerr=camera_rate_err_mhz, \n",
    "    fmt='.', label=\"Measurements\"\n",
    ")\n",
    "\n",
    "expected_sp_rate = calculate_expected_superpixel_rate(camera_rate, camera)\n",
    "expected_sp_rate_mhz = expected_sp_rate * 1e-6\n",
    "plt.plot(expected_sp_rate_mhz, camera_rate_mhz, label=\"Expected\")\n",
    "\n",
    "c = polyfit(2 * 1910 * sp_rate**2, camera_rate, [1], w=camera_rate_err)\n",
    "fit_y = polyval(2 * 1910 * sp_rate**2, c) * 1e-6\n",
    "plt.plot(sp_rate_mhz, fit_y, label=\"Fit\")\n",
    "\n",
    "coincidence_length = camera.digital_trigger_length * 1e-9\n",
    "effective_coincidence_length = c[1]\n",
    "\n",
    "plt.xlabel(\"Superpixel Trigger Rate (MHz)\")\n",
    "plt.ylabel(\"Camera Trigger Rate (MHz)\")\n",
    "plt.legend()\n",
    "\n",
    "print(f\"Presumed Coincidence Length = {coincidence_length * 1e9:.3} ns\")\n",
    "print(f\"Effective Coincidence Length = {effective_coincidence_length * 1e9:.3} ns\")"
   ]
  },
  {
   "cell_type": "markdown",
   "metadata": {},
   "source": [
    "The relationship does not fully follow the expected equation due to the triggers that are not counted as they occur in a period where another trigger has already occured. However, the discrepency is small enough for our purposes, so the equation will still be used."
   ]
  },
  {
   "cell_type": "code",
   "execution_count": 9,
   "metadata": {},
   "outputs": [
    {
     "name": "stdout",
     "output_type": "stream",
     "text": [
      "Requested SP trigger rate = 2288.14 Hz\n"
     ]
    }
   ],
   "source": [
    "requested_sp_trigger_rate = calculate_expected_superpixel_rate(\n",
    "    requested_camera_trigger_rate, camera\n",
    ")\n",
    "print(f\"Requested SP trigger rate = {requested_sp_trigger_rate:.6} Hz\")"
   ]
  },
  {
   "cell_type": "markdown",
   "metadata": {},
   "source": [
    "## Step 3: Camera configuration"
   ]
  },
  {
   "cell_type": "code",
   "execution_count": 10,
   "metadata": {},
   "outputs": [],
   "source": [
    "camera = Camera(\n",
    "    mapping=SSTCameraMapping(n_pixels=4),  # One Superpixel \n",
    "    digital_trigger_length=8,  # ns\n",
    ")"
   ]
  },
  {
   "cell_type": "markdown",
   "metadata": {},
   "source": [
    "## Step 4: Trigger Threshold\n",
    "\n",
    "The bias curve provides a conversion between rate and threshold. There are multiple ways in which one could extract the threshold for a given rate. For this investigation I use a simple fit to the NSB bias curve with a straight line in log space. "
   ]
  },
  {
   "cell_type": "code",
   "execution_count": 11,
   "metadata": {},
   "outputs": [],
   "source": [
    "nsb_rate = 40  # MHz"
   ]
  },
  {
   "cell_type": "code",
   "execution_count": 12,
   "metadata": {},
   "outputs": [],
   "source": [
    "def perform_nsb_bias_scan(camera, nsb, thresholds):\n",
    "    source = PhotoelectronSource(camera=camera)\n",
    "    acquisition = EventAcquisition(camera=camera)\n",
    "    n_repeats = 1000  # Repeats for statistics\n",
    "    n_triggers = np.zeros((n_repeats, thresholds.size))\n",
    "    for iev in trange(n_repeats, desc=\"Measuring bias curve\"):\n",
    "        photoelectrons = source.get_nsb(nsb)\n",
    "        readout = acquisition.get_continuous_readout(photoelectrons)\n",
    "        for i, thresh in enumerate(thresholds):\n",
    "            camera.update_trigger_threshold(thresh)\n",
    "            digital_trigger = acquisition.trigger.get_superpixel_digital_trigger_line(readout)\n",
    "            n_triggers[iev, i] = acquisition.trigger.get_n_superpixel_triggers(digital_trigger)\n",
    "    rate = n_triggers / (camera.continuous_readout_duration * 1e-9)\n",
    "    return rate.mean(0), rate.std(0)"
   ]
  },
  {
   "cell_type": "code",
   "execution_count": 13,
   "metadata": {},
   "outputs": [],
   "source": [
    "def get_threshold_for_rate(thresholds, scan, requested_rate):\n",
    "    gt0 = scan > 0\n",
    "    gradient, y_intercept = np.polyfit(thresholds[gt0], np.log10(scan[gt0]), 1)\n",
    "    required_threshold = (np.log10(requested_rate) - y_intercept) / gradient    \n",
    "    return required_threshold, gradient, y_intercept"
   ]
  },
  {
   "cell_type": "code",
   "execution_count": 14,
   "metadata": {},
   "outputs": [],
   "source": [
    "thresholds = np.linspace(4, 15, 10)  # Units: photoelectron"
   ]
  },
  {
   "cell_type": "code",
   "execution_count": 15,
   "metadata": {},
   "outputs": [
    {
     "data": {
      "application/vnd.jupyter.widget-view+json": {
       "model_id": "41e5d9e253014217bf5717cdbfd8ec4e",
       "version_major": 2,
       "version_minor": 0
      },
      "text/plain": [
       "HBox(children=(FloatProgress(value=0.0, description='Measuring bias curve', max=1000.0, style=ProgressStyle(de…"
      ]
     },
     "metadata": {},
     "output_type": "display_data"
    },
    {
     "name": "stdout",
     "output_type": "stream",
     "text": [
      "\n"
     ]
    }
   ],
   "source": [
    "# Perform bias scans (first one is for plotting purposes only)\n",
    "scan, scan_err = perform_nsb_bias_scan(camera, nsb_rate, thresholds)\n",
    "#scan_x2, scan_err_x2 = perform_nsb_bias_scan(camera, nsb_rate*2, thresholds)"
   ]
  },
  {
   "cell_type": "code",
   "execution_count": 16,
   "metadata": {},
   "outputs": [],
   "source": [
    "threshold, gradient, y_intercept = get_threshold_for_rate(thresholds, scan, requested_sp_trigger_rate)"
   ]
  },
  {
   "cell_type": "code",
   "execution_count": 17,
   "metadata": {},
   "outputs": [
    {
     "data": {
      "text/plain": [
       "Text(0, 0.5, 'Trigger Rate (Hz)')"
      ]
     },
     "execution_count": 17,
     "metadata": {},
     "output_type": "execute_result"
    },
    {
     "data": {
      "image/png": "[encoded data removed]",
      "text/plain": [
       "<Figure size 432x288 with 1 Axes>"
      ]
     },
     "metadata": {
      "needs_background": "light"
     },
     "output_type": "display_data"
    }
   ],
   "source": [
    "# Demonstrate the fit\n",
    "plt.errorbar(thresholds, scan, yerr=scan_err, label=f\"Scan {nsb_rate} MHz\")\n",
    "#plt.errorbar(thresholds, scan_x2, yerr=scan_err_x2, label=f\"Scan {nsb_rate*2} MHz\")\n",
    "plt.plot(thresholds, 10**np.polyval([gradient, y_intercept], thresholds), label=\"Fit\")\n",
    "plt.axhline(requested_sp_trigger_rate, color='black', ls='-')\n",
    "plt.axvline(threshold, color='black', ls=':')\n",
    "\n",
    "plt.yscale('log')\n",
    "plt.legend()\n",
    "plt.xlabel(\"Threshold (p.e.)\")\n",
    "plt.ylabel(\"Trigger Rate (Hz)\")"
   ]
  },
  {
   "cell_type": "code",
   "execution_count": 18,
   "metadata": {},
   "outputs": [
    {
     "name": "stdout",
     "output_type": "stream",
     "text": [
      "Required threshold = 9.54 p.e.\n"
     ]
    }
   ],
   "source": [
    "print(f\"Required threshold = {threshold:.3} p.e.\")\n",
    "camera.update_trigger_threshold(threshold)"
   ]
  },
  {
   "cell_type": "markdown",
   "metadata": {},
   "source": [
    "## Step 5: Trigger Efficiency\n",
    "\n"
   ]
  },
  {
   "cell_type": "code",
   "execution_count": 19,
   "metadata": {},
   "outputs": [],
   "source": [
    "def extract_trigger_ratio(camera, nsb_rate, illumination_level):\n",
    "    n_simulated = 2000\n",
    "    source = PhotoelectronSource(camera=camera)\n",
    "    acquisition = EventAcquisition(camera=camera)\n",
    "    \n",
    "    signal_time = camera.continuous_readout_duration / 2\n",
    "    n_triggers = 0\n",
    "    for _ in range(n_simulated):\n",
    "        photoelectrons = source.get_nsb(nsb_rate)\n",
    "        photoelectrons += source.get_uniform_illumination(signal_time, illumination_level)        \n",
    "        readout = acquisition.get_continuous_readout(photoelectrons)\n",
    "        digital_trigger = acquisition.trigger.get_superpixel_digital_trigger_line(readout)\n",
    "        n_triggers += acquisition.trigger.get_n_superpixel_triggers(digital_trigger)\n",
    "    return n_triggers / n_simulated"
   ]
  },
  {
   "cell_type": "code",
   "execution_count": 20,
   "metadata": {},
   "outputs": [
    {
     "data": {
      "application/vnd.jupyter.widget-view+json": {
       "model_id": "26009e063c6f4e4bbc9e20df95dc2ef3",
       "version_major": 2,
       "version_minor": 0
      },
      "text/plain": [
       "HBox(children=(FloatProgress(value=0.0, description='Iterating through illumination levels', max=20.0, style=P…"
      ]
     },
     "metadata": {},
     "output_type": "display_data"
    },
    {
     "name": "stdout",
     "output_type": "stream",
     "text": [
      "\n"
     ]
    }
   ],
   "source": [
    "illumination_levels = np.linspace(0, 6, 20)\n",
    "ratio = np.zeros(illumination_levels.size)\n",
    "\n",
    "for i, level in enumerate(tqdm(illumination_levels, desc=\"Iterating through illumination levels\")):\n",
    "    ratio[i] = extract_trigger_ratio(camera, nsb_rate, level)"
   ]
  },
  {
   "cell_type": "code",
   "execution_count": 21,
   "metadata": {},
   "outputs": [
    {
     "name": "stdout",
     "output_type": "stream",
     "text": [
      "Amplitude @ 50% Trigger Efficiency = 2.123 p.e.\n"
     ]
    },
    {
     "data": {
      "image/png": "[encoded data removed]",
      "text/plain": [
       "<Figure size 432x288 with 1 Axes>"
      ]
     },
     "metadata": {
      "needs_background": "light"
     },
     "output_type": "display_data"
    }
   ],
   "source": [
    "amplitude_50 = np.interp(0.5, ratio, illumination_levels)\n",
    "\n",
    "plt.plot(illumination_levels, ratio)\n",
    "plt.axhline(0.5, color='black', ls='-')\n",
    "plt.axvline(amplitude_50, color='black', ls=':')\n",
    "plt.xlabel(\"Illumination level (p.e.)\")\n",
    "plt.ylabel(\"Trigger Efficiency\")\n",
    "\n",
    "print(f\"Amplitude @ 50% Trigger Efficiency = {amplitude_50:.3f} p.e.\")"
   ]
  },
  {
   "cell_type": "markdown",
   "metadata": {},
   "source": [
    "# Full Chain for Multiple Configurations\n",
    "\n",
    "Now that each step in the chain has been verbosely demonstrated, we can perform the entire chain for multiple camera configurations in an attempt to find an optimal camera design."
   ]
  },
  {
   "cell_type": "code",
   "execution_count": 22,
   "metadata": {},
   "outputs": [],
   "source": [
    "def obtain_amplitue_at_50_percent(camera):\n",
    "    # Define an acceptable camera trigger rate\n",
    "    camera_trigger_rate = 200  # Hz\n",
    "    sp_trigger_rate = calculate_expected_superpixel_rate(camera_trigger_rate, camera)\n",
    "    \n",
    "    # Bias scan to find threshold\n",
    "    nsb_rate = 40  # MHz\n",
    "    thresholds = np.linspace(4, 15, 10)  # Units: photoelectron\n",
    "    scan, scan_err = perform_nsb_bias_scan(camera, nsb_rate, thresholds)\n",
    "    threshold, _, _ = get_threshold_for_rate(thresholds, scan, sp_trigger_rate)\n",
    "    camera.update_trigger_threshold(threshold)\n",
    "    \n",
    "    # Illumination scan to obtain trigger efficiency\n",
    "    illumination_levels = np.linspace(0, 15, 10)\n",
    "    ratio = np.zeros(illumination_levels.size)\n",
    "    for i, level in enumerate(tqdm(illumination_levels, desc=\"Iterating through illumination levels\")):\n",
    "        ratio[i] = extract_trigger_ratio(camera, nsb_rate, level)\n",
    "    amplitude_50 = np.interp(0.5, ratio, illumination_levels)\n",
    "    \n",
    "    return amplitude_50"
   ]
  },
  {
   "cell_type": "code",
   "execution_count": 23,
   "metadata": {},
   "outputs": [
    {
     "data": {
      "application/vnd.jupyter.widget-view+json": {
       "model_id": "3d0ca8a416cd4725b55c6e770b881afd",
       "version_major": 2,
       "version_minor": 0
      },
      "text/plain": [
       "HBox(children=(FloatProgress(value=0.0, description='Extracting Trigger Efficiency for Camera', max=10.0, styl…"
      ]
     },
     "metadata": {},
     "output_type": "display_data"
    },
    {
     "data": {
      "application/vnd.jupyter.widget-view+json": {
       "model_id": "7d7a91236a324285878e0a9e8ef5106c",
       "version_major": 2,
       "version_minor": 0
      },
      "text/plain": [
       "HBox(children=(FloatProgress(value=0.0, description='Measuring bias curve', max=1000.0, style=ProgressStyle(de…"
      ]
     },
     "metadata": {},
     "output_type": "display_data"
    },
    {
     "name": "stdout",
     "output_type": "stream",
     "text": [
      "\n"
     ]
    },
    {
     "data": {
      "application/vnd.jupyter.widget-view+json": {
       "model_id": "0a0674b00af94f21b80e4749ecbbcd73",
       "version_major": 2,
       "version_minor": 0
      },
      "text/plain": [
       "HBox(children=(FloatProgress(value=0.0, description='Iterating through illumination levels', max=10.0, style=P…"
      ]
     },
     "metadata": {},
     "output_type": "display_data"
    },
    {
     "name": "stdout",
     "output_type": "stream",
     "text": [
      "\n"
     ]
    },
    {
     "data": {
      "application/vnd.jupyter.widget-view+json": {
       "model_id": "a03d00f2a12644de9ea09334728376db",
       "version_major": 2,
       "version_minor": 0
      },
      "text/plain": [
       "HBox(children=(FloatProgress(value=0.0, description='Measuring bias curve', max=1000.0, style=ProgressStyle(de…"
      ]
     },
     "metadata": {},
     "output_type": "display_data"
    },
    {
     "name": "stdout",
     "output_type": "stream",
     "text": [
      "\n"
     ]
    },
    {
     "data": {
      "application/vnd.jupyter.widget-view+json": {
       "model_id": "f27dc732a68a468d92f625418cd75091",
       "version_major": 2,
       "version_minor": 0
      },
      "text/plain": [
       "HBox(children=(FloatProgress(value=0.0, description='Iterating through illumination levels', max=10.0, style=P…"
      ]
     },
     "metadata": {},
     "output_type": "display_data"
    },
    {
     "name": "stdout",
     "output_type": "stream",
     "text": [
      "\n"
     ]
    },
    {
     "data": {
      "application/vnd.jupyter.widget-view+json": {
       "model_id": "e7757812bbcc48abb370981357ad7fd1",
       "version_major": 2,
       "version_minor": 0
      },
      "text/plain": [
       "HBox(children=(FloatProgress(value=0.0, description='Measuring bias curve', max=1000.0, style=ProgressStyle(de…"
      ]
     },
     "metadata": {},
     "output_type": "display_data"
    },
    {
     "name": "stdout",
     "output_type": "stream",
     "text": [
      "\n"
     ]
    },
    {
     "data": {
      "application/vnd.jupyter.widget-view+json": {
       "model_id": "6c216087d24a44bf8c84c3610f1773ac",
       "version_major": 2,
       "version_minor": 0
      },
      "text/plain": [
       "HBox(children=(FloatProgress(value=0.0, description='Iterating through illumination levels', max=10.0, style=P…"
      ]
     },
     "metadata": {},
     "output_type": "display_data"
    },
    {
     "name": "stdout",
     "output_type": "stream",
     "text": [
      "\n"
     ]
    },
    {
     "data": {
      "application/vnd.jupyter.widget-view+json": {
       "model_id": "8ae1914ef8e64b3ca38d4292b2d804c0",
       "version_major": 2,
       "version_minor": 0
      },
      "text/plain": [
       "HBox(children=(FloatProgress(value=0.0, description='Measuring bias curve', max=1000.0, style=ProgressStyle(de…"
      ]
     },
     "metadata": {},
     "output_type": "display_data"
    },
    {
     "name": "stdout",
     "output_type": "stream",
     "text": [
      "\n"
     ]
    },
    {
     "data": {
      "application/vnd.jupyter.widget-view+json": {
       "model_id": "6b193a1a99eb46b9a4e4ecd624c15b5b",
       "version_major": 2,
       "version_minor": 0
      },
      "text/plain": [
       "HBox(children=(FloatProgress(value=0.0, description='Iterating through illumination levels', max=10.0, style=P…"
      ]
     },
     "metadata": {},
     "output_type": "display_data"
    },
    {
     "name": "stdout",
     "output_type": "stream",
     "text": [
      "\n"
     ]
    },
    {
     "data": {
      "application/vnd.jupyter.widget-view+json": {
       "model_id": "2f2efdb3ef6b4d7299d05183c96cf59e",
       "version_major": 2,
       "version_minor": 0
      },
      "text/plain": [
       "HBox(children=(FloatProgress(value=0.0, description='Measuring bias curve', max=1000.0, style=ProgressStyle(de…"
      ]
     },
     "metadata": {},
     "output_type": "display_data"
    },
    {
     "name": "stdout",
     "output_type": "stream",
     "text": [
      "\n"
     ]
    },
    {
     "data": {
      "application/vnd.jupyter.widget-view+json": {
       "model_id": "ddd9484e79094ca2926912c56cbddfc7",
       "version_major": 2,
       "version_minor": 0
      },
      "text/plain": [
       "HBox(children=(FloatProgress(value=0.0, description='Iterating through illumination levels', max=10.0, style=P…"
      ]
     },
     "metadata": {},
     "output_type": "display_data"
    },
    {
     "name": "stdout",
     "output_type": "stream",
     "text": [
      "\n"
     ]
    },
    {
     "data": {
      "application/vnd.jupyter.widget-view+json": {
       "model_id": "accc118067124237b58e39e8338adc9b",
       "version_major": 2,
       "version_minor": 0
      },
      "text/plain": [
       "HBox(children=(FloatProgress(value=0.0, description='Measuring bias curve', max=1000.0, style=ProgressStyle(de…"
      ]
     },
     "metadata": {},
     "output_type": "display_data"
    },
    {
     "name": "stdout",
     "output_type": "stream",
     "text": [
      "\n"
     ]
    },
    {
     "data": {
      "application/vnd.jupyter.widget-view+json": {
       "model_id": "2799da93dbba42c1b4d058589c9a4a0c",
       "version_major": 2,
       "version_minor": 0
      },
      "text/plain": [
       "HBox(children=(FloatProgress(value=0.0, description='Iterating through illumination levels', max=10.0, style=P…"
      ]
     },
     "metadata": {},
     "output_type": "display_data"
    },
    {
     "name": "stdout",
     "output_type": "stream",
     "text": [
      "\n"
     ]
    },
    {
     "data": {
      "application/vnd.jupyter.widget-view+json": {
       "model_id": "5576f873d69a49e49dad34216a768144",
       "version_major": 2,
       "version_minor": 0
      },
      "text/plain": [
       "HBox(children=(FloatProgress(value=0.0, description='Measuring bias curve', max=1000.0, style=ProgressStyle(de…"
      ]
     },
     "metadata": {},
     "output_type": "display_data"
    },
    {
     "name": "stdout",
     "output_type": "stream",
     "text": [
      "\n"
     ]
    },
    {
     "data": {
      "application/vnd.jupyter.widget-view+json": {
       "model_id": "b49c1bb0761b4c05abc1751d8a1e5749",
       "version_major": 2,
       "version_minor": 0
      },
      "text/plain": [
       "HBox(children=(FloatProgress(value=0.0, description='Iterating through illumination levels', max=10.0, style=P…"
      ]
     },
     "metadata": {},
     "output_type": "display_data"
    },
    {
     "name": "stdout",
     "output_type": "stream",
     "text": [
      "\n"
     ]
    },
    {
     "data": {
      "application/vnd.jupyter.widget-view+json": {
       "model_id": "889e6d8a11f049e1a1b08da9405ff9b8",
       "version_major": 2,
       "version_minor": 0
      },
      "text/plain": [
       "HBox(children=(FloatProgress(value=0.0, description='Measuring bias curve', max=1000.0, style=ProgressStyle(de…"
      ]
     },
     "metadata": {},
     "output_type": "display_data"
    },
    {
     "name": "stdout",
     "output_type": "stream",
     "text": [
      "\n"
     ]
    },
    {
     "data": {
      "application/vnd.jupyter.widget-view+json": {
       "model_id": "f2030be61d224d6eacb5b5c6d9d24e71",
       "version_major": 2,
       "version_minor": 0
      },
      "text/plain": [
       "HBox(children=(FloatProgress(value=0.0, description='Iterating through illumination levels', max=10.0, style=P…"
      ]
     },
     "metadata": {},
     "output_type": "display_data"
    },
    {
     "name": "stdout",
     "output_type": "stream",
     "text": [
      "\n"
     ]
    },
    {
     "data": {
      "application/vnd.jupyter.widget-view+json": {
       "model_id": "f745312f3d174f979b587459db59c330",
       "version_major": 2,
       "version_minor": 0
      },
      "text/plain": [
       "HBox(children=(FloatProgress(value=0.0, description='Measuring bias curve', max=1000.0, style=ProgressStyle(de…"
      ]
     },
     "metadata": {},
     "output_type": "display_data"
    },
    {
     "name": "stdout",
     "output_type": "stream",
     "text": [
      "\n"
     ]
    },
    {
     "data": {
      "application/vnd.jupyter.widget-view+json": {
       "model_id": "f78a1bdcc5b64125947745f2efcefdeb",
       "version_major": 2,
       "version_minor": 0
      },
      "text/plain": [
       "HBox(children=(FloatProgress(value=0.0, description='Iterating through illumination levels', max=10.0, style=P…"
      ]
     },
     "metadata": {},
     "output_type": "display_data"
    },
    {
     "name": "stdout",
     "output_type": "stream",
     "text": [
      "\n"
     ]
    },
    {
     "data": {
      "application/vnd.jupyter.widget-view+json": {
       "model_id": "ccfc54fb0bc3442ab809eedbd49fc902",
       "version_major": 2,
       "version_minor": 0
      },
      "text/plain": [
       "HBox(children=(FloatProgress(value=0.0, description='Measuring bias curve', max=1000.0, style=ProgressStyle(de…"
      ]
     },
     "metadata": {},
     "output_type": "display_data"
    },
    {
     "name": "stdout",
     "output_type": "stream",
     "text": [
      "\n"
     ]
    },
    {
     "data": {
      "application/vnd.jupyter.widget-view+json": {
       "model_id": "71e5879203e345f8bcfad6fa0534cb1e",
       "version_major": 2,
       "version_minor": 0
      },
      "text/plain": [
       "HBox(children=(FloatProgress(value=0.0, description='Iterating through illumination levels', max=10.0, style=P…"
      ]
     },
     "metadata": {},
     "output_type": "display_data"
    },
    {
     "name": "stdout",
     "output_type": "stream",
     "text": [
      "\n",
      "\n"
     ]
    }
   ],
   "source": [
    "sigma_array = np.linspace(1, 10, 10)\n",
    "amplitude_array = np.zeros(sigma_array.size)\n",
    "desc = \"Extracting Trigger Efficiency for Camera\"\n",
    "for i, sigma in tqdm(enumerate(sigma_array), total=sigma_array.size, desc=desc):\n",
    "    camera = Camera(\n",
    "        mapping=SSTCameraMapping(n_pixels=4),  # One Superpixel \n",
    "        digital_trigger_length=8,  # ns\n",
    "        reference_pulse=GaussianPulse(sigma=sigma),\n",
    "    )\n",
    "    amplitude_array[i] = obtain_amplitue_at_50_percent(camera)"
   ]
  },
  {
   "cell_type": "code",
   "execution_count": 24,
   "metadata": {},
   "outputs": [
    {
     "data": {
      "text/plain": [
       "Text(0, 0.5, 'Amplitude @ 50% Trigger Efficiency (p.e.)')"
      ]
     },
     "execution_count": 24,
     "metadata": {},
     "output_type": "execute_result"
    },
    {
     "data": {
      "image/png": "[encoded data removed]",
      "text/plain": [
       "<Figure size 432x288 with 1 Axes>"
      ]
     },
     "metadata": {
      "needs_background": "light"
     },
     "output_type": "display_data"
    }
   ],
   "source": [
    "plt.plot(sigma_array, amplitude_array)\n",
    "plt.xlabel(\"Gaussian Pulse Sigma (ns)\")\n",
    "plt.ylabel(\"Amplitude @ 50% Trigger Efficiency (p.e.)\")"
   ]
  },
  {
   "cell_type": "markdown",
   "metadata": {},
   "source": [
    "If we were making a camera that can detect uniform illumination, where photons at the same time in every pixel, then the smaller the pulse width is made, the better. This limits NSB pileup, allowing the threshold to be pushed lower."
   ]
  }
 ],
 "metadata": {
  "kernelspec": {
   "display_name": "Python [conda env:cta] *",
   "language": "python",
   "name": "conda-env-cta-py"
  },
  "language_info": {
   "codemirror_mode": {
    "name": "ipython",
    "version": 3
   },
   "file_extension": ".py",
   "mimetype": "text/x-python",
   "name": "python",
   "nbconvert_exporter": "python",
   "pygments_lexer": "ipython3",
   "version": "3.7.5"
  }
 },
 "nbformat": 4,
 "nbformat_minor": 4
}
