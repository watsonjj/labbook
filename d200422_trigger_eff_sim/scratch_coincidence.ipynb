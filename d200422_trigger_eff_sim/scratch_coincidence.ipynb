{
 "cells": [
  {
   "cell_type": "code",
   "execution_count": 459,
   "metadata": {},
   "outputs": [],
   "source": [
    "import numpy as np\n",
    "from matplotlib import pyplot as plt\n",
    "import numba as nb\n",
    "%matplotlib inline"
   ]
  },
  {
   "cell_type": "code",
   "execution_count": null,
   "metadata": {},
   "outputs": [],
   "source": []
  },
  {
   "cell_type": "code",
   "execution_count": 608,
   "metadata": {},
   "outputs": [],
   "source": [
    "n_pixels = 2\n",
    "rate_pixel = 1  # Hz\n",
    "duration = 1000  # seconds\n",
    "n_samples = 100000\n",
    "sample_width = duration / n_samples\n",
    "time_axis = np.arange(0, duration, sample_width)\n",
    "n_repeats = 10000\n",
    "n_counts_per_pixel = int(duration * rate_pixel)\n",
    "\n",
    "times = np.random.uniform(0, duration, (n_pixels, n_counts_per_pixel))\n",
    "#times = np.sort(times, axis=1)"
   ]
  },
  {
   "cell_type": "code",
   "execution_count": 599,
   "metadata": {},
   "outputs": [],
   "source": [
    "within = 1\n",
    "@nb.njit()\n",
    "def get_coincidence_counts(n_counts_per_pixel):\n",
    "    n_coincidence = 0\n",
    "    for ipix in range(n_pixels):\n",
    "        for jpix in range(n_pixels):\n",
    "            if ipix == jpix:\n",
    "                continue\n",
    "            for ti in times[ipix]:\n",
    "                for tj in times[jpix]:\n",
    "                    if (tj >= ti) & (tj < (ti + within)):\n",
    "                        n_coincidence += 1\n",
    "                        \n",
    "    return n_coincidence"
   ]
  },
  {
   "cell_type": "code",
   "execution_count": 600,
   "metadata": {},
   "outputs": [
    {
     "name": "stdout",
     "output_type": "stream",
     "text": [
      "2.0630000\n"
     ]
    }
   ],
   "source": [
    "n = np.zeros(n_repeats)\n",
    "for i in range(n_repeats):\n",
    "    n[i] = get_coincidence_counts(n_counts_per_pixel)\n",
    "rate = n.mean(0) / duration\n",
    "print(f\"{rate:.07f}\")"
   ]
  },
  {
   "cell_type": "code",
   "execution_count": null,
   "metadata": {},
   "outputs": [],
   "source": []
  },
  {
   "cell_type": "code",
   "execution_count": 787,
   "metadata": {},
   "outputs": [],
   "source": [
    "n_pixels = 2\n",
    "rate_pixel = 0.1  # Hz\n",
    "duration = 1000  # seconds\n",
    "n_samples = 100\n",
    "sample_width = duration / n_samples\n",
    "time_axis = np.arange(0, duration, sample_width)\n",
    "n_repeats = 1000\n",
    "n_counts_per_pixel = int(duration * rate_pixel)"
   ]
  },
  {
   "cell_type": "code",
   "execution_count": 788,
   "metadata": {},
   "outputs": [],
   "source": [
    "@nb.njit()\n",
    "def get_coincidence_counts(n_counts_per_pixel):\n",
    "    times = np.random.uniform(0, duration, (n_pixels, n_counts_per_pixel))\n",
    "    n_coincidence = 0\n",
    "    for ipix in range(n_pixels):\n",
    "        for jpix in range(n_pixels):\n",
    "            if ipix == jpix:\n",
    "                continue\n",
    "            for ti in times[ipix]:\n",
    "                si = int(ti / sample_width)\n",
    "                for tj in times[jpix]:\n",
    "                    sj = int(tj / sample_width)\n",
    "                    if (si == sj):\n",
    "                        n_coincidence += 1\n",
    "                        \n",
    "    return n_coincidence"
   ]
  },
  {
   "cell_type": "code",
   "execution_count": null,
   "metadata": {},
   "outputs": [],
   "source": []
  },
  {
   "cell_type": "code",
   "execution_count": 683,
   "metadata": {},
   "outputs": [],
   "source": [
    "n_pixels = 2\n",
    "rate_pixel = 0.1  # Hz\n",
    "duration = 1000  # seconds\n",
    "n_samples = 1000\n",
    "sample_width = duration / n_samples\n",
    "time_axis = np.arange(0, duration, sample_width)\n",
    "n_repeats = 1000\n",
    "n_counts_per_pixel = int(duration * rate_pixel)"
   ]
  },
  {
   "cell_type": "code",
   "execution_count": 684,
   "metadata": {},
   "outputs": [],
   "source": [
    "rate_pixel_measured = np.zeros((n_repeats, n_pixels))\n",
    "rate_coincidence_measured = np.zeros(n_repeats)\n",
    "for i in range(n_repeats):\n",
    "    times = np.random.uniform(0, duration, (n_pixels, n_counts_per_pixel))\n",
    "    times_samples = (times / sample_width).astype(np.int)\n",
    "    trigger_line = np.zeros((n_pixels, time_axis.size), dtype=np.bool)\n",
    "    trigger_line[np.arange(n_pixels)[:, None], times_samples] = True\n",
    "    rate_pixel_measured[i] = trigger_line.sum(1) / duration\n",
    "    coincidence = trigger_line.all(0)\n",
    "    coincidence = trigger_line[:, coincidence].sum(0)\n",
    "    n_coincidence = coincidence.sum()\n",
    "    rate_coincidence_measured[i] = n_coincidence / duration\n",
    "    \n",
    "rate_pixel_measured_avg = rate_pixel_measured.mean(0)\n",
    "rate_pixel_measured_std = rate_pixel_measured.std(0)\n",
    "rate_coincidence_measured_avg = rate_coincidence_measured.mean()\n",
    "rate_coincidence_measured_std = rate_coincidence_measured.std()"
   ]
  },
  {
   "cell_type": "code",
   "execution_count": null,
   "metadata": {},
   "outputs": [],
   "source": []
  },
  {
   "cell_type": "code",
   "execution_count": null,
   "metadata": {},
   "outputs": [],
   "source": [
    "camera = Camera(\n",
    "    mapping=SSTCameraMapping(n_pixels=8), \n",
    "    digital_trigger_length=8,\n",
    "    continuous_readout_duration=128,\n",
    ")\n",
    "acquisition = EventAcquisition(camera=camera)\n",
    "\n",
    "n_continuous_samples = camera.continuous_readout_time_axis.size\n",
    "s0 = n_continuous_samples // 2\n",
    "n_triggers = np.zeros(n_continuous_samples)\n",
    "dt = np.zeros(n_continuous_samples)\n",
    "for s1 in range(n_continuous_samples):\n",
    "    digital_trigger = np.zeros((camera.mapping.n_superpixels, n_continuous_samples), dtype=np.bool)\n",
    "    digital_trigger[0, s0] = True\n",
    "    digital_trigger[1, s1] = True\n",
    "    extended = acquisition.trigger.extend_by_digital_trigger_length(digital_trigger)\n",
    "    n_triggers[s1] = acquisition.trigger.get_backplane_trigger(extended).size\n",
    "    dt[s1] = (s0 - s1) * camera.continuous_readout_sample_width\n",
    "    \n",
    "plt.plot(dt, n_triggers)\n",
    "plt.xlim(-10, 10)"
   ]
  }
 ],
 "metadata": {
  "kernelspec": {
   "display_name": "Python [conda env:cta] *",
   "language": "python",
   "name": "conda-env-cta-py"
  },
  "language_info": {
   "codemirror_mode": {
    "name": "ipython",
    "version": 3
   },
   "file_extension": ".py",
   "mimetype": "text/x-python",
   "name": "python",
   "nbconvert_exporter": "python",
   "pygments_lexer": "ipython3",
   "version": "3.7.5"
  }
 },
 "nbformat": 4,
 "nbformat_minor": 4
}
