{
 "cells": [
  {
   "cell_type": "markdown",
   "metadata": {},
   "source": [
    "# Investigating Trigger Efficiency with sstcam-simulation\n",
    "\n",
    "This notebook is the first that explores how to extract trigger efficiency with the sstcam-simulation package, by simulating a periodic laser illumination. This is explored in two approaches:\n",
    "1. Simulating a coninuous data taking run. This is closest to the realistic situation in the lab.\n",
    "2. Measuring the percent of triggers in segments of the waveform length. This is the approach typically used in simtelarray.\n",
    "\n",
    "The two approaches will be compared and advice is given on when to use each."
   ]
  },
  {
   "cell_type": "code",
   "execution_count": 31,
   "metadata": {},
   "outputs": [],
   "source": [
    "from sstcam_simulation import Camera, SSTCameraMapping, PhotoelectronSource, EventAcquisition\n",
    "from sstcam_simulation.camera.spe import SiPMGentileSPE, PerfectPhotosensor\n",
    "from sstcam_simulation.camera.pulse import GaussianPulse\n",
    "from sstcam_simulation.event.trigger import sum_superpixels\n",
    "import numpy as np\n",
    "from tqdm import trange, tqdm\n",
    "from matplotlib import pyplot as plt\n",
    "%matplotlib inline"
   ]
  },
  {
   "cell_type": "code",
   "execution_count": 2,
   "metadata": {},
   "outputs": [],
   "source": [
    "common_camera_config = dict(\n",
    "    mapping=SSTCameraMapping(n_pixels=4),  # One superpixel\n",
    "    coincidence_window=0,  # Could overlap and reduce triggers\n",
    "    reference_pulse=GaussianPulse(),  # Simple gaussian pulse\n",
    "    photoelectron_spectrum=SiPMGentileSPE()  # SiPM SPE\n",
    ")"
   ]
  },
  {
   "cell_type": "markdown",
   "metadata": {},
   "source": [
    "# Safe Threshold\n",
    "\n",
    "Before proceeding with the trigger efficiency investigation, it is necessary to determine the safe threshold to set the camera to for the NSB rate. This involves selecting a threshold that balances between enabling the dimmest illuminations to still be caught, but minimising the number of triggers that arise from NSB photons.\n",
    "\n",
    "A convention used in simtelarray is to select the threshold at the intersection of the two bias curves (NSB and signal, i.e. cosmic ray showers), with the NSB curve simulated with twice the operational rate. For example, the safe threshold at 20 MHz NSB is calculated by simulating the bias curve at 40 MHz NSB, and extracting the threshold corresponding to the intersection.\n",
    "\n",
    "As we are dealing with periodic laser illuminations, the signal curve is a constant line at the set flash frequency. This makes is more straight forward to extract the safe threshold.\n",
    "\n",
    "The bias curve provides a conversion between rate and threshold. There are multiple ways in which one could extract the threshold for a given rate. For this investigation I use a simple fit to the NSB bias curve with a straight line in log space. "
   ]
  },
  {
   "cell_type": "code",
   "execution_count": 3,
   "metadata": {},
   "outputs": [],
   "source": [
    "camera = Camera(\n",
    "    **common_camera_config,\n",
    "    continuous_readout_duration=5e4,  # 50 μs\n",
    ")\n",
    "illumination_rate = 300  # Hz\n",
    "nsb_rate = 30  # MHz"
   ]
  },
  {
   "cell_type": "code",
   "execution_count": 10,
   "metadata": {},
   "outputs": [],
   "source": [
    "def perform_nsb_bias_scan(camera, nsb, thresholds):\n",
    "    source = PhotoelectronSource(camera=camera)\n",
    "    acquisition = EventAcquisition(camera=camera)\n",
    "    n_repeats = 100  # Repeats for statistics\n",
    "    n_triggers = np.zeros((n_repeats, thresholds.size))\n",
    "    for iev in trange(n_repeats, desc=\"Repeating bias curve measurement\"):\n",
    "        photoelectrons = source.get_nsb(nsb)\n",
    "        readout = acquisition.get_continuous_readout(photoelectrons)\n",
    "        for i, thresh in enumerate(thresholds):\n",
    "            camera.update_trigger_threshold(thresh)\n",
    "            digital_trigger = acquisition.trigger.get_superpixel_digital_trigger_line(readout)\n",
    "            n_triggers[iev, i] = acquisition.trigger.get_n_superpixel_triggers(digital_trigger)\n",
    "    rate = n_triggers / (camera.continuous_readout_duration * 1e-9)\n",
    "    return rate.mean(0), rate.std(0)"
   ]
  },
  {
   "cell_type": "code",
   "execution_count": 11,
   "metadata": {},
   "outputs": [],
   "source": [
    "def get_threshold_for_rate(thresholds, scan, requested_rate):\n",
    "    gt0 = scan > 0\n",
    "    gradient, y_intercept = np.polyfit(thresholds[gt0], np.log10(scan[gt0]), 1)\n",
    "    required_threshold = (np.log10(requested_rate) - y_intercept) / gradient    \n",
    "    return required_threshold, gradient, y_intercept"
   ]
  },
  {
   "cell_type": "code",
   "execution_count": 12,
   "metadata": {},
   "outputs": [],
   "source": [
    "thresholds = np.linspace(3, 15, 10)  # Units: photoelectron"
   ]
  },
  {
   "cell_type": "code",
   "execution_count": 13,
   "metadata": {},
   "outputs": [
    {
     "name": "stderr",
     "output_type": "stream",
     "text": [
      "Repeating bias curve measurement: 100%|██████████| 100/100 [01:10<00:00,  1.42it/s]\n",
      "Repeating bias curve measurement: 100%|██████████| 100/100 [01:10<00:00,  1.42it/s]\n"
     ]
    }
   ],
   "source": [
    "# Perform bias scans (first one is for plotting purposes only)\n",
    "scan, scan_err = perform_nsb_bias_scan(camera, nsb_rate, thresholds)\n",
    "scan_x2, scan_err_x2 = perform_nsb_bias_scan(camera, nsb_rate*2, thresholds)"
   ]
  },
  {
   "cell_type": "code",
   "execution_count": 79,
   "metadata": {},
   "outputs": [],
   "source": [
    "safe_threshold, gradient, y_intercept = get_threshold_for_rate(thresholds, scan_x2, illumination_rate)"
   ]
  },
  {
   "cell_type": "code",
   "execution_count": 80,
   "metadata": {},
   "outputs": [
    {
     "data": {
      "text/plain": [
       "Text(0, 0.5, 'Trigger Rate (Hz)')"
      ]
     },
     "execution_count": 80,
     "metadata": {},
     "output_type": "execute_result"
    },
    {
     "data": {
      "image/png": "[encoded data removed]",
      "text/plain": [
       "<Figure size 432x288 with 1 Axes>"
      ]
     },
     "metadata": {
      "needs_background": "light"
     },
     "output_type": "display_data"
    }
   ],
   "source": [
    "# Demonstrate the fit\n",
    "plt.errorbar(thresholds, scan, yerr=scan_err, label=f\"Scan {nsb_rate} MHz\")\n",
    "plt.errorbar(thresholds, scan_x2, yerr=scan_err_x2, label=f\"Scan {nsb_rate*2} MHz\")\n",
    "plt.plot(thresholds, 10**np.polyval([gradient, y_intercept], thresholds), label=\"Fit\")\n",
    "plt.axhline(illumination_rate, color='black', ls='-')\n",
    "plt.axvline(safe_threshold, color='black', ls=':')\n",
    "\n",
    "plt.yscale('log')\n",
    "plt.legend()\n",
    "plt.xlabel(\"Threshold (p.e.)\")\n",
    "plt.ylabel(\"Trigger Rate (Hz)\")"
   ]
  },
  {
   "cell_type": "code",
   "execution_count": 71,
   "metadata": {},
   "outputs": [
    {
     "data": {
      "text/plain": [
       "10.484975144373397"
      ]
     },
     "execution_count": 71,
     "metadata": {},
     "output_type": "execute_result"
    }
   ],
   "source": [
    "safe_threshold"
   ]
  },
  {
   "cell_type": "markdown",
   "metadata": {},
   "source": [
    "# Approach 1: Continuous Data Taking\n",
    "\n",
    "When measuring the trigger efficiency in the lab, the camera is turned on for a period of time with the laser flashing periodically, and the number of triggers are counted. The typical rate of laser flashes are a couple of hundred Hz, and the runs last on the \"seconds\" timescales.\n",
    "\n",
    "Due to the fine sampling that is simulated for the continuous readout, and it being on the nanosecond scale, simulating a single readout of N seconds is not feasible, as it will max out the RAM. Instead the run is broken up into smaller segments. The illumination timestamps are calculated prior to simplify the injection into each corresponding segment."
   ]
  },
  {
   "cell_type": "code",
   "execution_count": 15,
   "metadata": {},
   "outputs": [],
   "source": [
    "# Duration of camera data taking\n",
    "duration = 1e-2  # seconds"
   ]
  },
  {
   "cell_type": "code",
   "execution_count": 16,
   "metadata": {},
   "outputs": [],
   "source": [
    "# Define the illumination source (laser)\n",
    "illumination_level = 100  # p.e.\n",
    "illumination_interval = 1 / illumination_rate  # seconds\n",
    "illumination_timestamps = np.arange(\n",
    "    illumination_interval/2, duration, illumination_interval\n",
    ")  # Start at half interval to ensure it is fully within readout"
   ]
  },
  {
   "cell_type": "code",
   "execution_count": 17,
   "metadata": {},
   "outputs": [
    {
     "name": "stdout",
     "output_type": "stream",
     "text": [
      "Number of laser flashes (at 300 Hz) in 0.01 seconds = 3\n"
     ]
    }
   ],
   "source": [
    "print(f\"Number of laser flashes (at {illumination_rate} Hz) in {duration} seconds = {illumination_timestamps.size}\")"
   ]
  },
  {
   "cell_type": "code",
   "execution_count": 20,
   "metadata": {},
   "outputs": [],
   "source": [
    "def count_triggers(duration, nsb, illumination_timestamps, illumination_level, safe_threshold):\n",
    "    timestamps = illumination_timestamps.copy() * 1e9\n",
    "    readout_duration = 5e4 # process 10 μs of readout at a time\n",
    "    n_segments = int(duration * 1e9 / readout_duration)\n",
    "    camera = Camera(\n",
    "        **common_camera_config,\n",
    "        continuous_readout_duration=readout_duration, # process 10 μs of readout at a time\n",
    "        trigger_threshold=safe_threshold,\n",
    "    )\n",
    "    source = PhotoelectronSource(camera=camera)\n",
    "    acquisition = EventAcquisition(camera=camera)\n",
    "    \n",
    "    n_triggers = 0\n",
    "    for _ in trange(n_segments, desc=f\"Camera running for {duration} seconds\"):\n",
    "        flashes_in_readout = timestamps[timestamps < readout_duration]\n",
    "        photoelectrons = source.get_nsb(nsb)\n",
    "        for t in flashes_in_readout:\n",
    "            photoelectrons += source.get_uniform_illumination(t, illumination_level)        \n",
    "        readout = acquisition.get_continuous_readout(photoelectrons)\n",
    "        digital_trigger = acquisition.trigger.get_superpixel_digital_trigger_line(readout)\n",
    "        n_triggers += acquisition.trigger.get_n_superpixel_triggers(digital_trigger)\n",
    "        \n",
    "        timestamps -= readout_duration\n",
    "        timestamps = timestamps[timestamps >= 0]\n",
    "    return n_triggers"
   ]
  },
  {
   "cell_type": "code",
   "execution_count": 21,
   "metadata": {},
   "outputs": [
    {
     "name": "stderr",
     "output_type": "stream",
     "text": [
      "Camera running for 0.01 seconds: 100%|██████████| 20000/20000 [00:40<00:00, 496.81it/s]"
     ]
    },
    {
     "name": "stdout",
     "output_type": "stream",
     "text": [
      "Number of triggers = 3\n"
     ]
    },
    {
     "name": "stderr",
     "output_type": "stream",
     "text": [
      "\n"
     ]
    }
   ],
   "source": [
    "n_triggers = count_triggers(duration, nsb_rate, illumination_timestamps, illumination_level, safe_threshold)[0]\n",
    "print(f\"Number of triggers = {n_triggers}\")"
   ]
  },
  {
   "cell_type": "markdown",
   "metadata": {},
   "source": [
    "This was only 0.01 seconds simulated, taking 30 seconds real time for just one superpixel. Unfortunately, this approach will take a very long time to gather enough statistics to form the full trigger efficiency curve. The problem with this apporach is that the majority of simulated readout is empty of signal. This is the advantage of the second approach.\n",
    "\n",
    "In special circumstances approach 1 may be required, for example, to fully check the final trigger efficiency against how the camera operates in real life. However, for optimisation investigations, I would recommend to use approach 2."
   ]
  },
  {
   "cell_type": "markdown",
   "metadata": {},
   "source": [
    "# Approach 2: Trigger Ratio\n",
    "\n",
    "By simulating readouts of typical waveform lengths, each containing a signal pulse, we can explore the trigger efficiency with less processing time. This is the approach typically used in simtelarray, as the concept of time and continuous readout is not available in the output. See the document by Tom Armstrong in this directory."
   ]
  },
  {
   "cell_type": "code",
   "execution_count": 66,
   "metadata": {},
   "outputs": [],
   "source": [
    "n_simulated = 10000"
   ]
  },
  {
   "cell_type": "code",
   "execution_count": 67,
   "metadata": {},
   "outputs": [],
   "source": [
    "def count_triggers_simulation(nsb, n_simulated, illumination_level, safe_threshold):\n",
    "    camera = Camera(\n",
    "        **common_camera_config,\n",
    "        continuous_readout_duration=128, # ns\n",
    "        trigger_threshold=safe_threshold,\n",
    "    )\n",
    "    source = PhotoelectronSource(camera=camera)\n",
    "    acquisition = EventAcquisition(camera=camera)\n",
    "    \n",
    "    signal_time = camera.continuous_readout_duration / 2\n",
    "    n_triggers = 0\n",
    "    for _ in range(n_simulated):\n",
    "        photoelectrons = source.get_nsb(nsb)\n",
    "        photoelectrons += source.get_uniform_illumination(signal_time, illumination_level)        \n",
    "        readout = acquisition.get_continuous_readout(photoelectrons)\n",
    "        digital_trigger = acquisition.trigger.get_superpixel_digital_trigger_line(readout)\n",
    "        n_triggers += acquisition.trigger.get_n_superpixel_triggers(digital_trigger)\n",
    "    return n_triggers"
   ]
  },
  {
   "cell_type": "code",
   "execution_count": 84,
   "metadata": {},
   "outputs": [
    {
     "name": "stderr",
     "output_type": "stream",
     "text": [
      "Iterating through illumination levels: 100%|██████████| 20/20 [03:09<00:00,  9.49s/it]\n"
     ]
    }
   ],
   "source": [
    "illumination_levels = np.linspace(0, 6, 20)\n",
    "n_triggers = np.zeros(illumination_levels.size)\n",
    "\n",
    "for i, level in enumerate(tqdm(illumination_levels, desc=\"Iterating through illumination levels\")):\n",
    "    n_triggers[i] = count_triggers_simulation(nsb_rate, n_simulated, level, safe_threshold)"
   ]
  },
  {
   "cell_type": "code",
   "execution_count": 85,
   "metadata": {},
   "outputs": [
    {
     "name": "stdout",
     "output_type": "stream",
     "text": [
      "Expected Trigger Efficiency = 3.243 p.e.\n",
      "Trigger Efficiency = 3.076 p.e.\n"
     ]
    }
   ],
   "source": [
    "ratio = n_triggers / n_simulated\n",
    "trigger_efficiency = np.interp(0.5, ratio, illumination_levels)\n",
    "print(f\"Expected Trigger Efficiency = {safe_threshold/4:.3f} p.e.\")\n",
    "print(f\"Trigger Efficiency = {trigger_efficiency:.3f} p.e.\")"
   ]
  },
  {
   "cell_type": "code",
   "execution_count": 86,
   "metadata": {},
   "outputs": [
    {
     "data": {
      "image/png": "[encoded data removed]",
      "text/plain": [
       "<Figure size 432x288 with 1 Axes>"
      ]
     },
     "metadata": {
      "needs_background": "light"
     },
     "output_type": "display_data"
    }
   ],
   "source": [
    "plt.plot(illumination_levels, ratio)\n",
    "plt.axhline(0.5, color='black', ls='-')\n",
    "plt.axvline(trigger_efficiency, color='black', ls=':')\n",
    "plt.xlabel(\"Illumination level (p.e.)\")\n",
    "_ = plt.ylabel(\"Trigger ratio\")"
   ]
  },
  {
   "cell_type": "markdown",
   "metadata": {},
   "source": [
    "# Next Steps\n",
    "- Explore the trigger efficiency as a function of Cherenkov shower image size. This requires creating a production chain of \"realistic\" images.\n",
    "- Explore the backplane trigger efficiency and combinatorics"
   ]
  }
 ],
 "metadata": {
  "kernelspec": {
   "display_name": "Python [conda env:cta] *",
   "language": "python",
   "name": "conda-env-cta-py"
  },
  "language_info": {
   "codemirror_mode": {
    "name": "ipython",
    "version": 3
   },
   "file_extension": ".py",
   "mimetype": "text/x-python",
   "name": "python",
   "nbconvert_exporter": "python",
   "pygments_lexer": "ipython3",
   "version": "3.7.5"
  }
 },
 "nbformat": 4,
 "nbformat_minor": 4
}
