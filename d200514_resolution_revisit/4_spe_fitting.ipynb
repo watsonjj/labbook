{
 "cells": [
  {
   "cell_type": "code",
   "execution_count": 270,
   "metadata": {},
   "outputs": [],
   "source": [
    "from CHECLabPy.core.io import HDF5Reader\n",
    "from CHECLabPy.spectrum_fitters import SiPMGentileFitter, SpectrumParameter\n",
    "import numpy as np\n",
    "from numpy.polynomial.polynomial import polyfit, polyval\n",
    "import pandas as pd\n",
    "import pickle\n",
    "from matplotlib import pyplot as plt\n",
    "%matplotlib inline"
   ]
  },
  {
   "cell_type": "code",
   "execution_count": 325,
   "metadata": {},
   "outputs": [
    {
     "name": "stdout",
     "output_type": "stream",
     "text": [
      "Opening HDF5 file: charge_lab.h5\n",
      "Reading entire DataFrame (spe) from HDF5 file into memory\n",
      "[0.62025 0.84839 1.09235]\n"
     ]
    }
   ],
   "source": [
    "with HDF5Reader(\"charge_lab.h5\") as reader:\n",
    "    spe_df_lab = reader.read('spe')"
   ]
  },
  {
   "cell_type": "code",
   "execution_count": 326,
   "metadata": {},
   "outputs": [],
   "source": [
    "def fit_spe(df):\n",
    "    illuminations = []\n",
    "    charges = []\n",
    "    for illumination, group in df.groupby(\"estimated_illumination_pe\"):\n",
    "        charge = group['charge'].values\n",
    "        illuminations.append(illumination)\n",
    "        charges.append(charge)\n",
    "\n",
    "    fitter = SiPMGentileFitter(n_illuminations=len(charges))\n",
    "    fitter.range = [-1.5, 5]\n",
    "    fitter.n_bins = 60\n",
    "    fitter.parameters.update([\n",
    "        SpectrumParameter(\"spe\", 0.2, (0, 5.0)),\n",
    "        SpectrumParameter(\"spe_sigma\", 0.1, (0.001, 1)),\n",
    "        SpectrumParameter(\"eped\", 0, (-2, 2)),\n",
    "        SpectrumParameter(\"eped_sigma\", 0.1, (0.0001, 1)),\n",
    "        SpectrumParameter(\"opct\", 0.4, (0.1, 0.6)),\n",
    "        #SpectrumParameter(\"lambda_\", 0.1, (0.01, 0.2), multi=True),\n",
    "    ])\n",
    "    fitter.apply(*charges)\n",
    "    \n",
    "    results = dict()\n",
    "    results['n_illuminations'] = fitter.n_illuminations\n",
    "    for coeff, value in fitter.fit_result_values.items():\n",
    "        results[coeff] = value\n",
    "    for coeff, value in fitter.fit_result_errors.items():\n",
    "        results[f\"{coeff}_err\"] = value\n",
    "        \n",
    "    hist_x, hist_y, hist_edges = fitter.charge_histogram\n",
    "    fit_x, fit_y = fitter.fit_result_curve\n",
    "    \n",
    "    results['hist_x'] = hist_x\n",
    "    results['hist_edges'] = hist_edges\n",
    "    results['fit_x'] = fit_x\n",
    "    for i in range(fitter.n_illuminations):\n",
    "        results[f'estimated_illumination_pe{i}'] = illuminations[i]\n",
    "        results[f'hist_y{i}'] = hist_y[i]\n",
    "        results[f'fit_y{i}'] = fit_y[i]\n",
    "        results[f'average{i}'] = charges[i].mean()\n",
    "    \n",
    "    return results"
   ]
  },
  {
   "cell_type": "code",
   "execution_count": 327,
   "metadata": {},
   "outputs": [
    {
     "name": "stdout",
     "output_type": "stream",
     "text": [
      "-5.910171608669579e-05\n",
      "1.0046814727731213\n",
      "1.0220032136564208\n",
      "1.0236985835705077\n"
     ]
    }
   ],
   "source": [
    "fit_lab = fit_spe(spe_df_lab)\n",
    "print(fit_lab['eped'])\n",
    "for i in range(fit_lab['n_illuminations']):\n",
    "    print((fit_lab[f'average{i}'] - fit_lab['eped']) / fit_lab[f'lambda_{i}'])"
   ]
  },
  {
   "cell_type": "code",
   "execution_count": 340,
   "metadata": {},
   "outputs": [],
   "source": [
    "def plot_fit(fit):\n",
    "    for i in range(fit['n_illuminations']):\n",
    "        color = plt.gca()._get_lines.get_next_color()\n",
    "        label = f\"λ = {fit[f'lambda_{i}']:.3f} ± {fit[f'lambda_{i}_err']:.3f} p.e.\"\n",
    "        plt.hist(fit['hist_x'], bins=fit['hist_edges'], weights=fit[f'hist_y{i}'], histtype='step', color=color)\n",
    "        plt.plot(fit['fit_x'], fit[f'fit_y{i}'], color=color, label=label)\n",
    "    plt.xlabel(\"Charge (p.e.)\")\n",
    "    plt.ylabel(\"N\")\n",
    "    plt.legend()\n",
    "    plt.text(0.6, 0.7, f\"OPCT = {fit['opct']:.3f} ± {fit['opct_err']:.3f}\", transform=plt.gca().transAxes)\n",
    "    print(f\"OPCT = {fit['opct']:.3f} ± {fit['opct_err']:.3f}\")\n",
    "    plt.savefig(\"spe.pdf\")\n",
    "    "
   ]
  },
  {
   "cell_type": "code",
   "execution_count": 341,
   "metadata": {},
   "outputs": [
    {
     "name": "stdout",
     "output_type": "stream",
     "text": [
      "OPCT = 0.235 ± 0.005\n"
     ]
    },
    {
     "data": {
      "image/png": "[encoded data removed]",
      "text/plain": [
       "<Figure size 432x288 with 1 Axes>"
      ]
     },
     "metadata": {
      "needs_background": "light"
     },
     "output_type": "display_data"
    }
   ],
   "source": [
    "plot_fit(fit_lab)"
   ]
  },
  {
   "cell_type": "code",
   "execution_count": 307,
   "metadata": {},
   "outputs": [],
   "source": [
    "with open('spe_lab.pkl', 'wb') as file:\n",
    "    pickle.dump(fit_lab, file, protocol=pickle.HIGHEST_PROTOCOL)"
   ]
  },
  {
   "cell_type": "code",
   "execution_count": 308,
   "metadata": {},
   "outputs": [
    {
     "data": {
      "text/plain": [
       "<Figure size 432x288 with 0 Axes>"
      ]
     },
     "metadata": {},
     "output_type": "display_data"
    }
   ],
   "source": [
    "plt.savefig(\"spe.pdf\")"
   ]
  },
  {
   "cell_type": "code",
   "execution_count": null,
   "metadata": {},
   "outputs": [],
   "source": []
  }
 ],
 "metadata": {
  "kernelspec": {
   "display_name": "Python [conda env:cta] *",
   "language": "python",
   "name": "conda-env-cta-py"
  },
  "language_info": {
   "codemirror_mode": {
    "name": "ipython",
    "version": 3
   },
   "file_extension": ".py",
   "mimetype": "text/x-python",
   "name": "python",
   "nbconvert_exporter": "python",
   "pygments_lexer": "ipython3",
   "version": "3.7.5"
  }
 },
 "nbformat": 4,
 "nbformat_minor": 4
}
