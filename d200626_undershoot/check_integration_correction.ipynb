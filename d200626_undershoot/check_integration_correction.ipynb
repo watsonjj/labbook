{
 "cells": [
  {
   "cell_type": "code",
   "execution_count": 31,
   "metadata": {},
   "outputs": [],
   "source": [
    "from ctapipe.image.extractor import integration_correction, extract_around_peak\n",
    "from sstcam_simulation import Camera, EventAcquisition\n",
    "from sstcam_simulation.event import Photoelectrons\n",
    "from sstcam_simulation.camera.noise import PerfectElectronics\n",
    "from glob import glob\n",
    "from os.path import join\n",
    "import re\n",
    "import numpy as np\n",
    "import pandas as pd\n",
    "from tqdm.auto import tqdm\n",
    "from matplotlib import pyplot as plt\n",
    "%matplotlib inline"
   ]
  },
  {
   "cell_type": "code",
   "execution_count": 32,
   "metadata": {},
   "outputs": [],
   "source": [
    "directory = \"/Users/Jason/Software/sstcam-labbook/d200626_undershoot/cameras\"\n",
    "h5_paths = glob(join(directory, \"*.h5\"))"
   ]
  },
  {
   "cell_type": "code",
   "execution_count": 134,
   "metadata": {},
   "outputs": [],
   "source": [
    "pe = Photoelectrons(time=np.array([30]), charge=np.array([1]), pixel=np.array([0]))"
   ]
  },
  {
   "cell_type": "code",
   "execution_count": 135,
   "metadata": {},
   "outputs": [
    {
     "data": {
      "application/vnd.jupyter.widget-view+json": {
       "model_id": "840ae8c1cf204569a65ea8e02369ca5d",
       "version_major": 2,
       "version_minor": 0
      },
      "text/plain": [
       "HBox(children=(FloatProgress(value=0.0, max=920.0), HTML(value='')))"
      ]
     },
     "metadata": {},
     "output_type": "display_data"
    },
    {
     "name": "stdout",
     "output_type": "stream",
     "text": [
      "\n"
     ]
    }
   ],
   "source": [
    "df = []\n",
    "\n",
    "pattern = r\".*\\/undershoot_(.+)_(.+)_lab.h5\"\n",
    "for h5_path in tqdm(h5_paths):\n",
    "    camera_path = h5_path.replace(\"_lab.h5\", \".pkl\")\n",
    "    regexr = re.search(pattern, h5_path)\n",
    "    sigma0 = float(regexr.group(1))\n",
    "    sigma1 = float(regexr.group(2))\n",
    "\n",
    "    camera = Camera.load(camera_path)\n",
    "    #camera = Camera()\n",
    "    camera.mapping.reinitialise(1)\n",
    "    super(type(camera), camera).__setattr__('readout_noise', PerfectElectronics())\n",
    "    acquisition = EventAcquisition(camera=camera)\n",
    "    readout = acquisition.get_continuous_readout(pe)\n",
    "    waveform = acquisition.get_sampled_waveform(readout)\n",
    "    \n",
    "    charge, _ = extract_around_peak(\n",
    "        waveform, 30, 8, 3, 1\n",
    "    )\n",
    "    \n",
    "    correction = integration_correction(\n",
    "        camera.reference_pulse.pulse[None, :],\n",
    "        camera.continuous_readout_sample_width,\n",
    "        camera.waveform_sample_width,\n",
    "        8, 3\n",
    "    )\n",
    "    \n",
    "    df.append(dict(\n",
    "        sigma0=sigma0,\n",
    "        sigma1=sigma1,\n",
    "        charge=charge[0],\n",
    "        correction=correction[0],\n",
    "        result=(charge * correction)[0],\n",
    "    ))\n",
    "    \n",
    "df = pd.DataFrame(df)"
   ]
  },
  {
   "cell_type": "code",
   "execution_count": 136,
   "metadata": {},
   "outputs": [
    {
     "data": {
      "text/plain": [
       "<matplotlib.colorbar.Colorbar at 0x129037d10>"
      ]
     },
     "execution_count": 136,
     "metadata": {},
     "output_type": "execute_result"
    },
    {
     "data": {
      "image/png": "[encoded data removed]",
      "text/plain": [
       "<Figure size 432x288 with 2 Axes>"
      ]
     },
     "metadata": {
      "needs_background": "light"
     },
     "output_type": "display_data"
    }
   ],
   "source": [
    "plt.tripcolor(df['sigma0'], df['sigma1'], df['result'])\n",
    "plt.colorbar()"
   ]
  },
  {
   "cell_type": "code",
   "execution_count": 120,
   "metadata": {},
   "outputs": [
    {
     "data": {
      "text/plain": [
       "array([ 0.  ,  0.12,  0.24,  0.36,  0.48,  0.61,  0.73,  0.85,  0.97,\n",
       "        1.09,  1.21,  1.33,  1.45,  1.58,  1.7 ,  1.82,  1.94,  2.06,\n",
       "        2.18,  2.3 ,  2.42,  2.55,  2.67,  2.79,  2.91,  3.03,  3.15,\n",
       "        3.27,  3.39,  3.52,  3.64,  3.76,  3.88,  4.  ,  4.12,  4.24,\n",
       "        4.36,  4.48,  4.61,  4.73,  4.85,  4.97,  5.09,  5.21,  5.33,\n",
       "        5.45,  5.58,  5.7 ,  5.82,  5.94,  6.06,  6.18,  6.3 ,  6.42,\n",
       "        6.55,  6.67,  6.79,  6.91,  7.03,  7.15,  7.27,  7.39,  7.52,\n",
       "        7.64,  7.76,  7.88,  8.  ,  8.12,  8.24,  8.36,  8.48,  8.61,\n",
       "        8.73,  8.85,  8.97,  9.09,  9.21,  9.33,  9.45,  9.58,  9.7 ,\n",
       "        9.82,  9.94, 10.06, 10.18, 10.3 , 10.42, 10.55, 10.67, 10.79,\n",
       "       10.91, 11.03, 11.15, 11.27, 11.39, 11.52, 11.64, 11.76, 11.88,\n",
       "       12.  ])"
      ]
     },
     "execution_count": 120,
     "metadata": {},
     "output_type": "execute_result"
    }
   ],
   "source": [
    "np.unique(df['sigma1'])"
   ]
  },
  {
   "cell_type": "code",
   "execution_count": 133,
   "metadata": {},
   "outputs": [
    {
     "name": "stdout",
     "output_type": "stream",
     "text": [
      "1.0000000000000002\n",
      "[1.08464787]\n",
      "1.5886009597228932 [1.7230726] [0.6294847]\n"
     ]
    }
   ],
   "source": [
    "camera_path = join(directory, \"undershoot_0.50_0.48.pkl\")\n",
    "camera = Camera.load(camera_path)\n",
    "\n",
    "camera.mapping.reinitialise(1)\n",
    "super(type(camera), camera).__setattr__('readout_noise', PerfectElectronics())\n",
    "acquisition = EventAcquisition(camera=camera)\n",
    "readout = acquisition.get_continuous_readout(pe)\n",
    "waveform = acquisition.get_sampled_waveform(readout)\n",
    "\n",
    "shift = 3\n",
    "width = 8\n",
    "\n",
    "pulse_max_sample = camera.reference_pulse.pulse.size * camera.continuous_readout_sample_width\n",
    "pulse_shape_x = np.arange(0, pulse_max_sample, camera.continuous_readout_sample_width)\n",
    "sampled_edges = np.arange(0, pulse_max_sample, camera.waveform_sample_width)\n",
    "\n",
    "sampled_pulse, _ = np.histogram(\n",
    "    pulse_shape_x, sampled_edges, weights=camera.reference_pulse.pulse, density=True\n",
    ")\n",
    "#sampled_pulse = camera.reference_pulse.pulse.reshape((128, 5)).sum(1)\n",
    "#sampled_pulse /= sampled_pulse.sum()\n",
    "n_samples = sampled_pulse.size\n",
    "start = sampled_pulse.argmax() - shift\n",
    "start = start if start >= 0 else 0\n",
    "end = start + width\n",
    "end = end if end < n_samples else n_samples\n",
    "\n",
    "integration = np.sum(sampled_pulse[start:end]) * camera.waveform_sample_width\n",
    "\n",
    "charge, _ = extract_around_peak(\n",
    "    waveform, 30, width, shift, 1\n",
    ")\n",
    "\n",
    "correction = integration_correction(\n",
    "    camera.reference_pulse.pulse[None, :],\n",
    "    camera.continuous_readout_sample_width,\n",
    "    camera.waveform_sample_width,\n",
    "    width, shift\n",
    ")\n",
    "\n",
    "print(charge * correction)\n",
    "print(integration, charge, correction)"
   ]
  },
  {
   "cell_type": "code",
   "execution_count": 128,
   "metadata": {},
   "outputs": [
    {
     "data": {
      "text/plain": [
       "[<matplotlib.lines.Line2D at 0x12964c310>]"
      ]
     },
     "execution_count": 128,
     "metadata": {},
     "output_type": "execute_result"
    },
    {
     "data": {
      "image/png": "[encoded data removed]",
      "text/plain": [
       "<Figure size 432x288 with 1 Axes>"
      ]
     },
     "metadata": {
      "needs_background": "light"
     },
     "output_type": "display_data"
    }
   ],
   "source": [
    "plt.plot(waveform[0])\n",
    "plt.plot(sampled_pulse, '--')\n",
    "plt.plot(camera.reference_pulse.time, camera.reference_pulse.pulse)\n",
    "#plt.axvline(30)"
   ]
  },
  {
   "cell_type": "code",
   "execution_count": 95,
   "metadata": {},
   "outputs": [
    {
     "data": {
      "text/plain": [
       "0.9999999999999999"
      ]
     },
     "execution_count": 95,
     "metadata": {},
     "output_type": "execute_result"
    }
   ],
   "source": [
    "np.sum(sampled_pulse) * camera.waveform_sample_width"
   ]
  },
  {
   "cell_type": "code",
   "execution_count": 96,
   "metadata": {},
   "outputs": [
    {
     "data": {
      "text/plain": [
       "0.9943497240842896"
      ]
     },
     "execution_count": 96,
     "metadata": {},
     "output_type": "execute_result"
    }
   ],
   "source": [
    "np.sum(waveform[0]) * camera.waveform_sample_width"
   ]
  },
  {
   "cell_type": "code",
   "execution_count": 85,
   "metadata": {},
   "outputs": [
    {
     "name": "stdout",
     "output_type": "stream",
     "text": [
      "1.4267862883296676\n",
      "1.4267862883296676\n"
     ]
    }
   ],
   "source": [
    "print(np.sum(waveform[0, 30-3:30-3+8]))\n",
    "print(np.sum(waveform[0, waveform.argmax()-3:waveform.argmax()-3+8]))"
   ]
  },
  {
   "cell_type": "code",
   "execution_count": 86,
   "metadata": {},
   "outputs": [
    {
     "data": {
      "text/plain": [
       "30"
      ]
     },
     "execution_count": 86,
     "metadata": {},
     "output_type": "execute_result"
    }
   ],
   "source": [
    "waveform.argmax()"
   ]
  },
  {
   "cell_type": "code",
   "execution_count": 88,
   "metadata": {},
   "outputs": [
    {
     "data": {
      "text/plain": [
       "128"
      ]
     },
     "execution_count": 88,
     "metadata": {},
     "output_type": "execute_result"
    }
   ],
   "source": [
    "waveform.size"
   ]
  },
  {
   "cell_type": "code",
   "execution_count": null,
   "metadata": {},
   "outputs": [],
   "source": []
  }
 ],
 "metadata": {
  "kernelspec": {
   "display_name": "Python [conda env:cta] *",
   "language": "python",
   "name": "conda-env-cta-py"
  },
  "language_info": {
   "codemirror_mode": {
    "name": "ipython",
    "version": 3
   },
   "file_extension": ".py",
   "mimetype": "text/x-python",
   "name": "python",
   "nbconvert_exporter": "python",
   "pygments_lexer": "ipython3",
   "version": "3.7.5"
  }
 },
 "nbformat": 4,
 "nbformat_minor": 4
}
