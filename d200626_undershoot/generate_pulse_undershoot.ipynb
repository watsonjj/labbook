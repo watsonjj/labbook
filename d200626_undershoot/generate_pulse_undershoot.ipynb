{
 "cells": [
  {
   "cell_type": "code",
   "execution_count": 1,
   "metadata": {},
   "outputs": [],
   "source": [
    "import numpy as np\n",
    "from matplotlib import pyplot as plt\n",
    "from numba import njit, vectorize, float64, float32\n",
    "from ipywidgets import interact, fixed\n",
    "from scipy.signal import find_peaks, peak_widths\n",
    "from sstcam_simulation.camera.spe import SiPMGentileSPE\n",
    "from sstcam_simulation.camera.pulse import GenericPulse\n",
    "from sstcam_simulation.camera.noise import GaussianNoise\n",
    "from sstcam_simulation import Camera\n",
    "from tqdm.auto import tqdm\n",
    "%matplotlib inline"
   ]
  },
  {
   "cell_type": "code",
   "execution_count": 2,
   "metadata": {},
   "outputs": [],
   "source": [
    "p1 = np.array([0.4259894875,-0.1249762550, 0.03984243700, -0.006298287635,   0.001511162253])\n",
    "q1 = np.array([1.0         ,-0.3388260629, 0.09594393323, -0.01608042283,    0.003778942063])\n",
    "p2 = np.array([0.1788541609, 0.1173957403, 0.01488850518, -0.001394989411,   0.0001283617211])\n",
    "q2 = np.array([1.0         , 0.7428795082, 0.3153932961,   0.06694219548,    0.008790609714])\n",
    "p3 = np.array([0.1788544503, 0.09359161662,0.006325387654, 0.00006611667319,-0.000002031049101])\n",
    "q3 = np.array([1.0         , 0.6097809921, 0.2560616665,   0.04746722384,    0.006957301675])\n",
    "p4 = np.array([0.9874054407, 118.6723273,  849.2794360,   -743.7792444,      427.0262186])\n",
    "q4 = np.array([1.0         , 106.8615961,  337.6496214,    2016.712389,      1597.063511])\n",
    "p5 = np.array([1.003675074,  167.5702434,  4789.711289,    21217.86767,     -22324.94910])\n",
    "q5 = np.array([1.0         , 156.9424537,  3745.310488,    9834.698876,      66924.28357])\n",
    "p6 = np.array([1.000827619,  664.9143136,  62972.92665,    475554.6998,     -5743609.109])\n",
    "q6 = np.array([1.0         , 651.4101098,  56974.73333,    165917.4725,     -2815759.939])\n",
    "a1 = np.array([0.04166666667,-0.01996527778, 0.02709538966])\n",
    "a2 = np.array([-1.845568670,-4.284640743])\n",
    "\n",
    "@vectorize([float64(float64, float64, float64)], fastmath=True)\n",
    "def nb_landau_pdf(x, xi=1, x0=0):\n",
    "    if (xi <= 0):\n",
    "        return 0\n",
    "    v = (x - x0)/xi\n",
    "    if (v < -5.5):\n",
    "        u   = np.exp(v+1.0)\n",
    "        if (u < 1e-10): \n",
    "            return 0.0\n",
    "        ue  = np.exp(-1/u)\n",
    "        us  = np.sqrt(u)\n",
    "        denlan = 0.3989422803*(ue/us)*(1+(a1[0]+(a1[1]+a1[2]*u)*u)*u)\n",
    "    elif (v < -1):\n",
    "        u   = np.exp(-v-1);\n",
    "        denlan = np.exp(-u)*np.sqrt(u)*(p1[0]+(p1[1]+(p1[2]+(p1[3]+p1[4]*v)*v)*v)*v)/(q1[0]+(q1[1]+(q1[2]+(q1[3]+q1[4]*v)*v)*v)*v)\n",
    "    elif (v < 1):\n",
    "        denlan = (p2[0]+(p2[1]+(p2[2]+(p2[3]+p2[4]*v)*v)*v)*v)/(q2[0]+(q2[1]+(q2[2]+(q2[3]+q2[4]*v)*v)*v)*v)\n",
    "    elif (v < 5):\n",
    "        denlan = (p3[0]+(p3[1]+(p3[2]+(p3[3]+p3[4]*v)*v)*v)*v)/(q3[0]+(q3[1]+(q3[2]+(q3[3]+q3[4]*v)*v)*v)*v)\n",
    "    elif (v < 12):\n",
    "        u   = 1/v\n",
    "        denlan = u*u*(p4[0]+(p4[1]+(p4[2]+(p4[3]+p4[4]*u)*u)*u)*u)/(q4[0]+(q4[1]+(q4[2]+(q4[3]+q4[4]*u)*u)*u)*u)\n",
    "    elif (v < 50):\n",
    "        u = 1/v\n",
    "        denlan = u*u*(p5[0]+(p5[1]+(p5[2]+(p5[3]+p5[4]*u)*u)*u)*u)/(q5[0]+(q5[1]+(q5[2]+(q5[3]+q5[4]*u)*u)*u)*u)\n",
    "    elif (v < 300):\n",
    "        u   = 1/v\n",
    "        denlan = u*u*(p6[0]+(p6[1]+(p6[2]+(p6[3]+p6[4]*u)*u)*u)*u)/(q6[0]+(q6[1]+(q6[2]+(q6[3]+q6[4]*u)*u)*u)*u)\n",
    "    else:\n",
    "        u   = 1/(v-v*np.log(v)/(v+1))\n",
    "        denlan = u*u*(1+(a2[0]+a2[1]*u)*u)\n",
    "    return denlan/xi;\n",
    "\n",
    "@vectorize([float64(float64, float64, float64)], fastmath=True)\n",
    "def nb_landau(x, mpv, sigma):\n",
    "    if (sigma <= 0):\n",
    "        return 0\n",
    "    return nb_landau_pdf( (x-mpv)/sigma, 1, 0)"
   ]
  },
  {
   "cell_type": "code",
   "execution_count": 3,
   "metadata": {},
   "outputs": [],
   "source": [
    "x = np.linspace(0, 128, 1000)\n",
    "sample_width = x[1] - x[0]"
   ]
  },
  {
   "cell_type": "code",
   "execution_count": 4,
   "metadata": {},
   "outputs": [
    {
     "data": {
      "application/vnd.jupyter.widget-view+json": {
       "model_id": "88de42f24d5b44548d69f1e8b04e5206",
       "version_major": 2,
       "version_minor": 0
      },
      "text/plain": [
       "interactive(children=(FloatSlider(value=2.0, description='scale0'), IntSlider(value=20, description='mpv0', ma…"
      ]
     },
     "metadata": {},
     "output_type": "display_data"
    }
   ],
   "source": [
    "mpv = (20, 120, 1)\n",
    "sigma = (0, 100, 0.1)\n",
    "\n",
    "@interact(scale0=(0, 100, 0.1), mpv0=mpv, sigma0=sigma, scale1=(-100, 0, 0.1), sigma1=sigma, mpv1=mpv)\n",
    "def plot_pulse(x=fixed(x), scale0=2, mpv0=2, sigma0=2.83, scale1=2, sigma1=2, mpv1=2):\n",
    "    y0 = nb_landau(x, mpv0, sigma0)\n",
    "    y0 /= y0.sum() * (x[1] - x[0])\n",
    "    y1 = nb_landau(x, mpv1, sigma1)\n",
    "    y1 /= y1.sum() * (x[1] - x[0])\n",
    "    y = scale0 * y0 + scale1 * y1\n",
    "    plt.plot(x, y)"
   ]
  },
  {
   "cell_type": "code",
   "execution_count": 5,
   "metadata": {},
   "outputs": [],
   "source": [
    "# Define camera (CHEC-S)\n",
    "n_samples = 128\n",
    "camera_kwargs = dict(\n",
    "    photoelectron_spectrum=SiPMGentileSPE(x_max=20, spe_sigma=0.12, opct=0.4),\n",
    "    n_waveform_samples=n_samples,\n",
    "    continuous_readout_duration=n_samples,\n",
    "    readout_noise=GaussianNoise(stddev=0.15),\n",
    ")"
   ]
  },
  {
   "cell_type": "code",
   "execution_count": 10,
   "metadata": {},
   "outputs": [
    {
     "data": {
      "application/vnd.jupyter.widget-view+json": {
       "model_id": "2f0ae30c5f464dd1883d8fb17f68bcca",
       "version_major": 2,
       "version_minor": 0
      },
      "text/plain": [
       "HBox(children=(FloatProgress(value=0.0, max=15.0), HTML(value='')))"
      ]
     },
     "metadata": {},
     "output_type": "display_data"
    },
    {
     "data": {
      "application/vnd.jupyter.widget-view+json": {
       "model_id": "30b179df78564981b20ceaa5649039f5",
       "version_major": 2,
       "version_minor": 0
      },
      "text/plain": [
       "HBox(children=(FloatProgress(value=0.0, max=25.0), HTML(value='')))"
      ]
     },
     "metadata": {},
     "output_type": "display_data"
    },
    {
     "name": "stdout",
     "output_type": "stream",
     "text": [
      "\n"
     ]
    },
    {
     "data": {
      "application/vnd.jupyter.widget-view+json": {
       "model_id": "eda63c1012a34421bcdb7b7f5e706570",
       "version_major": 2,
       "version_minor": 0
      },
      "text/plain": [
       "HBox(children=(FloatProgress(value=0.0, max=25.0), HTML(value='')))"
      ]
     },
     "metadata": {},
     "output_type": "display_data"
    },
    {
     "name": "stderr",
     "output_type": "stream",
     "text": [
      "/Users/jason/opt/anaconda3/envs/cta/lib/python3.7/site-packages/ipykernel_launcher.py:36: RuntimeWarning: divide by zero encountered in double_scalars\n"
     ]
    },
    {
     "name": "stdout",
     "output_type": "stream",
     "text": [
      "\n"
     ]
    },
    {
     "data": {
      "application/vnd.jupyter.widget-view+json": {
       "model_id": "26a6c5dfa1234833aed2a1fb1f76c985",
       "version_major": 2,
       "version_minor": 0
      },
      "text/plain": [
       "HBox(children=(FloatProgress(value=0.0, max=25.0), HTML(value='')))"
      ]
     },
     "metadata": {},
     "output_type": "display_data"
    },
    {
     "name": "stdout",
     "output_type": "stream",
     "text": [
      "\n"
     ]
    },
    {
     "data": {
      "application/vnd.jupyter.widget-view+json": {
       "model_id": "4e0f3cf1876749b1b2e8274619513db4",
       "version_major": 2,
       "version_minor": 0
      },
      "text/plain": [
       "HBox(children=(FloatProgress(value=0.0, max=25.0), HTML(value='')))"
      ]
     },
     "metadata": {},
     "output_type": "display_data"
    },
    {
     "name": "stdout",
     "output_type": "stream",
     "text": [
      "\n"
     ]
    },
    {
     "data": {
      "application/vnd.jupyter.widget-view+json": {
       "model_id": "955f2184d68d42f284d06258d892fa39",
       "version_major": 2,
       "version_minor": 0
      },
      "text/plain": [
       "HBox(children=(FloatProgress(value=0.0, max=25.0), HTML(value='')))"
      ]
     },
     "metadata": {},
     "output_type": "display_data"
    },
    {
     "name": "stdout",
     "output_type": "stream",
     "text": [
      "\n"
     ]
    },
    {
     "data": {
      "application/vnd.jupyter.widget-view+json": {
       "model_id": "cc39e53b05cd4c88858ffbe91eba51f2",
       "version_major": 2,
       "version_minor": 0
      },
      "text/plain": [
       "HBox(children=(FloatProgress(value=0.0, max=25.0), HTML(value='')))"
      ]
     },
     "metadata": {},
     "output_type": "display_data"
    },
    {
     "name": "stdout",
     "output_type": "stream",
     "text": [
      "\n"
     ]
    },
    {
     "data": {
      "application/vnd.jupyter.widget-view+json": {
       "model_id": "1f16a69ca1ca4001a14b7d6441e7da49",
       "version_major": 2,
       "version_minor": 0
      },
      "text/plain": [
       "HBox(children=(FloatProgress(value=0.0, max=25.0), HTML(value='')))"
      ]
     },
     "metadata": {},
     "output_type": "display_data"
    },
    {
     "name": "stdout",
     "output_type": "stream",
     "text": [
      "\n"
     ]
    },
    {
     "data": {
      "application/vnd.jupyter.widget-view+json": {
       "model_id": "dc0871b39dfd4e698ffe7fae1537f553",
       "version_major": 2,
       "version_minor": 0
      },
      "text/plain": [
       "HBox(children=(FloatProgress(value=0.0, max=25.0), HTML(value='')))"
      ]
     },
     "metadata": {},
     "output_type": "display_data"
    },
    {
     "name": "stdout",
     "output_type": "stream",
     "text": [
      "\n"
     ]
    },
    {
     "data": {
      "application/vnd.jupyter.widget-view+json": {
       "model_id": "a31b5f23989b4ba3b35a037426d7e10f",
       "version_major": 2,
       "version_minor": 0
      },
      "text/plain": [
       "HBox(children=(FloatProgress(value=0.0, max=25.0), HTML(value='')))"
      ]
     },
     "metadata": {},
     "output_type": "display_data"
    },
    {
     "name": "stdout",
     "output_type": "stream",
     "text": [
      "\n"
     ]
    },
    {
     "data": {
      "application/vnd.jupyter.widget-view+json": {
       "model_id": "69f6ed7e8537452ba9b36a692afe3bbb",
       "version_major": 2,
       "version_minor": 0
      },
      "text/plain": [
       "HBox(children=(FloatProgress(value=0.0, max=25.0), HTML(value='')))"
      ]
     },
     "metadata": {},
     "output_type": "display_data"
    },
    {
     "name": "stdout",
     "output_type": "stream",
     "text": [
      "\n"
     ]
    },
    {
     "data": {
      "application/vnd.jupyter.widget-view+json": {
       "model_id": "465af9ec60994fc78b2952e814a8229d",
       "version_major": 2,
       "version_minor": 0
      },
      "text/plain": [
       "HBox(children=(FloatProgress(value=0.0, max=25.0), HTML(value='')))"
      ]
     },
     "metadata": {},
     "output_type": "display_data"
    },
    {
     "name": "stdout",
     "output_type": "stream",
     "text": [
      "\n"
     ]
    },
    {
     "data": {
      "application/vnd.jupyter.widget-view+json": {
       "model_id": "febe9f472b504794b81ff00d606c281f",
       "version_major": 2,
       "version_minor": 0
      },
      "text/plain": [
       "HBox(children=(FloatProgress(value=0.0, max=25.0), HTML(value='')))"
      ]
     },
     "metadata": {},
     "output_type": "display_data"
    },
    {
     "name": "stdout",
     "output_type": "stream",
     "text": [
      "\n"
     ]
    },
    {
     "data": {
      "application/vnd.jupyter.widget-view+json": {
       "model_id": "d05fb50dc4484af6b7578127ec998375",
       "version_major": 2,
       "version_minor": 0
      },
      "text/plain": [
       "HBox(children=(FloatProgress(value=0.0, max=25.0), HTML(value='')))"
      ]
     },
     "metadata": {},
     "output_type": "display_data"
    },
    {
     "name": "stdout",
     "output_type": "stream",
     "text": [
      "\n"
     ]
    },
    {
     "data": {
      "application/vnd.jupyter.widget-view+json": {
       "model_id": "9229dd99ce29452c9a37edd0cb063882",
       "version_major": 2,
       "version_minor": 0
      },
      "text/plain": [
       "HBox(children=(FloatProgress(value=0.0, max=25.0), HTML(value='')))"
      ]
     },
     "metadata": {},
     "output_type": "display_data"
    },
    {
     "name": "stdout",
     "output_type": "stream",
     "text": [
      "\n"
     ]
    },
    {
     "data": {
      "application/vnd.jupyter.widget-view+json": {
       "model_id": "311d895a8d694fd985ed0b5451bb6bff",
       "version_major": 2,
       "version_minor": 0
      },
      "text/plain": [
       "HBox(children=(FloatProgress(value=0.0, max=25.0), HTML(value='')))"
      ]
     },
     "metadata": {},
     "output_type": "display_data"
    },
    {
     "name": "stdout",
     "output_type": "stream",
     "text": [
      "\n",
      "\n"
     ]
    },
    {
     "data": {
      "application/vnd.jupyter.widget-view+json": {
       "model_id": "0e81a87697ea47d197876d773b56f282",
       "version_major": 2,
       "version_minor": 0
      },
      "text/plain": [
       "HBox(children=(FloatProgress(value=0.0, max=15.0), HTML(value='')))"
      ]
     },
     "metadata": {},
     "output_type": "display_data"
    },
    {
     "data": {
      "application/vnd.jupyter.widget-view+json": {
       "model_id": "bda3ec95e4424e2ea99cbff4b220ffde",
       "version_major": 2,
       "version_minor": 0
      },
      "text/plain": [
       "HBox(children=(FloatProgress(value=0.0, max=25.0), HTML(value='')))"
      ]
     },
     "metadata": {},
     "output_type": "display_data"
    },
    {
     "name": "stdout",
     "output_type": "stream",
     "text": [
      "\n"
     ]
    },
    {
     "data": {
      "application/vnd.jupyter.widget-view+json": {
       "model_id": "497b58d7e1b648458eae7b2263efb4bd",
       "version_major": 2,
       "version_minor": 0
      },
      "text/plain": [
       "HBox(children=(FloatProgress(value=0.0, max=25.0), HTML(value='')))"
      ]
     },
     "metadata": {},
     "output_type": "display_data"
    },
    {
     "name": "stdout",
     "output_type": "stream",
     "text": [
      "\n"
     ]
    },
    {
     "data": {
      "application/vnd.jupyter.widget-view+json": {
       "model_id": "1b2b47110f804b8f86a5b67c11a9bd19",
       "version_major": 2,
       "version_minor": 0
      },
      "text/plain": [
       "HBox(children=(FloatProgress(value=0.0, max=25.0), HTML(value='')))"
      ]
     },
     "metadata": {},
     "output_type": "display_data"
    },
    {
     "name": "stdout",
     "output_type": "stream",
     "text": [
      "\n"
     ]
    },
    {
     "data": {
      "application/vnd.jupyter.widget-view+json": {
       "model_id": "756d37b3beef4bf9bfc8e8f14784bbe2",
       "version_major": 2,
       "version_minor": 0
      },
      "text/plain": [
       "HBox(children=(FloatProgress(value=0.0, max=25.0), HTML(value='')))"
      ]
     },
     "metadata": {},
     "output_type": "display_data"
    },
    {
     "name": "stdout",
     "output_type": "stream",
     "text": [
      "\n"
     ]
    },
    {
     "data": {
      "application/vnd.jupyter.widget-view+json": {
       "model_id": "02be8d894ad24ff68947abea180d38b7",
       "version_major": 2,
       "version_minor": 0
      },
      "text/plain": [
       "HBox(children=(FloatProgress(value=0.0, max=25.0), HTML(value='')))"
      ]
     },
     "metadata": {},
     "output_type": "display_data"
    },
    {
     "name": "stdout",
     "output_type": "stream",
     "text": [
      "\n"
     ]
    },
    {
     "data": {
      "application/vnd.jupyter.widget-view+json": {
       "model_id": "69ac1d6bb7f2463e8660d0233b5b66e2",
       "version_major": 2,
       "version_minor": 0
      },
      "text/plain": [
       "HBox(children=(FloatProgress(value=0.0, max=25.0), HTML(value='')))"
      ]
     },
     "metadata": {},
     "output_type": "display_data"
    },
    {
     "name": "stdout",
     "output_type": "stream",
     "text": [
      "\n"
     ]
    },
    {
     "data": {
      "application/vnd.jupyter.widget-view+json": {
       "model_id": "7a22430282cf4c33aacc1c9a47fa13ca",
       "version_major": 2,
       "version_minor": 0
      },
      "text/plain": [
       "HBox(children=(FloatProgress(value=0.0, max=25.0), HTML(value='')))"
      ]
     },
     "metadata": {},
     "output_type": "display_data"
    },
    {
     "name": "stdout",
     "output_type": "stream",
     "text": [
      "\n"
     ]
    },
    {
     "data": {
      "application/vnd.jupyter.widget-view+json": {
       "model_id": "7926686677284a0893a2d55a8ef34794",
       "version_major": 2,
       "version_minor": 0
      },
      "text/plain": [
       "HBox(children=(FloatProgress(value=0.0, max=25.0), HTML(value='')))"
      ]
     },
     "metadata": {},
     "output_type": "display_data"
    },
    {
     "name": "stdout",
     "output_type": "stream",
     "text": [
      "\n"
     ]
    },
    {
     "data": {
      "application/vnd.jupyter.widget-view+json": {
       "model_id": "1d270d45172b44d1afb0fce99d1886f0",
       "version_major": 2,
       "version_minor": 0
      },
      "text/plain": [
       "HBox(children=(FloatProgress(value=0.0, max=25.0), HTML(value='')))"
      ]
     },
     "metadata": {},
     "output_type": "display_data"
    },
    {
     "name": "stdout",
     "output_type": "stream",
     "text": [
      "\n"
     ]
    },
    {
     "data": {
      "application/vnd.jupyter.widget-view+json": {
       "model_id": "939233b9a19047fb8364c6b5281905cb",
       "version_major": 2,
       "version_minor": 0
      },
      "text/plain": [
       "HBox(children=(FloatProgress(value=0.0, max=25.0), HTML(value='')))"
      ]
     },
     "metadata": {},
     "output_type": "display_data"
    },
    {
     "name": "stdout",
     "output_type": "stream",
     "text": [
      "\n"
     ]
    },
    {
     "data": {
      "application/vnd.jupyter.widget-view+json": {
       "model_id": "46a68d5d7da743ff969233aee960a9b2",
       "version_major": 2,
       "version_minor": 0
      },
      "text/plain": [
       "HBox(children=(FloatProgress(value=0.0, max=25.0), HTML(value='')))"
      ]
     },
     "metadata": {},
     "output_type": "display_data"
    },
    {
     "name": "stdout",
     "output_type": "stream",
     "text": [
      "\n"
     ]
    },
    {
     "data": {
      "application/vnd.jupyter.widget-view+json": {
       "model_id": "b6996128d11946b7a6355a8731b4ed4f",
       "version_major": 2,
       "version_minor": 0
      },
      "text/plain": [
       "HBox(children=(FloatProgress(value=0.0, max=25.0), HTML(value='')))"
      ]
     },
     "metadata": {},
     "output_type": "display_data"
    },
    {
     "name": "stdout",
     "output_type": "stream",
     "text": [
      "\n"
     ]
    },
    {
     "data": {
      "application/vnd.jupyter.widget-view+json": {
       "model_id": "b0ed5cc78f244147bdd282b6d1e5a7d0",
       "version_major": 2,
       "version_minor": 0
      },
      "text/plain": [
       "HBox(children=(FloatProgress(value=0.0, max=25.0), HTML(value='')))"
      ]
     },
     "metadata": {},
     "output_type": "display_data"
    },
    {
     "name": "stdout",
     "output_type": "stream",
     "text": [
      "\n"
     ]
    },
    {
     "data": {
      "application/vnd.jupyter.widget-view+json": {
       "model_id": "4dffb807759e429791c33b3929a72d38",
       "version_major": 2,
       "version_minor": 0
      },
      "text/plain": [
       "HBox(children=(FloatProgress(value=0.0, max=25.0), HTML(value='')))"
      ]
     },
     "metadata": {},
     "output_type": "display_data"
    },
    {
     "name": "stdout",
     "output_type": "stream",
     "text": [
      "\n"
     ]
    },
    {
     "data": {
      "application/vnd.jupyter.widget-view+json": {
       "model_id": "d39278a3284247e1b212682b266ba8c0",
       "version_major": 2,
       "version_minor": 0
      },
      "text/plain": [
       "HBox(children=(FloatProgress(value=0.0, max=25.0), HTML(value='')))"
      ]
     },
     "metadata": {},
     "output_type": "display_data"
    },
    {
     "name": "stdout",
     "output_type": "stream",
     "text": [
      "\n",
      "\n"
     ]
    }
   ],
   "source": [
    "mpv0 = 35\n",
    "\n",
    "@njit\n",
    "def pulse_(scale, sigma0, sigma1):\n",
    "    for mpv1 in np.arange(mpv0+5, 120, 0.1):\n",
    "        y0 = nb_landau(x, mpv0, sigma0)\n",
    "        y0 /= y0.sum() * (x[1] - x[0])\n",
    "        y0 *= scale\n",
    "\n",
    "        if sigma1 > 0:\n",
    "            y1 = nb_landau(x, mpv1, sigma1)\n",
    "            y1 /= y1.sum() * (x[1] - x[0])\n",
    "            y1 *= -1\n",
    "        else:\n",
    "            y1 = np.zeros(y0.size)\n",
    "\n",
    "        y = y0 + y1\n",
    "        y /= np.abs(y.sum() * (x[1] - x[0]))\n",
    "\n",
    "        start_positive = (y[:y.argmax()] >= -1e-10).all()\n",
    "\n",
    "        if start_positive:\n",
    "            return y\n",
    "\n",
    "sigma0_values = np.linspace(0.5, 20, 15)\n",
    "sigma1_values = np.linspace(0, 10, 25)\n",
    "\n",
    "for ratio in [0.6, 0.8]:\n",
    "    for sigma0 in tqdm(sigma0_values):\n",
    "        for sigma1 in tqdm(sigma1_values):\n",
    "            for scale in np.arange(0.1, 100, 0.01):  # Find scale required for ratio\n",
    "                y = pulse_(scale, sigma0, sigma1)\n",
    "\n",
    "                area_neg = -1 * y[y<0].sum() * sample_width\n",
    "                area_pos = y[y>0].sum() * sample_width\n",
    "                if np.sqrt((area_neg/area_pos - ratio)**2) < 0.05:\n",
    "                    break\n",
    "\n",
    "            y = pulse_(scale, sigma0, sigma1)\n",
    "            #plt.plot(x, y)\n",
    "            pulse = GenericPulse(x, y)\n",
    "            camera = Camera(**camera_kwargs, reference_pulse=pulse)\n",
    "            camera.save(f\"cameras/undershoot_{ratio:.2f}_{sigma0:.2f}_{sigma1:.2f}.pkl\")"
   ]
  },
  {
   "cell_type": "code",
   "execution_count": null,
   "metadata": {},
   "outputs": [],
   "source": []
  }
 ],
 "metadata": {
  "kernelspec": {
   "display_name": "Python [conda env:cta] *",
   "language": "python",
   "name": "conda-env-cta-py"
  },
  "language_info": {
   "codemirror_mode": {
    "name": "ipython",
    "version": 3
   },
   "file_extension": ".py",
   "mimetype": "text/x-python",
   "name": "python",
   "nbconvert_exporter": "python",
   "pygments_lexer": "ipython3",
   "version": "3.7.5"
  }
 },
 "nbformat": 4,
 "nbformat_minor": 4
}
