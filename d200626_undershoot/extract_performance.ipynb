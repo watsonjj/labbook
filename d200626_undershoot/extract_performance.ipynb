{
 "cells": [
  {
   "cell_type": "code",
   "execution_count": 29,
   "metadata": {},
   "outputs": [],
   "source": [
    "import numpy as np\n",
    "import pandas as pd\n",
    "import tables\n",
    "from glob import glob\n",
    "from os.path import join, exists\n",
    "import matplotlib as mpl\n",
    "from matplotlib import pyplot as plt\n",
    "import re\n",
    "from sstcam_simulation import Camera\n",
    "from scipy.signal import find_peaks, peak_widths\n",
    "from sstcam_simulation.performance.plot_lab_performance import extract_charge_resolution_mc, extract_trigger_efficiency\n",
    "from tqdm.auto import tqdm\n",
    "from CHECLabPy.plotting.resolutions import ChargeResolutionPlotter\n",
    "from numpy.polynomial.polynomial import polyfit, polyval\n",
    "from scipy.interpolate import griddata\n",
    "%matplotlib inline"
   ]
  },
  {
   "cell_type": "code",
   "execution_count": 30,
   "metadata": {},
   "outputs": [],
   "source": [
    "directory = \"/Users/Jason/Software/sstcam-labbook/d200626_undershoot/cameras\"\n",
    "h5_paths = glob(join(directory, \"*.h5\"))"
   ]
  },
  {
   "cell_type": "code",
   "execution_count": 31,
   "metadata": {},
   "outputs": [],
   "source": [
    "df_files = []\n",
    "pattern = r\".*\\/undershoot_(.+)_(.+)_(.+)_lab.h5\"\n",
    "for h5_path in h5_paths:\n",
    "    camera_path = h5_path.replace(\"_lab.h5\", \".pkl\")\n",
    "    regexr = re.search(pattern, h5_path)\n",
    "    ratio = float(regexr.group(1))\n",
    "    sigma0 = float(regexr.group(2))\n",
    "    sigma1 = float(regexr.group(3))\n",
    "    \n",
    "    assert exists(h5_path)\n",
    "    assert exists(camera_path)\n",
    "    \n",
    "    camera = Camera.load(camera_path)\n",
    "    x = camera.reference_pulse.time\n",
    "    y = camera.reference_pulse.pulse\n",
    "    sample_width = x[1] - x[0]\n",
    "    \n",
    "    peaks, _ = find_peaks(y)\n",
    "    widths = peak_widths(y, peaks)\n",
    "    pulse_width = widths[0][0] * sample_width\n",
    "    \n",
    "    if sigma1 == 0:\n",
    "        undershoot_width = 0\n",
    "    else:\n",
    "        peaks, _ = find_peaks(-y)\n",
    "        widths = peak_widths(-y, peaks)\n",
    "        undershoot_width = widths[0][-1] * sample_width\n",
    "        \n",
    "    area_neg = -1 * y[y<0].sum() * sample_width\n",
    "    area_pos = y[y>0].sum() * sample_width\n",
    "        \n",
    "    df_files.append(dict(\n",
    "        h5_path=h5_path,\n",
    "        camera_path=camera_path,\n",
    "        ratio=ratio,\n",
    "        sigma0=sigma0,\n",
    "        sigma1=sigma1,\n",
    "        pulse_width=pulse_width,\n",
    "        undershoot_width=undershoot_width,\n",
    "        measured_ratio = area_neg/area_pos,\n",
    "    ))\n",
    "    \n",
    "df_files = pd.DataFrame(df_files).sort_values(['sigma0', 'sigma1'])"
   ]
  },
  {
   "cell_type": "code",
   "execution_count": 32,
   "metadata": {},
   "outputs": [
    {
     "data": {
      "text/plain": [
       "[<matplotlib.lines.Line2D at 0x1307a5cd0>]"
      ]
     },
     "execution_count": 32,
     "metadata": {},
     "output_type": "execute_result"
    },
    {
     "data": {
      "image/png": "[encoded data removed]",
      "text/plain": [
       "<Figure size 432x288 with 1 Axes>"
      ]
     },
     "metadata": {
      "needs_background": "light"
     },
     "output_type": "display_data"
    }
   ],
   "source": [
    "plt.plot(df_files['sigma0'], df_files['pulse_width'], '.')"
   ]
  },
  {
   "cell_type": "code",
   "execution_count": 33,
   "metadata": {},
   "outputs": [
    {
     "data": {
      "text/plain": [
       "[<matplotlib.lines.Line2D at 0x13085cc10>]"
      ]
     },
     "execution_count": 33,
     "metadata": {},
     "output_type": "execute_result"
    },
    {
     "data": {
      "image/png": "[encoded data removed]",
      "text/plain": [
       "<Figure size 432x288 with 1 Axes>"
      ]
     },
     "metadata": {
      "needs_background": "light"
     },
     "output_type": "display_data"
    }
   ],
   "source": [
    "plt.plot(df_files['sigma1'], df_files['undershoot_width'], '.')"
   ]
  },
  {
   "cell_type": "code",
   "execution_count": 34,
   "metadata": {},
   "outputs": [
    {
     "data": {
      "text/plain": [
       "[<matplotlib.lines.Line2D at 0x13097e610>]"
      ]
     },
     "execution_count": 34,
     "metadata": {},
     "output_type": "execute_result"
    },
    {
     "data": {
      "image/png": "[encoded data removed]",
      "text/plain": [
       "<Figure size 432x288 with 1 Axes>"
      ]
     },
     "metadata": {
      "needs_background": "light"
     },
     "output_type": "display_data"
    }
   ],
   "source": [
    "plt.plot(df_files['ratio'], df_files['measured_ratio'], '.')"
   ]
  },
  {
   "cell_type": "code",
   "execution_count": 35,
   "metadata": {},
   "outputs": [],
   "source": [
    "# # Plot reference pulses\n",
    "# mask = (df_files['sigma0'] == 1) & (df_files['ratio'] == 0.2)\n",
    "# df_refpulse = df_files.loc[mask].iloc[[0, 2, 4, 10, 15, -1]]\n",
    "# for _, row in df_refpulse.iterrows():\n",
    "#     camera = Camera.load(row['camera_path'])\n",
    "#     x = camera.reference_pulse.time\n",
    "#     y = camera.reference_pulse.pulse\n",
    "#     label = f\"Undershoot = {row['undershoot_width']:.2f} ns\"\n",
    "#     plt.plot(x, y, label=label)\n",
    "\n",
    "# plt.legend(loc=1)\n",
    "# plt.xlabel(\"Time (ns)\")\n",
    "# plt.ylabel(\"Amplitude\")\n",
    "# plt.savefig(\"pulses.pdf\")"
   ]
  },
  {
   "cell_type": "code",
   "execution_count": 36,
   "metadata": {},
   "outputs": [],
   "source": [
    "# # Plot CR curves\n",
    "# with tables.File(df_files.iloc[0]['h5_path'], mode='r') as file:\n",
    "#     data = file.root.event[:]\n",
    "#     measured_charge = data['measured_charge']\n",
    "#     true_charge = data['true_charge']\n",
    "# ref_cr_x, ref_cr_y = extract_charge_resolution_mc(measured_charge, true_charge)\n",
    "\n",
    "\n",
    "# for _, row in df_files.iterrows():\n",
    "#     with tables.File(row['h5_path'], mode='r') as file:\n",
    "#         data = file.root.event[:]\n",
    "#         measured_charge = data['measured_charge']\n",
    "#         true_charge = data['true_charge']\n",
    "    \n",
    "#     cr_x, cr_y = extract_charge_resolution_mc(measured_charge, true_charge)\n",
    "#     plt.plot(cr_x, cr_y, label=f\"Undershoot = {row['undershoot_width']:.2f} ns\")\n",
    "\n",
    "# plt.legend(loc='best')\n",
    "# plt.xscale('log')\n",
    "# plt.yscale('log')"
   ]
  },
  {
   "cell_type": "code",
   "execution_count": 37,
   "metadata": {},
   "outputs": [
    {
     "data": {
      "application/vnd.jupyter.widget-view+json": {
       "model_id": "3e14f5f3379e4e92b4356757dd9e5991",
       "version_major": 2,
       "version_minor": 0
      },
      "text/plain": [
       "HBox(children=(FloatProgress(value=0.0, max=750.0), HTML(value='')))"
      ]
     },
     "metadata": {},
     "output_type": "display_data"
    },
    {
     "name": "stdout",
     "output_type": "stream",
     "text": [
      "\n"
     ]
    }
   ],
   "source": [
    "# Extract performance\n",
    "df_list = []\n",
    "for _, row in tqdm(df_files.iterrows(), total=df_files.index.size):\n",
    "    with tables.File(row['h5_path'], mode='r') as file:\n",
    "        data = file.root.event[:]\n",
    "        illumination = data['illumination']\n",
    "        n_triggers = data['n_triggers']\n",
    "        measured_charge = data['measured_charge']\n",
    "        true_charge = data['true_charge']\n",
    "        \n",
    "    # Calibrate charge\n",
    "    mask = (true_charge >= 50) & (true_charge <=500)\n",
    "    coeff = polyfit(true_charge[mask], measured_charge[mask], [1])\n",
    "    measured_charge /= coeff[1]\n",
    "    coeff = polyfit(true_charge[mask], measured_charge[mask], [1])\n",
    "\n",
    "    teff_x, teff_y, teff_yerr = extract_trigger_efficiency(illumination, n_triggers)\n",
    "    teff_50 = np.interp(0.5, teff_y, teff_x)\n",
    "    \n",
    "    cr_x, cr_y = extract_charge_resolution_mc(measured_charge, true_charge)\n",
    "    cr_2pe = np.interp(2, cr_x, cr_y)\n",
    "    cr_100pe = np.interp(100, cr_x, cr_y)\n",
    "        \n",
    "    df_list.append(dict(\n",
    "        ratio=row['ratio'],\n",
    "        sigma0=row['sigma0'],\n",
    "        sigma1=row['sigma1'],\n",
    "        pulse_width=row['pulse_width'],\n",
    "        undershoot_width=row['undershoot_width'],\n",
    "        teff_50=teff_50,\n",
    "        cr_2pe=cr_2pe,\n",
    "        cr_100pe=cr_100pe,\n",
    "    ))"
   ]
  },
  {
   "cell_type": "code",
   "execution_count": 38,
   "metadata": {},
   "outputs": [],
   "source": [
    "df = pd.DataFrame(df_list)"
   ]
  },
  {
   "cell_type": "code",
   "execution_count": 39,
   "metadata": {},
   "outputs": [],
   "source": [
    "# CREATE NEW\n",
    "\n",
    "# with pd.HDFStore(\"performance.h5\") as store:\n",
    "#     store['data'] = df"
   ]
  },
  {
   "cell_type": "code",
   "execution_count": 40,
   "metadata": {},
   "outputs": [],
   "source": [
    "# APPEND\n",
    "\n",
    "with pd.HDFStore(\"performance.h5\") as store:\n",
    "    df_old = store['data']\n",
    "    df_concat = pd.concat([df, df_old], ignore_index=True)\n",
    "    store['data'] = df_concat"
   ]
  },
  {
   "cell_type": "code",
   "execution_count": null,
   "metadata": {},
   "outputs": [],
   "source": []
  }
 ],
 "metadata": {
  "kernelspec": {
   "display_name": "Python [conda env:cta] *",
   "language": "python",
   "name": "conda-env-cta-py"
  },
  "language_info": {
   "codemirror_mode": {
    "name": "ipython",
    "version": 3
   },
   "file_extension": ".py",
   "mimetype": "text/x-python",
   "name": "python",
   "nbconvert_exporter": "python",
   "pygments_lexer": "ipython3",
   "version": "3.7.5"
  }
 },
 "nbformat": 4,
 "nbformat_minor": 4
}
