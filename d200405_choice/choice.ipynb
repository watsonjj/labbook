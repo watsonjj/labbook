{
 "cells": [
  {
   "cell_type": "markdown",
   "metadata": {},
   "source": [
    "# A Vectorised `np.random.choice`\n",
    "In order to fluctuate the charge measured by a photosensor according to its response, I often employ `np.random.choice` with the probabilities defined by the the photosensor's single photoelectron spectrum.\n",
    "\n",
    "However, the SST camera has many pixels, each pixel acting as its own photosensor. I wish to develop a version of `np.random.choice` which fluctuates the charge measured by each pixel in order to simulate a full event efficiently\n",
    "\n",
    "## Step 1: Defining the PDF\n",
    "I begin by defining the single photoelectron spectrum of an SiPM, using the Gentile description (http://adsabs.harvard.edu/abs/2010arXiv1006.3263G)"
   ]
  },
  {
   "cell_type": "code",
   "execution_count": 10,
   "metadata": {},
   "outputs": [],
   "source": [
    "from numba import njit, vectorize, float64, guvectorize, int64, float32\n",
    "import numpy as np\n",
    "from matplotlib import pyplot as plt\n",
    "%matplotlib inline"
   ]
  },
  {
   "cell_type": "code",
   "execution_count": 11,
   "metadata": {},
   "outputs": [],
   "source": [
    "SQRT2PI = np.sqrt(2.0 * np.pi)\n",
    "@vectorize([float64(float64, float64, float64)], fastmath=True)\n",
    "def normal_pdf(x, mean, std_deviation):\n",
    "    u = (x - mean) / std_deviation\n",
    "    return np.exp(-0.5 * u ** 2) / (SQRT2PI * std_deviation)"
   ]
  },
  {
   "cell_type": "code",
   "execution_count": 12,
   "metadata": {},
   "outputs": [],
   "source": [
    "@njit(fastmath=True)\n",
    "def sipm_gentile_spe(x, spe_sigma, opct):\n",
    "    pe_signal = np.zeros(x.size)\n",
    "    # Loop over the possible total number of cells fired\n",
    "    for k in range(1, 250):\n",
    "        pk = (1-opct) * pow(opct, k-1)\n",
    "        pe_sigma = np.sqrt(k * spe_sigma ** 2)\n",
    "        pe_signal += pk * normal_pdf(x, k, pe_sigma)\n",
    "\n",
    "    return pe_signal"
   ]
  },
  {
   "cell_type": "code",
   "execution_count": 13,
   "metadata": {},
   "outputs": [
    {
     "data": {
      "text/plain": [
       "[<matplotlib.lines.Line2D at 0x622331090>]"
      ]
     },
     "execution_count": 13,
     "metadata": {},
     "output_type": "execute_result"
    },
    {
     "data": {
      "image/png": "[encoded data removed]",
      "text/plain": [
       "<Figure size 432x288 with 1 Axes>"
      ]
     },
     "metadata": {
      "needs_background": "light"
     },
     "output_type": "display_data"
    }
   ],
   "source": [
    "x_pdf = np.linspace(0, 20, 20000)\n",
    "y_pdf = sipm_gentile_spe(x_pdf, 0.1, 0.2)\n",
    "\n",
    "# Normalize\n",
    "x_scale = np.average(x_pdf, weights=y_pdf)\n",
    "y_scale = y_pdf.sum()\n",
    "x_pdf /= x_scale\n",
    "y_pdf /= y_scale\n",
    "\n",
    "plt.semilogy(x_pdf, y_pdf)"
   ]
  },
  {
   "cell_type": "markdown",
   "metadata": {},
   "source": [
    "## Step 2: Demonstration of Normal Use\n",
    "If I wished to extract from this distribution for a single photosensor pixel, I can do the following:"
   ]
  },
  {
   "cell_type": "code",
   "execution_count": 14,
   "metadata": {},
   "outputs": [
    {
     "name": "stdout",
     "output_type": "stream",
     "text": [
      "Mean = 0.9994337476879047\n"
     ]
    },
    {
     "data": {
      "image/png": "[encoded data removed]",
      "text/plain": [
       "<Figure size 432x288 with 1 Axes>"
      ]
     },
     "metadata": {
      "needs_background": "light"
     },
     "output_type": "display_data"
    }
   ],
   "source": [
    "n_pe = 50000\n",
    "charges = np.random.choice(x_pdf, size=(n_pe), p=y_pdf)\n",
    "_ = plt.hist(charges, bins=100)\n",
    "print(f\"Mean = {charges.mean()}\")"
   ]
  },
  {
   "cell_type": "code",
   "execution_count": 15,
   "metadata": {},
   "outputs": [
    {
     "name": "stdout",
     "output_type": "stream",
     "text": [
      "(2048, 500)\n"
     ]
    }
   ],
   "source": [
    "# Simple handling of n_pixels\n",
    "n_pe = 500\n",
    "n_pixels = 2048\n",
    "charges = np.random.choice(x_pdf, size=(n_pixels, n_pe), p=y_pdf)\n",
    "print(charges.shape)"
   ]
  },
  {
   "cell_type": "markdown",
   "metadata": {},
   "source": [
    "The problem with the previous approach is that every pixel is specified with the same number of photoelectrons. This is rarely the case we want to simulate."
   ]
  },
  {
   "cell_type": "markdown",
   "metadata": {},
   "source": [
    "## Step 3: Alternative to np.random.choice\n",
    "Normally in this situation, I would resort to numba, allowing me to perform an optimised for loop (or vectorization) across the pixels. However, this is not possible to do with `np.random.choice`, as the `p` option is not presently supported by numba:\n",
    "https://github.com/numba/numba/issues/2539\n",
    "\n",
    "However, also in the above issue, an alternative implementation is described. This approach uses the concept of [\"Inverse Transform Sampling\"](https://en.wikipedia.org/wiki/Inverse_transform_sampling), which is the technical term for what we are trying to achieve here. It transforms the Probability Density Function into its Cumulative Density Function (CFD), gets a random number between 0 and 1, finds the sample on the CDF that corresponds to the random number, and the returns the corresponding x value for that sample."
   ]
  },
  {
   "cell_type": "code",
   "execution_count": 16,
   "metadata": {},
   "outputs": [],
   "source": [
    "@njit\n",
    "def rand_choice_nb(arr, prob):\n",
    "    \"\"\"\n",
    "    :param arr: A 1D numpy array of values to sample from.\n",
    "    :param prob: A 1D numpy array of probabilities for the given samples.\n",
    "    :return: A random sample from the given array with a given probability.\n",
    "    \"\"\"\n",
    "    return arr[np.searchsorted(np.cumsum(prob), np.random.random(), side=\"right\")]"
   ]
  },
  {
   "cell_type": "code",
   "execution_count": 17,
   "metadata": {},
   "outputs": [
    {
     "name": "stdout",
     "output_type": "stream",
     "text": [
      "236 µs ± 1.97 µs per loop (mean ± std. dev. of 7 runs, 1000 loops each)\n",
      "31.1 µs ± 3.97 µs per loop (mean ± std. dev. of 7 runs, 1 loop each)\n"
     ]
    }
   ],
   "source": [
    "%timeit np.random.choice(x_pdf, p=y_pdf)\n",
    "%timeit rand_choice_nb(x_pdf, y_pdf)"
   ]
  },
  {
   "cell_type": "markdown",
   "metadata": {},
   "source": [
    "Initial results are promising! The alternative implementation (when decorated with `@njit` is a factor of 10 faster than `np.random.choice`. Now we need to extend it to hand n_pe"
   ]
  },
  {
   "cell_type": "code",
   "execution_count": 18,
   "metadata": {},
   "outputs": [],
   "source": [
    "y_cdf = np.cumsum(y_pdf)"
   ]
  },
  {
   "cell_type": "code",
   "execution_count": 19,
   "metadata": {},
   "outputs": [
    {
     "data": {
      "text/plain": [
       "array([ 957, 1020, 1115,  897, 4357, 1067, 1064, 1011,  918, 1180, 1845,\n",
       "       1021, 2246,  933, 1832, 1008, 1103, 1809, 2006,  987,  814, 1068,\n",
       "       1902,  818, 1042,  925,  843, 1034, 1090, 1119, 1994,  991,  909,\n",
       "       1018,  950, 1944, 1068,  855, 1083, 2899,  946,  965,  933, 1145,\n",
       "       1165, 1920, 1052, 1606,  874, 1121,  999, 1108, 1011,  986, 3087,\n",
       "       1042,  976,  885,  999, 1009,  735, 1126,  977,  942,  999,  986,\n",
       "       1012, 1049,  955, 1074, 1888, 1128, 1059, 1073, 2133,  929, 2178,\n",
       "       1120, 1037,  862, 1058, 1098,  932,  970,  907,  951,  974, 1177,\n",
       "       1027, 2001, 1027,  984, 1044,  895, 3342, 2901, 1100,  650,  822,\n",
       "        947])"
      ]
     },
     "execution_count": 19,
     "metadata": {},
     "output_type": "execute_result"
    }
   ],
   "source": [
    "np.searchsorted(y_cdf, np.random.random(100), side=\"right\")"
   ]
  },
  {
   "cell_type": "code",
   "execution_count": 20,
   "metadata": {},
   "outputs": [],
   "source": [
    "@njit(fastmath=True)\n",
    "def choice_nb_npe(x, n_pe, cdf):\n",
    "    charges = x[np.searchsorted(cdf, np.random.random(n_pe), side=\"right\")]\n",
    "    return charges"
   ]
  },
  {
   "cell_type": "code",
   "execution_count": 21,
   "metadata": {},
   "outputs": [
    {
     "name": "stdout",
     "output_type": "stream",
     "text": [
      "Mean = 0.9981891414575925\n"
     ]
    },
    {
     "data": {
      "image/png": "[encoded data removed]",
      "text/plain": [
       "<Figure size 432x288 with 1 Axes>"
      ]
     },
     "metadata": {
      "needs_background": "light"
     },
     "output_type": "display_data"
    }
   ],
   "source": [
    "n_pe = 50000\n",
    "charges = choice_nb_npe(x_pdf, n_pe, y_cdf)\n",
    "_ = plt.hist(charges, bins=100)\n",
    "print(f\"Mean = {charges.mean()}\")"
   ]
  },
  {
   "cell_type": "code",
   "execution_count": 22,
   "metadata": {},
   "outputs": [
    {
     "data": {
      "text/plain": [
       "array([1.e+01, 1.e+06])"
      ]
     },
     "execution_count": 22,
     "metadata": {},
     "output_type": "execute_result"
    }
   ],
   "source": [
    "np.logspace(1, 6, 2)"
   ]
  },
  {
   "cell_type": "code",
   "execution_count": 23,
   "metadata": {},
   "outputs": [
    {
     "data": {
      "text/plain": [
       "<matplotlib.legend.Legend at 0x6245e5a50>"
      ]
     },
     "execution_count": 23,
     "metadata": {},
     "output_type": "execute_result"
    },
    {
     "data": {
      "image/png": "[encoded data removed]",
      "text/plain": [
       "<Figure size 432x288 with 1 Axes>"
      ]
     },
     "metadata": {
      "needs_background": "light"
     },
     "output_type": "display_data"
    }
   ],
   "source": [
    "# Test scalabilty of methods\n",
    "\n",
    "choice_nb_npe(x_pdf, 1, y_cdf) # ensure compiled\n",
    "\n",
    "n_pe_array = np.logspace(1, 7, 10, dtype=np.int)\n",
    "times_np = []\n",
    "times_nb = []\n",
    "for n_pe in n_pe_array:\n",
    "    time_np = %timeit -q -o -r 1 -n 10 np.random.choice(x_pdf, size=n_pe, p=y_pdf)\n",
    "    time_nb = %timeit -q -o -r 1 -n 10 choice_nb_npe(x_pdf, n_pe, y_cdf)\n",
    "    times_np.append(time_np.average)\n",
    "    times_nb.append(time_nb.average)\n",
    "plt.plot(n_pe_array, times_np, label=\"np.random.choice\")\n",
    "plt.plot(n_pe_array, times_nb, label=\"numba\")\n",
    "plt.xscale(\"log\")\n",
    "plt.yscale(\"log\")\n",
    "plt.xlabel(\"Number of Photoelectrons\")\n",
    "plt.ylabel(\"Time (seconds)\")\n",
    "plt.legend(loc='best')"
   ]
  },
  {
   "cell_type": "markdown",
   "metadata": {},
   "source": [
    "Both algorithms are O(n log n) in complexity, with the numpy method containing an additional scalar constant runtime. This makes sense, as a delve into the source code of numpy reveals that they essentially use the same approach in the definition of `np.random.choice`:\n",
    "https://github.com/numpy/numpy/blob/569dfcd79aeb2a584e008861e5e29b7b5115d94e/numpy/random/_generator.pyx#L661\n",
    "\n",
    "Therefore our numba algorithm is a fair replacement for `np.random.choice`."
   ]
  },
  {
   "cell_type": "markdown",
   "metadata": {},
   "source": [
    "## Step 4: Sampling each pixel individually\n",
    "Now that we have a working algorithm that we have full control over, lets address the original problem where we have a different charge per pixel:"
   ]
  },
  {
   "cell_type": "code",
   "execution_count": 24,
   "metadata": {},
   "outputs": [],
   "source": [
    "n_pe = np.full(2048, 1, dtype=np.int)"
   ]
  },
  {
   "cell_type": "code",
   "execution_count": 25,
   "metadata": {},
   "outputs": [],
   "source": [
    "@njit(fastmath=True)\n",
    "def choice_nb_pixels(x, n_pe, cdf):\n",
    "    n_pixels = n_pe.size\n",
    "    charges = np.zeros(n_pixels)\n",
    "    for ipix in range(n_pixels):\n",
    "        charges[ipix] = x[np.searchsorted(cdf, np.random.random(n_pe[ipix]), side=\"right\")].sum()\n",
    "    return charges"
   ]
  },
  {
   "cell_type": "code",
   "execution_count": 26,
   "metadata": {},
   "outputs": [
    {
     "data": {
      "image/png": "[encoded data removed]",
      "text/plain": [
       "<Figure size 432x288 with 1 Axes>"
      ]
     },
     "metadata": {
      "needs_background": "light"
     },
     "output_type": "display_data"
    }
   ],
   "source": [
    "charges = choice_nb_pixels(x_pdf, n_pe, y_cdf)\n",
    "_ = plt.hist(charges, bins=100)"
   ]
  },
  {
   "cell_type": "code",
   "execution_count": 27,
   "metadata": {},
   "outputs": [],
   "source": [
    "@guvectorize([(float64[:], int64, float64[:], float64[:])], \"(n),(),(n)->()\", fastmath=True)\n",
    "def choice_nb_pixels_vectorized(x, n_pe, cdf, ret):\n",
    "    ret[0] = x[np.searchsorted(cdf, np.random.random(n_pe), side=\"right\")].sum()"
   ]
  },
  {
   "cell_type": "code",
   "execution_count": 28,
   "metadata": {},
   "outputs": [
    {
     "data": {
      "image/png": "[encoded data removed]",
      "text/plain": [
       "<Figure size 432x288 with 1 Axes>"
      ]
     },
     "metadata": {
      "needs_background": "light"
     },
     "output_type": "display_data"
    }
   ],
   "source": [
    "charges = choice_nb_pixels_vectorized(x_pdf, n_pe, y_cdf)\n",
    "_ = plt.hist(charges, bins=100)"
   ]
  },
  {
   "cell_type": "code",
   "execution_count": 29,
   "metadata": {},
   "outputs": [
    {
     "name": "stdout",
     "output_type": "stream",
     "text": [
      "21.2 ms ± 441 µs per loop (mean ± std. dev. of 7 runs, 10 loops each)\n",
      "18.4 ms ± 153 µs per loop (mean ± std. dev. of 7 runs, 100 loops each)\n"
     ]
    }
   ],
   "source": [
    "n_pe = np.full(2048, 100, dtype=np.int)\n",
    "%timeit choice_nb_pixels(x_pdf, n_pe, y_cdf)\n",
    "%timeit choice_nb_pixels_vectorized(x_pdf, n_pe, y_cdf)"
   ]
  },
  {
   "cell_type": "code",
   "execution_count": null,
   "metadata": {},
   "outputs": [],
   "source": []
  }
 ],
 "metadata": {
  "kernelspec": {
   "display_name": "Python [conda env:cta] *",
   "language": "python",
   "name": "conda-env-cta-py"
  },
  "language_info": {
   "codemirror_mode": {
    "name": "ipython",
    "version": 3
   },
   "file_extension": ".py",
   "mimetype": "text/x-python",
   "name": "python",
   "nbconvert_exporter": "python",
   "pygments_lexer": "ipython3",
   "version": "3.7.5"
  }
 },
 "nbformat": 4,
 "nbformat_minor": 4
}
